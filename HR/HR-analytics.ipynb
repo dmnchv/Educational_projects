{
 "cells": [
  {
   "cell_type": "markdown",
   "id": "f5855a7f-16f6-4ff2-90ef-f6ae4cc1e5e4",
   "metadata": {},
   "source": [
    "HR-аналитики компании \"Работа с заботой\" помогают бизнесу оптимизировать управление персооналом. Компания предоставила данные с характеристиками сотрудников и сформулировала следующие задачи:\n",
    "* Построить модель, которая сможет предсказать уровень удовлетворенности сотрудника на основе данных заказчика. \n",
    "* Построить модель, которая сможет на основе данных заказчика предсказать то, что сотрудник уволится из компании.\n",
    "Реализация данных задач позволит компании предсказать отток сотрудников. Это важно, так как внизапное увольненние несут в себе риски для компании."
   ]
  },
  {
   "cell_type": "code",
   "execution_count": 5,
   "id": "380a9dec-bc00-4aa3-b36a-c04e2e00148e",
   "metadata": {},
   "outputs": [],
   "source": [
    "# Импорт необходимых библиотек\n",
    "\n",
    "import pandas as pd\n",
    "import matplotlib.pyplot as plt\n",
    "import numpy as np\n",
    "import seaborn as sb\n",
    "\n",
    "import phik\n",
    "from phik import resources\n",
    "from phik.binning import bin_data\n",
    "from phik.report import plot_correlation_matrix\n",
    "\n",
    "# импорт библиотек для работы с моделью\n",
    "# методы масштабирования\n",
    "from sklearn.preprocessing import StandardScaler \n",
    "from sklearn.preprocessing import MinMaxScaler \n",
    "\n",
    "# методы кодирования \n",
    "from sklearn.preprocessing import OneHotEncoder, OrdinalEncoder \n",
    "from sklearn.preprocessing import LabelEncoder\n",
    "\n",
    "# подготовка модели\n",
    "from sklearn.model_selection import train_test_split \n",
    "from sklearn.pipeline import Pipeline\n",
    "from sklearn.compose import ColumnTransformer\n",
    "from sklearn.impute import SimpleImputer \n",
    "\n",
    "# модели\n",
    "from sklearn.linear_model import LinearRegression \n",
    "from sklearn.tree import DecisionTreeRegressor\n",
    "from sklearn.tree import DecisionTreeClassifier\n",
    "from sklearn.neighbors import KNeighborsClassifier\n",
    "from sklearn.linear_model import LogisticRegression\n",
    "from sklearn.svm import SVR\n",
    "from sklearn.svm import SVC\n",
    "\n",
    "# перебор параметров\n",
    "from sklearn.model_selection import GridSearchCV\n",
    "from sklearn.model_selection import RandomizedSearchCV\n",
    "\n",
    "# оценка модели\n",
    "import shap\n",
    "from sklearn.metrics import roc_auc_score\n",
    "from sklearn.metrics import make_scorer\n",
    "from sklearn.metrics import mean_squared_error \n",
    "\n",
    "import scipy.stats as stats"
   ]
  },
  {
   "cell_type": "code",
   "execution_count": 6,
   "id": "ed6427be-5f76-45ae-afd4-edccb172c75c",
   "metadata": {},
   "outputs": [],
   "source": [
    "# данные для задачи 1\n",
    "try:\n",
    "    test_features = pd.read_csv('/Users/....csv', sep=',', decimal='.') # путь к файлу на компьютере, для работы оффлайн    \n",
    "except:\n",
    "    test_features = pd.read_csv('https://....csv', sep=',', decimal='.') # если путь к файлу на компьютере не доступен, работа с файлом ведется с сайта яндекса\n",
    "try:\n",
    "    test_target_sat = pd.read_csv('/Users/....csv', sep=',', decimal='.')    \n",
    "except:\n",
    "    test_target_sat = pd.read_csv('https://....csv', sep=',', decimal='.')\n",
    "try:\n",
    "    train_feature_sat = pd.read_csv('/Users/....csv', sep=',', decimal='.')\n",
    "except:\n",
    "    train_feature_sat = pd.read_csv('https://....csv', sep=',', decimal='.')\n",
    "\n",
    "# данные для задачи 2\n",
    "try:\n",
    "    train_quit= pd.read_csv('/Users/....csv', sep=',', decimal='.')\n",
    "except:\n",
    "    train_quit = pd.read_csv('https://.....csv', sep=',', decimal='.')\n",
    "try:\n",
    "    test_target_quit = pd.read_csv('/Users/....csv', sep=',', decimal='.')\n",
    "except:\n",
    "    test_target_quit = pd.read_csv('https://....csv', sep=',', decimal='.')"
   ]
  },
  {
   "cell_type": "markdown",
   "id": "fedf6736-2824-4691-ad1f-f90546c4ea56",
   "metadata": {},
   "source": [
    "# Задача 1: предсказание уровня удовлетворенности сотрудников"
   ]
  },
  {
   "cell_type": "markdown",
   "id": "4c36728e-61ea-4926-b9e7-e53442d50215",
   "metadata": {},
   "source": [
    "## Предобработка данных"
   ]
  },
  {
   "cell_type": "markdown",
   "id": "706c8853-b069-4790-8d40-dfe07fa101b8",
   "metadata": {},
   "source": [
    "Для построения первой модели необходимо использовать таблицы:       \n",
    "test_features - входные признаки тестовой выборки (Таблица test_features)  \n",
    "train_feature_sat - тренировочная выборка (Таблица train_job_satisfaction_rate)  \n",
    "test_target_sat - целевой признак тестовой выборки (Таблица test_target_job_satisfaction_rate)"
   ]
  },
  {
   "cell_type": "markdown",
   "id": "2608cac4-12e4-467a-8071-ec14d4143277",
   "metadata": {},
   "source": [
    "*По условию задачи пропуски необходимо заполнить в пайплайне."
   ]
  },
  {
   "cell_type": "markdown",
   "id": "e0b8b485-64e7-4931-a0f5-987d992000a4",
   "metadata": {},
   "source": [
    "### Основная информация о таблицах"
   ]
  },
  {
   "cell_type": "code",
   "execution_count": 7,
   "id": "0b26aa44-b742-4221-ad01-a62816b770ce",
   "metadata": {},
   "outputs": [
    {
     "name": "stdout",
     "output_type": "stream",
     "text": [
      "<class 'pandas.core.frame.DataFrame'>\n",
      "RangeIndex: 2000 entries, 0 to 1999\n",
      "Data columns (total 9 columns):\n",
      " #   Column                 Non-Null Count  Dtype \n",
      "---  ------                 --------------  ----- \n",
      " 0   id                     2000 non-null   int64 \n",
      " 1   dept                   1998 non-null   object\n",
      " 2   level                  1999 non-null   object\n",
      " 3   workload               2000 non-null   object\n",
      " 4   employment_years       2000 non-null   int64 \n",
      " 5   last_year_promo        2000 non-null   object\n",
      " 6   last_year_violations   2000 non-null   object\n",
      " 7   supervisor_evaluation  2000 non-null   int64 \n",
      " 8   salary                 2000 non-null   int64 \n",
      "dtypes: int64(4), object(5)\n",
      "memory usage: 140.8+ KB\n"
     ]
    }
   ],
   "source": [
    "test_features.info()"
   ]
  },
  {
   "cell_type": "markdown",
   "id": "d8f1d244-14ea-467f-bc0e-addf8db2f5fe",
   "metadata": {},
   "source": [
    "Таблица test_features cодержит 9 столбцов. Есть пропуски в столбцах \"отдел, в котором работает сотрудник\" (dept) и \"уровень занимаемой должности\" (level).  "
   ]
  },
  {
   "cell_type": "code",
   "execution_count": 8,
   "id": "219d27e3-2ad1-4855-bacc-eecd9d7e1db1",
   "metadata": {},
   "outputs": [
    {
     "name": "stdout",
     "output_type": "stream",
     "text": [
      "<class 'pandas.core.frame.DataFrame'>\n",
      "RangeIndex: 2000 entries, 0 to 1999\n",
      "Data columns (total 2 columns):\n",
      " #   Column                 Non-Null Count  Dtype  \n",
      "---  ------                 --------------  -----  \n",
      " 0   id                     2000 non-null   int64  \n",
      " 1   job_satisfaction_rate  2000 non-null   float64\n",
      "dtypes: float64(1), int64(1)\n",
      "memory usage: 31.4 KB\n"
     ]
    }
   ],
   "source": [
    "test_target_sat.info()"
   ]
  },
  {
   "cell_type": "markdown",
   "id": "4a9e1304-168c-4202-915f-3be117db73dd",
   "metadata": {},
   "source": [
    "В таблице с целевым признаком пропусков нет. "
   ]
  },
  {
   "cell_type": "code",
   "execution_count": 9,
   "id": "14c7ec8a-d3f8-4e9e-97d2-d0dd333b3e78",
   "metadata": {},
   "outputs": [
    {
     "name": "stdout",
     "output_type": "stream",
     "text": [
      "<class 'pandas.core.frame.DataFrame'>\n",
      "RangeIndex: 4000 entries, 0 to 3999\n",
      "Data columns (total 10 columns):\n",
      " #   Column                 Non-Null Count  Dtype  \n",
      "---  ------                 --------------  -----  \n",
      " 0   id                     4000 non-null   int64  \n",
      " 1   dept                   3994 non-null   object \n",
      " 2   level                  3996 non-null   object \n",
      " 3   workload               4000 non-null   object \n",
      " 4   employment_years       4000 non-null   int64  \n",
      " 5   last_year_promo        4000 non-null   object \n",
      " 6   last_year_violations   4000 non-null   object \n",
      " 7   supervisor_evaluation  4000 non-null   int64  \n",
      " 8   salary                 4000 non-null   int64  \n",
      " 9   job_satisfaction_rate  4000 non-null   float64\n",
      "dtypes: float64(1), int64(4), object(5)\n",
      "memory usage: 312.6+ KB\n"
     ]
    }
   ],
   "source": [
    "train_feature_sat.info()"
   ]
  },
  {
   "cell_type": "markdown",
   "id": "604da714-e148-40f7-85c8-3c1c695fe74c",
   "metadata": {},
   "source": [
    "В таблице c тренировочной выборкой пропусков значений нет. "
   ]
  },
  {
   "cell_type": "markdown",
   "id": "9b1ab621-cd7d-4039-9188-fef61f4402d1",
   "metadata": {},
   "source": [
    "Выведем по пять строк каждой таблицы."
   ]
  },
  {
   "cell_type": "code",
   "execution_count": 10,
   "id": "eccf1c33-bc9e-4824-ba23-c182d63198bf",
   "metadata": {},
   "outputs": [
    {
     "data": {
      "text/html": [
       "<div>\n",
       "<style scoped>\n",
       "    .dataframe tbody tr th:only-of-type {\n",
       "        vertical-align: middle;\n",
       "    }\n",
       "\n",
       "    .dataframe tbody tr th {\n",
       "        vertical-align: top;\n",
       "    }\n",
       "\n",
       "    .dataframe thead th {\n",
       "        text-align: right;\n",
       "    }\n",
       "</style>\n",
       "<table border=\"1\" class=\"dataframe\">\n",
       "  <thead>\n",
       "    <tr style=\"text-align: right;\">\n",
       "      <th></th>\n",
       "      <th>id</th>\n",
       "      <th>dept</th>\n",
       "      <th>level</th>\n",
       "      <th>workload</th>\n",
       "      <th>employment_years</th>\n",
       "      <th>last_year_promo</th>\n",
       "      <th>last_year_violations</th>\n",
       "      <th>supervisor_evaluation</th>\n",
       "      <th>salary</th>\n",
       "    </tr>\n",
       "  </thead>\n",
       "  <tbody>\n",
       "    <tr>\n",
       "      <th>0</th>\n",
       "      <td>485046</td>\n",
       "      <td>marketing</td>\n",
       "      <td>junior</td>\n",
       "      <td>medium</td>\n",
       "      <td>2</td>\n",
       "      <td>no</td>\n",
       "      <td>no</td>\n",
       "      <td>5</td>\n",
       "      <td>28800</td>\n",
       "    </tr>\n",
       "    <tr>\n",
       "      <th>1</th>\n",
       "      <td>686555</td>\n",
       "      <td>hr</td>\n",
       "      <td>junior</td>\n",
       "      <td>medium</td>\n",
       "      <td>1</td>\n",
       "      <td>no</td>\n",
       "      <td>no</td>\n",
       "      <td>4</td>\n",
       "      <td>30000</td>\n",
       "    </tr>\n",
       "    <tr>\n",
       "      <th>2</th>\n",
       "      <td>467458</td>\n",
       "      <td>sales</td>\n",
       "      <td>middle</td>\n",
       "      <td>low</td>\n",
       "      <td>5</td>\n",
       "      <td>no</td>\n",
       "      <td>no</td>\n",
       "      <td>4</td>\n",
       "      <td>19200</td>\n",
       "    </tr>\n",
       "    <tr>\n",
       "      <th>3</th>\n",
       "      <td>418655</td>\n",
       "      <td>sales</td>\n",
       "      <td>middle</td>\n",
       "      <td>low</td>\n",
       "      <td>6</td>\n",
       "      <td>no</td>\n",
       "      <td>no</td>\n",
       "      <td>4</td>\n",
       "      <td>19200</td>\n",
       "    </tr>\n",
       "    <tr>\n",
       "      <th>4</th>\n",
       "      <td>789145</td>\n",
       "      <td>hr</td>\n",
       "      <td>middle</td>\n",
       "      <td>medium</td>\n",
       "      <td>5</td>\n",
       "      <td>no</td>\n",
       "      <td>no</td>\n",
       "      <td>5</td>\n",
       "      <td>40800</td>\n",
       "    </tr>\n",
       "  </tbody>\n",
       "</table>\n",
       "</div>"
      ],
      "text/plain": [
       "       id       dept   level workload  employment_years last_year_promo  \\\n",
       "0  485046  marketing  junior   medium                 2              no   \n",
       "1  686555         hr  junior   medium                 1              no   \n",
       "2  467458      sales  middle      low                 5              no   \n",
       "3  418655      sales  middle      low                 6              no   \n",
       "4  789145         hr  middle   medium                 5              no   \n",
       "\n",
       "  last_year_violations  supervisor_evaluation  salary  \n",
       "0                   no                      5   28800  \n",
       "1                   no                      4   30000  \n",
       "2                   no                      4   19200  \n",
       "3                   no                      4   19200  \n",
       "4                   no                      5   40800  "
      ]
     },
     "execution_count": 10,
     "metadata": {},
     "output_type": "execute_result"
    }
   ],
   "source": [
    "test_features.head(5)"
   ]
  },
  {
   "cell_type": "code",
   "execution_count": 11,
   "id": "8f2fdf49-9fae-4c74-95a9-97f3c5860958",
   "metadata": {
    "scrolled": true
   },
   "outputs": [
    {
     "data": {
      "text/html": [
       "<div>\n",
       "<style scoped>\n",
       "    .dataframe tbody tr th:only-of-type {\n",
       "        vertical-align: middle;\n",
       "    }\n",
       "\n",
       "    .dataframe tbody tr th {\n",
       "        vertical-align: top;\n",
       "    }\n",
       "\n",
       "    .dataframe thead th {\n",
       "        text-align: right;\n",
       "    }\n",
       "</style>\n",
       "<table border=\"1\" class=\"dataframe\">\n",
       "  <thead>\n",
       "    <tr style=\"text-align: right;\">\n",
       "      <th></th>\n",
       "      <th>id</th>\n",
       "      <th>job_satisfaction_rate</th>\n",
       "    </tr>\n",
       "  </thead>\n",
       "  <tbody>\n",
       "    <tr>\n",
       "      <th>0</th>\n",
       "      <td>130604</td>\n",
       "      <td>0.74</td>\n",
       "    </tr>\n",
       "    <tr>\n",
       "      <th>1</th>\n",
       "      <td>825977</td>\n",
       "      <td>0.75</td>\n",
       "    </tr>\n",
       "    <tr>\n",
       "      <th>2</th>\n",
       "      <td>418490</td>\n",
       "      <td>0.60</td>\n",
       "    </tr>\n",
       "    <tr>\n",
       "      <th>3</th>\n",
       "      <td>555320</td>\n",
       "      <td>0.72</td>\n",
       "    </tr>\n",
       "    <tr>\n",
       "      <th>4</th>\n",
       "      <td>826430</td>\n",
       "      <td>0.08</td>\n",
       "    </tr>\n",
       "  </tbody>\n",
       "</table>\n",
       "</div>"
      ],
      "text/plain": [
       "       id  job_satisfaction_rate\n",
       "0  130604                   0.74\n",
       "1  825977                   0.75\n",
       "2  418490                   0.60\n",
       "3  555320                   0.72\n",
       "4  826430                   0.08"
      ]
     },
     "execution_count": 11,
     "metadata": {},
     "output_type": "execute_result"
    }
   ],
   "source": [
    "test_target_sat.head(5)"
   ]
  },
  {
   "cell_type": "code",
   "execution_count": 12,
   "id": "d58c2cff-4649-4bb9-81e5-9d252c64a2b2",
   "metadata": {},
   "outputs": [
    {
     "data": {
      "text/html": [
       "<div>\n",
       "<style scoped>\n",
       "    .dataframe tbody tr th:only-of-type {\n",
       "        vertical-align: middle;\n",
       "    }\n",
       "\n",
       "    .dataframe tbody tr th {\n",
       "        vertical-align: top;\n",
       "    }\n",
       "\n",
       "    .dataframe thead th {\n",
       "        text-align: right;\n",
       "    }\n",
       "</style>\n",
       "<table border=\"1\" class=\"dataframe\">\n",
       "  <thead>\n",
       "    <tr style=\"text-align: right;\">\n",
       "      <th></th>\n",
       "      <th>id</th>\n",
       "      <th>dept</th>\n",
       "      <th>level</th>\n",
       "      <th>workload</th>\n",
       "      <th>employment_years</th>\n",
       "      <th>last_year_promo</th>\n",
       "      <th>last_year_violations</th>\n",
       "      <th>supervisor_evaluation</th>\n",
       "      <th>salary</th>\n",
       "      <th>job_satisfaction_rate</th>\n",
       "    </tr>\n",
       "  </thead>\n",
       "  <tbody>\n",
       "    <tr>\n",
       "      <th>0</th>\n",
       "      <td>155278</td>\n",
       "      <td>sales</td>\n",
       "      <td>junior</td>\n",
       "      <td>medium</td>\n",
       "      <td>2</td>\n",
       "      <td>no</td>\n",
       "      <td>no</td>\n",
       "      <td>1</td>\n",
       "      <td>24000</td>\n",
       "      <td>0.58</td>\n",
       "    </tr>\n",
       "    <tr>\n",
       "      <th>1</th>\n",
       "      <td>653870</td>\n",
       "      <td>hr</td>\n",
       "      <td>junior</td>\n",
       "      <td>high</td>\n",
       "      <td>2</td>\n",
       "      <td>no</td>\n",
       "      <td>no</td>\n",
       "      <td>5</td>\n",
       "      <td>38400</td>\n",
       "      <td>0.76</td>\n",
       "    </tr>\n",
       "    <tr>\n",
       "      <th>2</th>\n",
       "      <td>184592</td>\n",
       "      <td>sales</td>\n",
       "      <td>junior</td>\n",
       "      <td>low</td>\n",
       "      <td>1</td>\n",
       "      <td>no</td>\n",
       "      <td>no</td>\n",
       "      <td>2</td>\n",
       "      <td>12000</td>\n",
       "      <td>0.11</td>\n",
       "    </tr>\n",
       "    <tr>\n",
       "      <th>3</th>\n",
       "      <td>171431</td>\n",
       "      <td>technology</td>\n",
       "      <td>junior</td>\n",
       "      <td>low</td>\n",
       "      <td>4</td>\n",
       "      <td>no</td>\n",
       "      <td>no</td>\n",
       "      <td>2</td>\n",
       "      <td>18000</td>\n",
       "      <td>0.37</td>\n",
       "    </tr>\n",
       "    <tr>\n",
       "      <th>4</th>\n",
       "      <td>693419</td>\n",
       "      <td>hr</td>\n",
       "      <td>junior</td>\n",
       "      <td>medium</td>\n",
       "      <td>1</td>\n",
       "      <td>no</td>\n",
       "      <td>no</td>\n",
       "      <td>3</td>\n",
       "      <td>22800</td>\n",
       "      <td>0.20</td>\n",
       "    </tr>\n",
       "  </tbody>\n",
       "</table>\n",
       "</div>"
      ],
      "text/plain": [
       "       id        dept   level workload  employment_years last_year_promo  \\\n",
       "0  155278       sales  junior   medium                 2              no   \n",
       "1  653870          hr  junior     high                 2              no   \n",
       "2  184592       sales  junior      low                 1              no   \n",
       "3  171431  technology  junior      low                 4              no   \n",
       "4  693419          hr  junior   medium                 1              no   \n",
       "\n",
       "  last_year_violations  supervisor_evaluation  salary  job_satisfaction_rate  \n",
       "0                   no                      1   24000                   0.58  \n",
       "1                   no                      5   38400                   0.76  \n",
       "2                   no                      2   12000                   0.11  \n",
       "3                   no                      2   18000                   0.37  \n",
       "4                   no                      3   22800                   0.20  "
      ]
     },
     "execution_count": 12,
     "metadata": {},
     "output_type": "execute_result"
    }
   ],
   "source": [
    "train_feature_sat.head(5)"
   ]
  },
  {
   "cell_type": "markdown",
   "id": "86e0d1de-ec0a-4989-a89d-15541bad264a",
   "metadata": {},
   "source": [
    "### Проверка на неявные дубликаты "
   ]
  },
  {
   "cell_type": "markdown",
   "id": "3b1e511a-4911-4eb5-a43f-7469bca18c50",
   "metadata": {},
   "source": [
    "Для проверки на неявные дубликаты будем использовать цикл."
   ]
  },
  {
   "cell_type": "code",
   "execution_count": 13,
   "id": "feca1e76-b9e9-44e2-87ea-132be54594f4",
   "metadata": {},
   "outputs": [
    {
     "name": "stdout",
     "output_type": "stream",
     "text": [
      "Уникальные значения в столбце dept\n",
      "['marketing' 'hr' 'sales' 'purchasing' 'technology' nan ' ']\n",
      "\n",
      "Уникальные значения в столбце level\n",
      "['junior' 'middle' 'sinior' nan]\n",
      "\n",
      "Уникальные значения в столбце workload\n",
      "['medium' 'low' 'high' ' ']\n",
      "\n",
      "Уникальные значения в столбце last_year_promo\n",
      "['no' 'yes']\n",
      "\n",
      "Уникальные значения в столбце last_year_violations\n",
      "['no' 'yes']\n",
      "\n"
     ]
    }
   ],
   "source": [
    "for col in test_features.select_dtypes(include='object').columns:\n",
    "    print('Уникальные значения в столбце', col)\n",
    "    print(test_features[col].unique())\n",
    "    print()"
   ]
  },
  {
   "cell_type": "code",
   "execution_count": 14,
   "id": "2fa07897-9271-4ee5-9521-7fa4b5175326",
   "metadata": {},
   "outputs": [
    {
     "name": "stdout",
     "output_type": "stream",
     "text": [
      "Уникальные значения в столбце dept\n",
      "['sales' 'hr' 'technology' 'purchasing' 'marketing' nan]\n",
      "\n",
      "Уникальные значения в столбце level\n",
      "['junior' 'middle' 'sinior' nan]\n",
      "\n",
      "Уникальные значения в столбце workload\n",
      "['medium' 'high' 'low']\n",
      "\n",
      "Уникальные значения в столбце last_year_promo\n",
      "['no' 'yes']\n",
      "\n",
      "Уникальные значения в столбце last_year_violations\n",
      "['no' 'yes']\n",
      "\n"
     ]
    }
   ],
   "source": [
    "for col in train_feature_sat.select_dtypes(include='object').columns:\n",
    "    print('Уникальные значения в столбце', col)\n",
    "    print(train_feature_sat[col].unique())\n",
    "    print()"
   ]
  },
  {
   "cell_type": "markdown",
   "id": "d6782ea8-8d38-459f-9a8d-a20411884145",
   "metadata": {},
   "source": [
    "**<span style='color: green;'>Вывод:  \n",
    "неявных дубликатов не обнаружено. Названия переменных между тестовой и тренировочной выборками совпадают. \n",
    "Но пропуски в данных (test_features['dept'], test_features['workload']) есть в двух формах: nan и пустая ячейка с пробелом.</span>**  \n",
    "\n",
    "Изучим эти строки, возможно, это одна строка."
   ]
  },
  {
   "cell_type": "code",
   "execution_count": 15,
   "id": "ed496e23-c7ae-425d-9bcf-8daaf98e41f9",
   "metadata": {},
   "outputs": [
    {
     "data": {
      "text/html": [
       "<div>\n",
       "<style scoped>\n",
       "    .dataframe tbody tr th:only-of-type {\n",
       "        vertical-align: middle;\n",
       "    }\n",
       "\n",
       "    .dataframe tbody tr th {\n",
       "        vertical-align: top;\n",
       "    }\n",
       "\n",
       "    .dataframe thead th {\n",
       "        text-align: right;\n",
       "    }\n",
       "</style>\n",
       "<table border=\"1\" class=\"dataframe\">\n",
       "  <thead>\n",
       "    <tr style=\"text-align: right;\">\n",
       "      <th></th>\n",
       "      <th>id</th>\n",
       "      <th>dept</th>\n",
       "      <th>level</th>\n",
       "      <th>workload</th>\n",
       "      <th>employment_years</th>\n",
       "      <th>last_year_promo</th>\n",
       "      <th>last_year_violations</th>\n",
       "      <th>supervisor_evaluation</th>\n",
       "      <th>salary</th>\n",
       "    </tr>\n",
       "  </thead>\n",
       "  <tbody>\n",
       "    <tr>\n",
       "      <th>15</th>\n",
       "      <td>590867</td>\n",
       "      <td>marketing</td>\n",
       "      <td>junior</td>\n",
       "      <td></td>\n",
       "      <td>4</td>\n",
       "      <td>no</td>\n",
       "      <td>no</td>\n",
       "      <td>4</td>\n",
       "      <td>28800</td>\n",
       "    </tr>\n",
       "    <tr>\n",
       "      <th>1699</th>\n",
       "      <td>822186</td>\n",
       "      <td></td>\n",
       "      <td>middle</td>\n",
       "      <td>medium</td>\n",
       "      <td>3</td>\n",
       "      <td>no</td>\n",
       "      <td>no</td>\n",
       "      <td>4</td>\n",
       "      <td>38400</td>\n",
       "    </tr>\n",
       "  </tbody>\n",
       "</table>\n",
       "</div>"
      ],
      "text/plain": [
       "          id       dept   level workload  employment_years last_year_promo  \\\n",
       "15    590867  marketing  junior                          4              no   \n",
       "1699  822186             middle   medium                 3              no   \n",
       "\n",
       "     last_year_violations  supervisor_evaluation  salary  \n",
       "15                     no                      4   28800  \n",
       "1699                   no                      4   38400  "
      ]
     },
     "execution_count": 15,
     "metadata": {},
     "output_type": "execute_result"
    }
   ],
   "source": [
    "test_features [(test_features ['dept'].apply(lambda x: ' ' in str(x))) | (test_features ['workload'].apply(lambda x: ' ' in str(x)))]"
   ]
  },
  {
   "cell_type": "markdown",
   "id": "f804b18d-e0cd-4e4b-b409-deed755e9b22",
   "metadata": {},
   "source": [
    "Пропуски в разных строках. Обработаем данные значения в Пайплайн, инструментами Энкодера"
   ]
  },
  {
   "cell_type": "code",
   "execution_count": 17,
   "id": "2a77c029-615b-4380-9246-ac575c707fa1",
   "metadata": {},
   "outputs": [
    {
     "data": {
      "text/plain": [
       "array(['marketing', 'hr', 'sales', 'purchasing', 'technology', nan, ' '],\n",
       "      dtype=object)"
      ]
     },
     "execution_count": 17,
     "metadata": {},
     "output_type": "execute_result"
    }
   ],
   "source": [
    "test_features ['dept'].unique() # проверка"
   ]
  },
  {
   "cell_type": "code",
   "execution_count": 18,
   "id": "889fd591-741c-41fb-9eab-63ce60ac8d2c",
   "metadata": {},
   "outputs": [
    {
     "data": {
      "text/plain": [
       "array(['medium', 'low', 'high', ' '], dtype=object)"
      ]
     },
     "execution_count": 18,
     "metadata": {},
     "output_type": "execute_result"
    }
   ],
   "source": [
    "test_features ['workload'].unique() # проверка"
   ]
  },
  {
   "cell_type": "markdown",
   "id": "4634d30f-7f49-4f3d-919f-3b4c406290fc",
   "metadata": {},
   "source": [
    "**<span style='color: green;'>Вывод:  \n",
    "теперь в данных содержатся только пропуски nan.</span>**"
   ]
  },
  {
   "cell_type": "markdown",
   "id": "3b5e7071-3186-484a-a718-c31ef473da81",
   "metadata": {},
   "source": [
    "### Проверка на явные дубликаты"
   ]
  },
  {
   "cell_type": "code",
   "execution_count": 19,
   "id": "81ec98d2-58c4-43ed-bd9a-5a2186c23623",
   "metadata": {},
   "outputs": [
    {
     "data": {
      "text/plain": [
       "0"
      ]
     },
     "execution_count": 19,
     "metadata": {},
     "output_type": "execute_result"
    }
   ],
   "source": [
    "test_features.duplicated().sum()"
   ]
  },
  {
   "cell_type": "code",
   "execution_count": 20,
   "id": "2cfcc0df-3901-4809-8361-5c155d26e327",
   "metadata": {},
   "outputs": [
    {
     "data": {
      "text/plain": [
       "0"
      ]
     },
     "execution_count": 20,
     "metadata": {},
     "output_type": "execute_result"
    }
   ],
   "source": [
    "test_target_sat.duplicated().sum()"
   ]
  },
  {
   "cell_type": "code",
   "execution_count": 21,
   "id": "1ec2b193-482c-430d-b94f-502c2da19135",
   "metadata": {},
   "outputs": [
    {
     "data": {
      "text/plain": [
       "0"
      ]
     },
     "execution_count": 21,
     "metadata": {},
     "output_type": "execute_result"
    }
   ],
   "source": [
    "train_feature_sat.duplicated().sum()"
   ]
  },
  {
   "cell_type": "markdown",
   "id": "e1e5b572-6c84-4138-9421-18757b3df348",
   "metadata": {},
   "source": [
    "**<span style='color: green;'>Вывод:  \n",
    "явные дубликаты в данных не обнаружены.</span>**"
   ]
  },
  {
   "cell_type": "markdown",
   "id": "9400adc2-c269-4bd1-9f55-2098289f2310",
   "metadata": {},
   "source": [
    "## Исследовательский анализ данных"
   ]
  },
  {
   "cell_type": "markdown",
   "id": "85c97bec-3b84-4adc-a9ed-c1ae72f1593b",
   "metadata": {},
   "source": [
    "### Распределение количественных данных тренировочной выборки"
   ]
  },
  {
   "cell_type": "markdown",
   "id": "7ea5c066-92b4-40f0-9e09-8f561c49db24",
   "metadata": {},
   "source": [
    "Для визуализации количественных данных будем использовать гистограммы распределения.  \n",
    "Для удобства составим функцию."
   ]
  },
  {
   "cell_type": "code",
   "execution_count": 22,
   "id": "d3599a4d-f8b6-4a37-b293-7a545da61531",
   "metadata": {},
   "outputs": [],
   "source": [
    "def plot_histogram(dataframe, column_name, bins=10):  # функция для построения гистограмм распределения\n",
    "    dataframe[column_name].hist(bins=bins, figsize=(5, 5))\n",
    "    plt.xlabel(column_name)\n",
    "    plt.ylabel('Частота')\n",
    "    plt.show()\n",
    "    stat = dataframe[column_name].describe() # дополнительно выведим параметры описательной статистики\n",
    "    print(stat)"
   ]
  },
  {
   "cell_type": "markdown",
   "id": "f9a9c67c-fe7a-481f-9e64-38ead66fa21d",
   "metadata": {},
   "source": [
    "#### Длительность работы в компании."
   ]
  },
  {
   "cell_type": "code",
   "execution_count": 23,
   "id": "a9f0577a-50f1-46d6-be87-404cee9a1271",
   "metadata": {},
   "outputs": [
    {
     "data": {
      "image/png": "[encoded data removed]",
      "text/plain": [
       "<Figure size 360x360 with 1 Axes>"
      ]
     },
     "metadata": {
      "needs_background": "light"
     },
     "output_type": "display_data"
    },
    {
     "name": "stdout",
     "output_type": "stream",
     "text": [
      "count    4000.000000\n",
      "mean        3.718500\n",
      "std         2.542513\n",
      "min         1.000000\n",
      "25%         2.000000\n",
      "50%         3.000000\n",
      "75%         6.000000\n",
      "max        10.000000\n",
      "Name: employment_years, dtype: float64\n"
     ]
    }
   ],
   "source": [
    "plot_histogram(train_feature_sat, 'employment_years', bins=10)"
   ]
  },
  {
   "cell_type": "markdown",
   "id": "f7271316-bbda-40bb-8956-6de8973b73d7",
   "metadata": {},
   "source": [
    "Распределение прибывания сотрудников в компании имеет скошенную форму. Больше всего сотрудников с небольшим стажем работы в компании, чем выше стаж, тем меньше сотрудников. Медиана приходится на 3 года. \n",
    "Выбросов или слишком малых значений в данных нет."
   ]
  },
  {
   "cell_type": "markdown",
   "id": "a31e5a82-d85f-4d8d-81e5-1a689e1194b3",
   "metadata": {},
   "source": [
    "#### Оценка качества работы сотрудника, которую дал руководитель."
   ]
  },
  {
   "cell_type": "code",
   "execution_count": 24,
   "id": "9b5a0628-10d4-4203-bc2d-4f0eb4b475ad",
   "metadata": {},
   "outputs": [
    {
     "data": {
      "image/png": "[encoded data removed]",
      "text/plain": [
       "<Figure size 360x360 with 1 Axes>"
      ]
     },
     "metadata": {
      "needs_background": "light"
     },
     "output_type": "display_data"
    },
    {
     "name": "stdout",
     "output_type": "stream",
     "text": [
      "count    4000.000000\n",
      "mean        3.476500\n",
      "std         1.008812\n",
      "min         1.000000\n",
      "25%         3.000000\n",
      "50%         4.000000\n",
      "75%         4.000000\n",
      "max         5.000000\n",
      "Name: supervisor_evaluation, dtype: float64\n"
     ]
    }
   ],
   "source": [
    "plot_histogram(train_feature_sat, 'supervisor_evaluation', bins=5)"
   ]
  },
  {
   "cell_type": "markdown",
   "id": "cf050cda-78f7-4023-95dc-52ec2df07a51",
   "metadata": {},
   "source": [
    "Оценка в компании идет по пятибальной системе, медиана распределения приходится на оценку 4.    "
   ]
  },
  {
   "cell_type": "markdown",
   "id": "02b5c96e-8e42-4027-8d96-8e9d15dd9720",
   "metadata": {},
   "source": [
    "#### Ежемесячная зарплата сотрудника"
   ]
  },
  {
   "cell_type": "code",
   "execution_count": 25,
   "id": "9e7974e0-5f37-4021-90db-0475db3e1aef",
   "metadata": {},
   "outputs": [
    {
     "data": {
      "image/png": "[encoded data removed]",
      "text/plain": [
       "<Figure size 360x360 with 1 Axes>"
      ]
     },
     "metadata": {
      "needs_background": "light"
     },
     "output_type": "display_data"
    },
    {
     "name": "stdout",
     "output_type": "stream",
     "text": [
      "count     4000.000000\n",
      "mean     33926.700000\n",
      "std      14900.703838\n",
      "min      12000.000000\n",
      "25%      22800.000000\n",
      "50%      30000.000000\n",
      "75%      43200.000000\n",
      "max      98400.000000\n",
      "Name: salary, dtype: float64\n"
     ]
    }
   ],
   "source": [
    "plot_histogram(train_feature_sat, 'salary', bins=15)"
   ]
  },
  {
   "cell_type": "markdown",
   "id": "59273d52-6a1a-4d2d-add3-1a23974ae044",
   "metadata": {},
   "source": [
    "Распределение зарплат скошено, большая часть сотрудников получает зарплату до 43 тыс. Медиана зарплаты в компании составляет 30 тыс."
   ]
  },
  {
   "cell_type": "markdown",
   "id": "e1dabb8f-09e2-42c1-998d-61bd39e13de8",
   "metadata": {},
   "source": [
    "#### Уровень удовлетворенности сотрудника (целевая переменная)"
   ]
  },
  {
   "cell_type": "code",
   "execution_count": 26,
   "id": "b88ab928-dc54-47bd-ac86-ad919351ce80",
   "metadata": {},
   "outputs": [
    {
     "data": {
      "image/png": "[encoded data removed]",
      "text/plain": [
       "<Figure size 360x360 with 1 Axes>"
      ]
     },
     "metadata": {
      "needs_background": "light"
     },
     "output_type": "display_data"
    },
    {
     "name": "stdout",
     "output_type": "stream",
     "text": [
      "count    4000.000000\n",
      "mean        0.533995\n",
      "std         0.225327\n",
      "min         0.030000\n",
      "25%         0.360000\n",
      "50%         0.560000\n",
      "75%         0.710000\n",
      "max         1.000000\n",
      "Name: job_satisfaction_rate, dtype: float64\n"
     ]
    }
   ],
   "source": [
    "plot_histogram(train_feature_sat, 'job_satisfaction_rate', bins=50)"
   ]
  },
  {
   "cell_type": "markdown",
   "id": "3e081f72-709e-4c53-9aef-de34fc3d27c5",
   "metadata": {},
   "source": [
    "Уровень удовлетворенности сотрудников в компании оценивается от 0 до 1, где 1 это максимальная удовлетворенность. Среднее и медиана распределения совпадают и составляют приблизительно 0.5.   \n",
    "Целевой признак это количественная переменная."
   ]
  },
  {
   "cell_type": "markdown",
   "id": "9ba70c94-14ab-4bfc-9ed4-e44e51c3346b",
   "metadata": {},
   "source": [
    "### Анализ качественных признаков в тренировочной выборке"
   ]
  },
  {
   "cell_type": "markdown",
   "id": "0d5d3ee1-5510-4ec4-95d5-a935b9193fa3",
   "metadata": {},
   "source": [
    "Для визуализации качественных данных будем использовать столбчатые диаграммы. Выведем столбчатые диаграммы сразу для всех столбцов таблицы."
   ]
  },
  {
   "cell_type": "code",
   "execution_count": 27,
   "id": "eb736639-81c7-474c-bfac-6515004d567a",
   "metadata": {},
   "outputs": [
    {
     "data": {
      "image/png": "[encoded data removed]",
      "text/plain": [
       "<Figure size 720x720 with 6 Axes>"
      ]
     },
     "metadata": {
      "needs_background": "light"
     },
     "output_type": "display_data"
    }
   ],
   "source": [
    "object_columns = train_feature_sat.select_dtypes(include='object').columns\n",
    "\n",
    "num_cols = 2 # количество столбцов\n",
    "num_rows = 3 # строк\n",
    "\n",
    "fig, axes = plt.subplots(num_rows, num_cols, figsize=(10, 10)) #создаем поле для графика\n",
    "axes = axes.flatten() # преобразуем двухмерный массив, так как графиков 5 другого варианта не получилось\n",
    "\n",
    "for i, col in enumerate(object_columns): # рисуем график для каждого столбца\n",
    "    ax=axes[i]\n",
    "    train_feature_sat[col].value_counts().plot(kind='bar', ax=axes[i], title=col)\n",
    "    axes[i].set_ylabel('Количество')\n",
    "    axes[i].set_xlabel('')\n",
    "\n",
    "plt.tight_layout() # настройка интервала между графиками\n",
    "plt.show()"
   ]
  },
  {
   "cell_type": "markdown",
   "id": "05b5acd5-a634-46b4-8044-3cfc6149875d",
   "metadata": {},
   "source": [
    "* В данных больше всего представлены сотрудники, которые работают в отделе продаж, меньше всего HR.  \n",
    "* По уровню занимаемой должности больше всего представлены начинающие специальситы (junior), меньше всего sinior. Данные в этом столбце можно считать порядковыми.\n",
    "* Средний уровень загруженности сотрудников наиболее распространен в компании, меньше всего высоко загруженных сотрудников. В этом столбце также данные порядковые.\n",
    "* В данных о повышении сотрудников большой перекос в сторону отсутсвия повышения.\n",
    "* По нарушениям также большой перекос данных, большая часть сотрудников не нарушает правил."
   ]
  },
  {
   "cell_type": "markdown",
   "id": "27062be5-ef78-4571-9c1e-754d4faa0b10",
   "metadata": {},
   "source": [
    "**<span style='color: green;'>Вывод по тренировочной выборке:</span>**   \n",
    "**<span style='color: green;'> * Целевой признак является количественным. Построение моделей классификации не подходит. Для реализации задачи необходимо использовать регрессионные модели.</span>**   \n",
    "**<span style='color: green;'> * Для количественных данных необходимо использовать масштабирование, так как данные разных порядков.</span>**   \n",
    "**<span style='color: green;'> * Для кодирования качественных данных в столбцах level и workload можно использовать OrdinalEncoder.</span>**  \n",
    "**<span style='color: green;'> * Для всех остольных категориальных переменных надо использовать OneHotEncoder.</span>**"
   ]
  },
  {
   "cell_type": "markdown",
   "id": "4026609a-0f9f-41c9-8afd-c83f71ba0f1b",
   "metadata": {},
   "source": [
    "### Распределение количественных данных в тестовой выборке"
   ]
  },
  {
   "cell_type": "markdown",
   "id": "05b8c0f8-04a5-4ec6-9418-92b2ea5dc3ed",
   "metadata": {},
   "source": [
    "Проанализируем данные в тестовой выборке, чтобы быть уверенным, что с данными все впорядке."
   ]
  },
  {
   "cell_type": "markdown",
   "id": "040fbce1-354b-49c8-92df-c2260ee5ce21",
   "metadata": {},
   "source": [
    "#### Длительность работы в компании"
   ]
  },
  {
   "cell_type": "code",
   "execution_count": 28,
   "id": "f3e135b3-310d-4a5c-bb4d-7c3b13e60d25",
   "metadata": {},
   "outputs": [
    {
     "data": {
      "image/png": "[encoded data removed]",
      "text/plain": [
       "<Figure size 360x360 with 1 Axes>"
      ]
     },
     "metadata": {
      "needs_background": "light"
     },
     "output_type": "display_data"
    },
    {
     "name": "stdout",
     "output_type": "stream",
     "text": [
      "count    2000.000000\n",
      "mean        3.666500\n",
      "std         2.537222\n",
      "min         1.000000\n",
      "25%         1.000000\n",
      "50%         3.000000\n",
      "75%         6.000000\n",
      "max        10.000000\n",
      "Name: employment_years, dtype: float64\n"
     ]
    }
   ],
   "source": [
    "plot_histogram(test_features, 'employment_years', bins=10)"
   ]
  },
  {
   "cell_type": "markdown",
   "id": "441fcda5-10e6-49a5-8061-276db1d9a487",
   "metadata": {},
   "source": [
    "Распределение для тестовой выборки сходно с распределением для тренировочной выборки, разброс значений также укладывается в диапазон от года до десяти лет. Значения медиан совпадают."
   ]
  },
  {
   "cell_type": "markdown",
   "id": "675aeb61-e901-4874-b35a-f6dff020911f",
   "metadata": {},
   "source": [
    "#### Оценка качества работы сотрудника, которую дал руководитель."
   ]
  },
  {
   "cell_type": "code",
   "execution_count": 29,
   "id": "c72c1a02-ebda-4583-912b-e9f9e1ee6176",
   "metadata": {},
   "outputs": [
    {
     "data": {
      "image/png": "[encoded data removed]",
      "text/plain": [
       "<Figure size 360x360 with 1 Axes>"
      ]
     },
     "metadata": {
      "needs_background": "light"
     },
     "output_type": "display_data"
    },
    {
     "name": "stdout",
     "output_type": "stream",
     "text": [
      "count    2000.000000\n",
      "mean        3.526500\n",
      "std         0.996892\n",
      "min         1.000000\n",
      "25%         3.000000\n",
      "50%         4.000000\n",
      "75%         4.000000\n",
      "max         5.000000\n",
      "Name: supervisor_evaluation, dtype: float64\n"
     ]
    }
   ],
   "source": [
    "plot_histogram(test_features, 'supervisor_evaluation', bins=5)"
   ]
  },
  {
   "cell_type": "markdown",
   "id": "14060b75-3a14-4848-a8f5-f090fc5d1cd8",
   "metadata": {},
   "source": [
    "Распределение сходно с тренировочной выборкой, используется такая же пятибальная система. Медиана распределения соответстует оценке 4. "
   ]
  },
  {
   "cell_type": "markdown",
   "id": "ec48709a-7d4c-4adb-9d1d-819fc350a792",
   "metadata": {},
   "source": [
    "#### Ежемесячная зарплата сотрудника"
   ]
  },
  {
   "cell_type": "code",
   "execution_count": 30,
   "id": "e9a1a10b-2169-4b2f-aa03-bb89f59f67f6",
   "metadata": {},
   "outputs": [
    {
     "data": {
      "image/png": "[encoded data removed]",
      "text/plain": [
       "<Figure size 360x360 with 1 Axes>"
      ]
     },
     "metadata": {
      "needs_background": "light"
     },
     "output_type": "display_data"
    },
    {
     "name": "stdout",
     "output_type": "stream",
     "text": [
      "count     2000.000000\n",
      "mean     34066.800000\n",
      "std      15398.436729\n",
      "min      12000.000000\n",
      "25%      22800.000000\n",
      "50%      30000.000000\n",
      "75%      43200.000000\n",
      "max      96000.000000\n",
      "Name: salary, dtype: float64\n"
     ]
    }
   ],
   "source": [
    "plot_histogram(test_features, 'salary', bins=15)"
   ]
  },
  {
   "cell_type": "markdown",
   "id": "0bca23f4-86e1-4083-8d61-3b9055a84cfe",
   "metadata": {},
   "source": [
    "Распределение для зарплат также сходно между выборками. Медианы совпадают и средние значения между выборками совадают."
   ]
  },
  {
   "cell_type": "markdown",
   "id": "28d84bed-3e17-4a64-b9e1-86925ce7cd5d",
   "metadata": {},
   "source": [
    "### Анализ качественных признаков в тестовой выборки"
   ]
  },
  {
   "cell_type": "code",
   "execution_count": 31,
   "id": "d6c965ce-2502-46c4-9af6-5d83161dba7c",
   "metadata": {},
   "outputs": [
    {
     "data": {
      "image/png": "[encoded data removed]",
      "text/plain": [
       "<Figure size 720x720 with 6 Axes>"
      ]
     },
     "metadata": {
      "needs_background": "light"
     },
     "output_type": "display_data"
    }
   ],
   "source": [
    "object_columns2 = test_features.select_dtypes(include='object').columns\n",
    "\n",
    "num_cols = 2 # количество столбцов\n",
    "num_rows = 3 # строк\n",
    "\n",
    "fig, axes = plt.subplots(num_rows, num_cols, figsize=(10, 10)) #создаем поле для графика\n",
    "axes = axes.flatten() # преобразуем двухмерный массив, так как графиков 5 другого варианта не получилось\n",
    "\n",
    "for i, col in enumerate(object_columns2): # рисуем график для каждого столбца\n",
    "    ax=axes[i]\n",
    "    test_features[col].value_counts().plot(kind='bar', ax=axes[i], title=col)\n",
    "    axes[i].set_ylabel('Количество')\n",
    "    axes[i].set_xlabel('')\n",
    "\n",
    "plt.tight_layout() # настройка интервала между графиками\n",
    "plt.show()"
   ]
  },
  {
   "cell_type": "markdown",
   "id": "483d1a54-b0f0-4d12-8661-be9f0c35010a",
   "metadata": {},
   "source": [
    "Распределение качественных переменных в тренировочной и тестовой выборках сопоставимо."
   ]
  },
  {
   "cell_type": "markdown",
   "id": "5cc413fc-aba0-499d-a2d1-2bc1c4eef8ab",
   "metadata": {},
   "source": [
    "### Анализ целевого признака для тестовой выборки"
   ]
  },
  {
   "cell_type": "code",
   "execution_count": 32,
   "id": "cc761225-b6e2-45de-b168-723e8c70dc83",
   "metadata": {},
   "outputs": [
    {
     "data": {
      "image/png": "[encoded data removed]",
      "text/plain": [
       "<Figure size 360x360 with 1 Axes>"
      ]
     },
     "metadata": {
      "needs_background": "light"
     },
     "output_type": "display_data"
    },
    {
     "name": "stdout",
     "output_type": "stream",
     "text": [
      "count    2000.00000\n",
      "mean        0.54878\n",
      "std         0.22011\n",
      "min         0.03000\n",
      "25%         0.38000\n",
      "50%         0.58000\n",
      "75%         0.72000\n",
      "max         1.00000\n",
      "Name: job_satisfaction_rate, dtype: float64\n"
     ]
    }
   ],
   "source": [
    "plot_histogram(test_target_sat, 'job_satisfaction_rate', bins=50)"
   ]
  },
  {
   "cell_type": "markdown",
   "id": "d3814655-de6a-4abe-92c7-e57a75e6140a",
   "metadata": {},
   "source": [
    "В распределении целевого признака тестовой выборки также нет каких-либо отклонений."
   ]
  },
  {
   "cell_type": "markdown",
   "id": "2bafd092-90cd-410c-ad97-18444b1845e1",
   "metadata": {},
   "source": [
    "**<span style='color: green;'>Вывод:  \n",
    "наборы данных тренировочной и тестовой выборок сопоставимы по своей структуре.</span>** "
   ]
  },
  {
   "cell_type": "markdown",
   "id": "ac51dc30-7126-4d15-8409-d92d8184fbaa",
   "metadata": {},
   "source": [
    "### Корреляционный анализ"
   ]
  },
  {
   "cell_type": "markdown",
   "id": "6f7cb054-7821-4056-b166-57c765896d2b",
   "metadata": {},
   "source": [
    "Дополнительно проведем корреляционный анализ. Будем использовать библиотеку phik, это позволит нам сразу увидеть взаимосвязь всех признаков."
   ]
  },
  {
   "cell_type": "code",
   "execution_count": 33,
   "id": "33cf2df0-212d-42a5-82b4-2b298540d834",
   "metadata": {
    "scrolled": true
   },
   "outputs": [],
   "source": [
    "train_for_phik=train_feature_sat.drop(columns=['id'])\n",
    "phik_overview = train_for_phik.phik_matrix(interval_cols=['employment_years', 'supervisor_evaluation', 'salary'])\n"
   ]
  },
  {
   "cell_type": "code",
   "execution_count": 34,
   "id": "d510509b-f050-43ab-a294-9034de4014f4",
   "metadata": {},
   "outputs": [
    {
     "data": {
      "image/png": "[encoded data removed]",
      "text/plain": [
       "<Figure size 720x720 with 2 Axes>"
      ]
     },
     "metadata": {
      "needs_background": "light"
     },
     "output_type": "display_data"
    }
   ],
   "source": [
    "plot_correlation_matrix(\n",
    "    phik_overview.values,\n",
    "    x_labels=phik_overview.columns,\n",
    "    y_labels=phik_overview.index,\n",
    "    vmin=0,\n",
    "    vmax=1,\n",
    "    color_map='Blues',\n",
    "    title=r'correlation $\\phi_K$',\n",
    "    fontsize_factor=1,\n",
    "    figsize=(10,10)\n",
    ")\n",
    "plt.tight_layout()"
   ]
  },
  {
   "cell_type": "markdown",
   "id": "b75c9235-dac2-4d14-abac-8575fa4b61bb",
   "metadata": {},
   "source": [
    "**<span style='color: green;'>Вывод:  \n",
    "Целевой признак job_satisfaction_rate плохо коррелирует с признаками workload, level, dept.\n",
    "На данном этапе не будем ничего менять, но если подобрать модель не получится, то имеет смысл попробовать удалить признаки, с которыми целевая переменная имеет слабую линейную связь.</span>**"
   ]
  },
  {
   "cell_type": "markdown",
   "id": "3dd586ef-c233-4bca-826d-ffa542f900d3",
   "metadata": {},
   "source": [
    "## Подготовка данных"
   ]
  },
  {
   "cell_type": "markdown",
   "id": "05127312-e38f-4875-aab7-b77a8f086a84",
   "metadata": {},
   "source": [
    "Так как целевой признак является количественными, необходимо использовать модели регрессионного анализа. \n",
    "По условию задачи необходимо использовать одну линейную модель, а в качестве второй - дерево решений.  \n",
    "Для линейных моделей будем использовать два кодировщика: если качественный признак номинативный то OneHotEncoder, если качественный признак порядковый, то OrdinalEncoder. \n",
    "Для работы с пропусками будем использовать SimpleImputer, заполнять пропуски будем наиболее часто встречаемыми значениями.  \n",
    "Пропуски, заданные пробелом в данных, были обработаны ранее, но в пайплайне оставим параметр handle_unknown.\n",
    "Для OneHotEncoder значение параметра будет 'ignore', для игнорирования неизвестных категорий.  \n",
    "Для OrdinalEncoder значение параметра будет 'use_encoded_value', несзвестные значения будут превращаться в nan и следующим шагом заполняться через SimpleImputer."
   ]
  },
  {
   "cell_type": "markdown",
   "id": "42c74357-afef-47c9-a087-265e2999d031",
   "metadata": {},
   "source": [
    "Перед началом построения пайплайна, сделаем индексами в таблицах столбец id. Отсортируем таблицы по id."
   ]
  },
  {
   "cell_type": "code",
   "execution_count": 35,
   "id": "dfca8d6d-9688-4a27-add2-83d6f3b641ca",
   "metadata": {},
   "outputs": [],
   "source": [
    "train_feature_sat.set_index('id', inplace=True)\n",
    "train_feature_sat.sort_index(inplace=True)"
   ]
  },
  {
   "cell_type": "code",
   "execution_count": 36,
   "id": "797cd68f-bf38-4812-a0c6-7e48e0138f2d",
   "metadata": {},
   "outputs": [
    {
     "data": {
      "text/html": [
       "<div>\n",
       "<style scoped>\n",
       "    .dataframe tbody tr th:only-of-type {\n",
       "        vertical-align: middle;\n",
       "    }\n",
       "\n",
       "    .dataframe tbody tr th {\n",
       "        vertical-align: top;\n",
       "    }\n",
       "\n",
       "    .dataframe thead th {\n",
       "        text-align: right;\n",
       "    }\n",
       "</style>\n",
       "<table border=\"1\" class=\"dataframe\">\n",
       "  <thead>\n",
       "    <tr style=\"text-align: right;\">\n",
       "      <th></th>\n",
       "      <th>dept</th>\n",
       "      <th>level</th>\n",
       "      <th>workload</th>\n",
       "      <th>employment_years</th>\n",
       "      <th>last_year_promo</th>\n",
       "      <th>last_year_violations</th>\n",
       "      <th>supervisor_evaluation</th>\n",
       "      <th>salary</th>\n",
       "      <th>job_satisfaction_rate</th>\n",
       "    </tr>\n",
       "    <tr>\n",
       "      <th>id</th>\n",
       "      <th></th>\n",
       "      <th></th>\n",
       "      <th></th>\n",
       "      <th></th>\n",
       "      <th></th>\n",
       "      <th></th>\n",
       "      <th></th>\n",
       "      <th></th>\n",
       "      <th></th>\n",
       "    </tr>\n",
       "  </thead>\n",
       "  <tbody>\n",
       "    <tr>\n",
       "      <th>100954</th>\n",
       "      <td>purchasing</td>\n",
       "      <td>junior</td>\n",
       "      <td>low</td>\n",
       "      <td>1</td>\n",
       "      <td>no</td>\n",
       "      <td>no</td>\n",
       "      <td>4</td>\n",
       "      <td>15600</td>\n",
       "      <td>0.60</td>\n",
       "    </tr>\n",
       "    <tr>\n",
       "      <th>101057</th>\n",
       "      <td>sales</td>\n",
       "      <td>junior</td>\n",
       "      <td>low</td>\n",
       "      <td>1</td>\n",
       "      <td>no</td>\n",
       "      <td>yes</td>\n",
       "      <td>4</td>\n",
       "      <td>19200</td>\n",
       "      <td>0.45</td>\n",
       "    </tr>\n",
       "    <tr>\n",
       "      <th>101074</th>\n",
       "      <td>sales</td>\n",
       "      <td>junior</td>\n",
       "      <td>medium</td>\n",
       "      <td>2</td>\n",
       "      <td>no</td>\n",
       "      <td>no</td>\n",
       "      <td>2</td>\n",
       "      <td>20400</td>\n",
       "      <td>0.36</td>\n",
       "    </tr>\n",
       "    <tr>\n",
       "      <th>101081</th>\n",
       "      <td>sales</td>\n",
       "      <td>middle</td>\n",
       "      <td>low</td>\n",
       "      <td>2</td>\n",
       "      <td>no</td>\n",
       "      <td>no</td>\n",
       "      <td>4</td>\n",
       "      <td>28800</td>\n",
       "      <td>0.66</td>\n",
       "    </tr>\n",
       "    <tr>\n",
       "      <th>101129</th>\n",
       "      <td>technology</td>\n",
       "      <td>junior</td>\n",
       "      <td>medium</td>\n",
       "      <td>1</td>\n",
       "      <td>no</td>\n",
       "      <td>no</td>\n",
       "      <td>4</td>\n",
       "      <td>34800</td>\n",
       "      <td>0.71</td>\n",
       "    </tr>\n",
       "  </tbody>\n",
       "</table>\n",
       "</div>"
      ],
      "text/plain": [
       "              dept   level workload  employment_years last_year_promo  \\\n",
       "id                                                                      \n",
       "100954  purchasing  junior      low                 1              no   \n",
       "101057       sales  junior      low                 1              no   \n",
       "101074       sales  junior   medium                 2              no   \n",
       "101081       sales  middle      low                 2              no   \n",
       "101129  technology  junior   medium                 1              no   \n",
       "\n",
       "       last_year_violations  supervisor_evaluation  salary  \\\n",
       "id                                                           \n",
       "100954                   no                      4   15600   \n",
       "101057                  yes                      4   19200   \n",
       "101074                   no                      2   20400   \n",
       "101081                   no                      4   28800   \n",
       "101129                   no                      4   34800   \n",
       "\n",
       "        job_satisfaction_rate  \n",
       "id                             \n",
       "100954                   0.60  \n",
       "101057                   0.45  \n",
       "101074                   0.36  \n",
       "101081                   0.66  \n",
       "101129                   0.71  "
      ]
     },
     "execution_count": 36,
     "metadata": {},
     "output_type": "execute_result"
    }
   ],
   "source": [
    "train_feature_sat.head(5) # проверка"
   ]
  },
  {
   "cell_type": "code",
   "execution_count": 37,
   "id": "d8d9fe33-3df7-489d-af2d-12069760eaac",
   "metadata": {},
   "outputs": [
    {
     "data": {
      "text/plain": [
       "245"
      ]
     },
     "execution_count": 37,
     "metadata": {},
     "output_type": "execute_result"
    }
   ],
   "source": [
    "train_feature_sat.duplicated().sum()"
   ]
  },
  {
   "cell_type": "code",
   "execution_count": 38,
   "id": "b1945209-3d23-4dea-9aa0-71fd48c09cb5",
   "metadata": {},
   "outputs": [],
   "source": [
    "test_features.set_index('id', inplace=True)\n",
    "test_features.sort_index(inplace=True)"
   ]
  },
  {
   "cell_type": "code",
   "execution_count": 39,
   "id": "ad7a2eac-bf3b-41b7-a695-81d341bb9317",
   "metadata": {},
   "outputs": [
    {
     "data": {
      "text/html": [
       "<div>\n",
       "<style scoped>\n",
       "    .dataframe tbody tr th:only-of-type {\n",
       "        vertical-align: middle;\n",
       "    }\n",
       "\n",
       "    .dataframe tbody tr th {\n",
       "        vertical-align: top;\n",
       "    }\n",
       "\n",
       "    .dataframe thead th {\n",
       "        text-align: right;\n",
       "    }\n",
       "</style>\n",
       "<table border=\"1\" class=\"dataframe\">\n",
       "  <thead>\n",
       "    <tr style=\"text-align: right;\">\n",
       "      <th></th>\n",
       "      <th>dept</th>\n",
       "      <th>level</th>\n",
       "      <th>workload</th>\n",
       "      <th>employment_years</th>\n",
       "      <th>last_year_promo</th>\n",
       "      <th>last_year_violations</th>\n",
       "      <th>supervisor_evaluation</th>\n",
       "      <th>salary</th>\n",
       "    </tr>\n",
       "    <tr>\n",
       "      <th>id</th>\n",
       "      <th></th>\n",
       "      <th></th>\n",
       "      <th></th>\n",
       "      <th></th>\n",
       "      <th></th>\n",
       "      <th></th>\n",
       "      <th></th>\n",
       "      <th></th>\n",
       "    </tr>\n",
       "  </thead>\n",
       "  <tbody>\n",
       "    <tr>\n",
       "      <th>100298</th>\n",
       "      <td>hr</td>\n",
       "      <td>junior</td>\n",
       "      <td>low</td>\n",
       "      <td>2</td>\n",
       "      <td>no</td>\n",
       "      <td>no</td>\n",
       "      <td>4</td>\n",
       "      <td>19200</td>\n",
       "    </tr>\n",
       "    <tr>\n",
       "      <th>100480</th>\n",
       "      <td>marketing</td>\n",
       "      <td>junior</td>\n",
       "      <td>low</td>\n",
       "      <td>4</td>\n",
       "      <td>no</td>\n",
       "      <td>no</td>\n",
       "      <td>4</td>\n",
       "      <td>16800</td>\n",
       "    </tr>\n",
       "    <tr>\n",
       "      <th>100503</th>\n",
       "      <td>purchasing</td>\n",
       "      <td>middle</td>\n",
       "      <td>high</td>\n",
       "      <td>5</td>\n",
       "      <td>no</td>\n",
       "      <td>no</td>\n",
       "      <td>4</td>\n",
       "      <td>55200</td>\n",
       "    </tr>\n",
       "    <tr>\n",
       "      <th>100610</th>\n",
       "      <td>sales</td>\n",
       "      <td>middle</td>\n",
       "      <td>medium</td>\n",
       "      <td>5</td>\n",
       "      <td>no</td>\n",
       "      <td>no</td>\n",
       "      <td>4</td>\n",
       "      <td>43200</td>\n",
       "    </tr>\n",
       "    <tr>\n",
       "      <th>100692</th>\n",
       "      <td>sales</td>\n",
       "      <td>middle</td>\n",
       "      <td>high</td>\n",
       "      <td>6</td>\n",
       "      <td>no</td>\n",
       "      <td>no</td>\n",
       "      <td>4</td>\n",
       "      <td>48000</td>\n",
       "    </tr>\n",
       "  </tbody>\n",
       "</table>\n",
       "</div>"
      ],
      "text/plain": [
       "              dept   level workload  employment_years last_year_promo  \\\n",
       "id                                                                      \n",
       "100298          hr  junior      low                 2              no   \n",
       "100480   marketing  junior      low                 4              no   \n",
       "100503  purchasing  middle     high                 5              no   \n",
       "100610       sales  middle   medium                 5              no   \n",
       "100692       sales  middle     high                 6              no   \n",
       "\n",
       "       last_year_violations  supervisor_evaluation  salary  \n",
       "id                                                          \n",
       "100298                   no                      4   19200  \n",
       "100480                   no                      4   16800  \n",
       "100503                   no                      4   55200  \n",
       "100610                   no                      4   43200  \n",
       "100692                   no                      4   48000  "
      ]
     },
     "execution_count": 39,
     "metadata": {},
     "output_type": "execute_result"
    }
   ],
   "source": [
    "test_features.head(5)"
   ]
  },
  {
   "cell_type": "code",
   "execution_count": 40,
   "id": "fdb57417-034e-469c-a05f-226b3316e1f5",
   "metadata": {},
   "outputs": [],
   "source": [
    "test_target_sat.set_index('id', inplace=True)\n",
    "test_target_sat.sort_index(inplace=True)"
   ]
  },
  {
   "cell_type": "code",
   "execution_count": 41,
   "id": "b65d978d-aaf5-4f0a-af4a-54bb0c388b4c",
   "metadata": {},
   "outputs": [
    {
     "data": {
      "text/html": [
       "<div>\n",
       "<style scoped>\n",
       "    .dataframe tbody tr th:only-of-type {\n",
       "        vertical-align: middle;\n",
       "    }\n",
       "\n",
       "    .dataframe tbody tr th {\n",
       "        vertical-align: top;\n",
       "    }\n",
       "\n",
       "    .dataframe thead th {\n",
       "        text-align: right;\n",
       "    }\n",
       "</style>\n",
       "<table border=\"1\" class=\"dataframe\">\n",
       "  <thead>\n",
       "    <tr style=\"text-align: right;\">\n",
       "      <th></th>\n",
       "      <th>job_satisfaction_rate</th>\n",
       "    </tr>\n",
       "    <tr>\n",
       "      <th>id</th>\n",
       "      <th></th>\n",
       "    </tr>\n",
       "  </thead>\n",
       "  <tbody>\n",
       "    <tr>\n",
       "      <th>100298</th>\n",
       "      <td>0.80</td>\n",
       "    </tr>\n",
       "    <tr>\n",
       "      <th>100480</th>\n",
       "      <td>0.84</td>\n",
       "    </tr>\n",
       "    <tr>\n",
       "      <th>100503</th>\n",
       "      <td>0.79</td>\n",
       "    </tr>\n",
       "    <tr>\n",
       "      <th>100610</th>\n",
       "      <td>0.75</td>\n",
       "    </tr>\n",
       "    <tr>\n",
       "      <th>100692</th>\n",
       "      <td>0.69</td>\n",
       "    </tr>\n",
       "  </tbody>\n",
       "</table>\n",
       "</div>"
      ],
      "text/plain": [
       "        job_satisfaction_rate\n",
       "id                           \n",
       "100298                   0.80\n",
       "100480                   0.84\n",
       "100503                   0.79\n",
       "100610                   0.75\n",
       "100692                   0.69"
      ]
     },
     "execution_count": 41,
     "metadata": {},
     "output_type": "execute_result"
    }
   ],
   "source": [
    "test_target_sat.head(5)"
   ]
  },
  {
   "cell_type": "markdown",
   "id": "135acb39-59af-4494-8446-d82f15de2f8d",
   "metadata": {},
   "source": [
    "### Pipeline для подготовки данных"
   ]
  },
  {
   "cell_type": "code",
   "execution_count": 43,
   "id": "cbf5bfcb-4c4d-45fa-8fc5-bbb9d862c825",
   "metadata": {},
   "outputs": [],
   "source": [
    "# задаем параметры для разделения данных\n",
    "RANDOM_STATE = 42 \n",
    "TEST_SIZE = 0.25\n",
    "\n",
    "X = train_feature_sat.drop(['job_satisfaction_rate'], axis=1)  # признаки (features)\n",
    "y = train_feature_sat['job_satisfaction_rate']  # целевой признак (target)\n",
    "\n",
    "# создаем списки с названиями признаков\n",
    "\n",
    "ohe_columns = ['dept', 'last_year_promo', 'last_year_violations'] # кодируем номинативные признаки\n",
    "ord_columns = ['level', 'workload'] # кодируем порядковые признаки\n",
    "num_columns = ['employment_years', 'supervisor_evaluation', 'salary'] # кодируем количественные признаки\n",
    "\n",
    "# подготовка данных\n",
    "\n",
    "# подготовка признаков из списка ohe_columns: заполняем пропуски наиболее частыми значениями и кодируем переменные OneHotEncoder\n",
    "ohe_pipe = Pipeline(\n",
    "    [('simpleImputer_ohe', SimpleImputer(missing_values=np.nan, strategy='most_frequent')),\n",
    "     ('ohe', OneHotEncoder(drop='first', handle_unknown = 'ignore', sparse_output = False))\n",
    "    ]\n",
    ")\n",
    "\n",
    "# подготовка признаков из списка ord_columns: заполнение пропусков и кодирование переменных OrdinaryEncoder\n",
    "ord_pipe = Pipeline(\n",
    "    [('simpleImputer_before_ord', SimpleImputer(missing_values=np.nan, strategy='most_frequent')),\n",
    "      ('ord', OrdinalEncoder(\n",
    "                categories=[\n",
    "                    ['junior', 'middle', 'sinior'],\n",
    "                    ['medium', 'low', 'high'],\n",
    "                ],\n",
    "                handle_unknown='use_encoded_value' , unknown_value=np.nan\n",
    "      )\n",
    "      ),\n",
    "      ('simpleImputer_after_ord', SimpleImputer(missing_values=np.nan, strategy='most_frequent'))\n",
    "      ]\n",
    ")\n",
    "\n",
    "# создаем общий пайплайн для подготовки данных и модель\n",
    "data_preprocessor = ColumnTransformer(\n",
    "    [('ohe', ohe_pipe, ohe_columns),\n",
    "     ('ord', ord_pipe, ord_columns),\n",
    "     ('num', MinMaxScaler(), num_columns)\n",
    "    ]\n",
    ")\n",
    "# создаем итоговый пайплайн: подготовка данных и модель\n",
    "pipe_final = Pipeline([\n",
    "    ('preprocessor', data_preprocessor),\n",
    "    ('models', DecisionTreeRegressor(random_state=RANDOM_STATE))\n",
    "])"
   ]
  },
  {
   "cell_type": "markdown",
   "id": "40072dc5-cece-4d03-94bd-317bed8c60f8",
   "metadata": {},
   "source": [
    "## Обучение моделей"
   ]
  },
  {
   "cell_type": "markdown",
   "id": "39d50b2e-8be8-4933-8fd4-b3a3f3dee582",
   "metadata": {},
   "source": [
    "Для обучения необходимо использовать минимум две модели. Одна линейная и дерево решений.   \n",
    "В качестве линейной модели будем использовать SVR (support Vector Regression) модель.  \n",
    "Для модели SVR будем подбирать следующие гиперпараметры: тип ядра (линейное и радиальное базисное ядро), значение С.  \n",
    "Для дерева решений будем использовать модель DecisionTreeRegressor с гиперпараметрами глубина дерева и максимальное количество признаков для расщепления.\n",
    "Для оценки качества модели будет использована метрика SMAPE (симметричное среднее абсолютное процентное отклонение). "
   ]
  },
  {
   "cell_type": "markdown",
   "id": "db389484-dea7-4d56-aa2a-429ef44b31c7",
   "metadata": {},
   "source": [
    "#### Метрика SMAPE"
   ]
  },
  {
   "cell_type": "markdown",
   "id": "459915c5-bca1-4638-a058-6a127374d43b",
   "metadata": {},
   "source": [
    "Перед обучением моделей и подбором гиперпараметров создадим функцию для расчета метрики SMAPE."
   ]
  },
  {
   "cell_type": "code",
   "execution_count": 44,
   "id": "4529a810-cf34-4bd6-a74b-5ca67275e4d7",
   "metadata": {},
   "outputs": [],
   "source": [
    "def smape(y_true, y_pred):\n",
    "    return 100 * np.mean(np.abs(y_pred - y_true) / ((np.abs(y_true) + np.abs(y_pred)) / 2.0))\n",
    "smape_scorer = make_scorer(smape, greater_is_better=False)"
   ]
  },
  {
   "cell_type": "markdown",
   "id": "fde2736e-d95f-4d15-b633-f02007da67a4",
   "metadata": {},
   "source": [
    "#### Обучение модели. Первый круг."
   ]
  },
  {
   "cell_type": "code",
   "execution_count": 45,
   "id": "95254a36-41e6-466c-85cb-3ac6fb027027",
   "metadata": {
    "scrolled": true
   },
   "outputs": [
    {
     "name": "stdout",
     "output_type": "stream",
     "text": [
      "Лучшая модель и её параметры:\n",
      "\n",
      " Pipeline(steps=[('preprocessor',\n",
      "                 ColumnTransformer(transformers=[('ohe',\n",
      "                                                  Pipeline(steps=[('simpleImputer_ohe',\n",
      "                                                                   SimpleImputer(strategy='most_frequent')),\n",
      "                                                                  ('ohe',\n",
      "                                                                   OneHotEncoder(drop='first',\n",
      "                                                                                 handle_unknown='ignore',\n",
      "                                                                                 sparse_output=False))]),\n",
      "                                                  ['dept', 'last_year_promo',\n",
      "                                                   'last_year_violations']),\n",
      "                                                 ('ord',\n",
      "                                                  Pipeline(steps=[('simpleImputer_before_ord',\n",
      "                                                                   SimpleImputer(str...frequent')),\n",
      "                                                                  ('ord',\n",
      "                                                                   OrdinalEncoder(categories=[['junior',\n",
      "                                                                                               'middle',\n",
      "                                                                                               'sinior'],\n",
      "                                                                                              ['medium',\n",
      "                                                                                               'low',\n",
      "                                                                                               'high']],\n",
      "                                                                                  handle_unknown='use_encoded_value',\n",
      "                                                                                  unknown_value=nan)),\n",
      "                                                                  ('simpleImputer_after_ord',\n",
      "                                                                   SimpleImputer(strategy='most_frequent'))]),\n",
      "                                                  ['level', 'workload']),\n",
      "                                                 ('num', StandardScaler(),\n",
      "                                                  ['employment_years',\n",
      "                                                   'supervisor_evaluation',\n",
      "                                                   'salary'])])),\n",
      "                ('models', SVR(C=2))])\n",
      "Метрика лучшей модели на тренировочной выборке: -14.539921397636453\n",
      "Лучшие гиперпараметры модели: {'models': SVR(), 'models__C': 2, 'models__kernel': 'rbf', 'preprocessor__num': StandardScaler(), 'preprocessor__ohe': Pipeline(steps=[('simpleImputer_ohe', SimpleImputer(strategy='most_frequent')),\n",
      "                ('ohe',\n",
      "                 OneHotEncoder(drop='first', handle_unknown='ignore',\n",
      "                               sparse_output=False))]), 'preprocessor__ord': Pipeline(steps=[('simpleImputer_before_ord',\n",
      "                 SimpleImputer(strategy='most_frequent')),\n",
      "                ('ord',\n",
      "                 OrdinalEncoder(categories=[['junior', 'middle', 'sinior'],\n",
      "                                            ['medium', 'low', 'high']],\n",
      "                                handle_unknown='use_encoded_value',\n",
      "                                unknown_value=nan)),\n",
      "                ('simpleImputer_after_ord',\n",
      "                 SimpleImputer(strategy='most_frequent'))])}\n"
     ]
    }
   ],
   "source": [
    "# создаем словари для разных моделей\n",
    "\n",
    "param_grid = [\n",
    "    # DecisionTreeRegressor\n",
    "    {\n",
    "        'models': [DecisionTreeRegressor(random_state=RANDOM_STATE)],\n",
    "        'models__max_depth': range(2,30), # максимальная глубина дерева\n",
    "        'models__max_features': range (2, 10), # максимальное количество признаков, которое следует рассмотреть при поиске лучшего расщепления\n",
    "        'preprocessor__num': [MinMaxScaler()],\n",
    "        'preprocessor__ohe': [ohe_pipe],\n",
    "        'preprocessor__ord': [ord_pipe]\n",
    "    },\n",
    "    # SVR (регрессия опорных векторов)\n",
    "\n",
    "    {\n",
    "        'models': [SVR()],\n",
    "        'models__kernel':['linear', 'rbf'], # тип ядра\n",
    "        'models__C':[0.1, 2, 5, 10, 20],\n",
    "        'preprocessor__num': [StandardScaler(), MinMaxScaler()],\n",
    "        'preprocessor__ohe': [ohe_pipe],\n",
    "        'preprocessor__ord': [ord_pipe]\n",
    "    }\n",
    "]\n",
    "\n",
    "grid_tree=GridSearchCV(\n",
    "    pipe_final,\n",
    "    param_grid,\n",
    "    cv=5,\n",
    "    scoring=smape_scorer,\n",
    "    n_jobs=-1,\n",
    "    error_score='raise',\n",
    ")\n",
    "\n",
    "grid_tree.fit(X, y)\n",
    "\n",
    "print('Лучшая модель и её параметры:\\n\\n', grid_tree.best_estimator_)\n",
    "print ('Метрика лучшей модели на тренировочной выборке:', grid_tree.best_score_)\n",
    "print('Лучшие гиперпараметры модели:', grid_tree.best_params_)\n",
    "\n"
   ]
  },
  {
   "cell_type": "markdown",
   "id": "22b12491-868e-4ab5-9156-50afc55cd2f3",
   "metadata": {},
   "source": [
    "#### Рейтинг проверенных моделей"
   ]
  },
  {
   "cell_type": "markdown",
   "id": "d8ca77f2-df48-4a5a-a2ae-0bce3a04064b",
   "metadata": {},
   "source": [
    "Рассмотрим 10 лучших моделей."
   ]
  },
  {
   "cell_type": "code",
   "execution_count": 46,
   "id": "7ae546f8-5d0a-4a3c-8ea7-8c8d88b60171",
   "metadata": {},
   "outputs": [
    {
     "data": {
      "text/html": [
       "<div>\n",
       "<style scoped>\n",
       "    .dataframe tbody tr th:only-of-type {\n",
       "        vertical-align: middle;\n",
       "    }\n",
       "\n",
       "    .dataframe tbody tr th {\n",
       "        vertical-align: top;\n",
       "    }\n",
       "\n",
       "    .dataframe thead th {\n",
       "        text-align: right;\n",
       "    }\n",
       "</style>\n",
       "<table border=\"1\" class=\"dataframe\">\n",
       "  <thead>\n",
       "    <tr style=\"text-align: right;\">\n",
       "      <th></th>\n",
       "      <th>mean_test_score</th>\n",
       "      <th>rank_test_score</th>\n",
       "      <th>params</th>\n",
       "      <th>std_test_score</th>\n",
       "    </tr>\n",
       "  </thead>\n",
       "  <tbody>\n",
       "    <tr>\n",
       "      <th>230</th>\n",
       "      <td>-14.539921</td>\n",
       "      <td>1</td>\n",
       "      <td>{'models': SVR(), 'models__C': 2, 'models__kernel': 'rbf', 'preprocessor__num': StandardScaler(), 'preprocessor__ohe': (SimpleImputer(strategy='most_frequent'), OneHotEncoder(drop='first', handle_unknown='ignore', sparse_output=False)), 'preprocessor__ord': (SimpleImputer(strategy='most_frequent'), OrdinalEncoder(categories=[['junior', 'middle', 'sinior'],\n",
       "                           ['medium', 'low', 'high']],\n",
       "               handle_unknown='use_encoded_value', unknown_value=nan), SimpleImputer(strategy='most_frequent'))}</td>\n",
       "      <td>0.395336</td>\n",
       "    </tr>\n",
       "    <tr>\n",
       "      <th>234</th>\n",
       "      <td>-14.562997</td>\n",
       "      <td>2</td>\n",
       "      <td>{'models': SVR(), 'models__C': 5, 'models__kernel': 'rbf', 'preprocessor__num': StandardScaler(), 'preprocessor__ohe': (SimpleImputer(strategy='most_frequent'), OneHotEncoder(drop='first', handle_unknown='ignore', sparse_output=False)), 'preprocessor__ord': (SimpleImputer(strategy='most_frequent'), OrdinalEncoder(categories=[['junior', 'middle', 'sinior'],\n",
       "                           ['medium', 'low', 'high']],\n",
       "               handle_unknown='use_encoded_value', unknown_value=nan), SimpleImputer(strategy='most_frequent'))}</td>\n",
       "      <td>0.495179</td>\n",
       "    </tr>\n",
       "    <tr>\n",
       "      <th>238</th>\n",
       "      <td>-14.651711</td>\n",
       "      <td>3</td>\n",
       "      <td>{'models': SVR(), 'models__C': 10, 'models__kernel': 'rbf', 'preprocessor__num': StandardScaler(), 'preprocessor__ohe': (SimpleImputer(strategy='most_frequent'), OneHotEncoder(drop='first', handle_unknown='ignore', sparse_output=False)), 'preprocessor__ord': (SimpleImputer(strategy='most_frequent'), OrdinalEncoder(categories=[['junior', 'middle', 'sinior'],\n",
       "                           ['medium', 'low', 'high']],\n",
       "               handle_unknown='use_encoded_value', unknown_value=nan), SimpleImputer(strategy='most_frequent'))}</td>\n",
       "      <td>0.581012</td>\n",
       "    </tr>\n",
       "    <tr>\n",
       "      <th>242</th>\n",
       "      <td>-14.832794</td>\n",
       "      <td>4</td>\n",
       "      <td>{'models': SVR(), 'models__C': 20, 'models__kernel': 'rbf', 'preprocessor__num': StandardScaler(), 'preprocessor__ohe': (SimpleImputer(strategy='most_frequent'), OneHotEncoder(drop='first', handle_unknown='ignore', sparse_output=False)), 'preprocessor__ord': (SimpleImputer(strategy='most_frequent'), OrdinalEncoder(categories=[['junior', 'middle', 'sinior'],\n",
       "                           ['medium', 'low', 'high']],\n",
       "               handle_unknown='use_encoded_value', unknown_value=nan), SimpleImputer(strategy='most_frequent'))}</td>\n",
       "      <td>0.571739</td>\n",
       "    </tr>\n",
       "    <tr>\n",
       "      <th>125</th>\n",
       "      <td>-15.255657</td>\n",
       "      <td>5</td>\n",
       "      <td>{'models': DecisionTreeRegressor(random_state=42), 'models__max_depth': 17, 'models__max_features': 7, 'preprocessor__num': MinMaxScaler(), 'preprocessor__ohe': (SimpleImputer(strategy='most_frequent'), OneHotEncoder(drop='first', handle_unknown='ignore', sparse_output=False)), 'preprocessor__ord': (SimpleImputer(strategy='most_frequent'), OrdinalEncoder(categories=[['junior', 'middle', 'sinior'],\n",
       "                           ['medium', 'low', 'high']],\n",
       "               handle_unknown='use_encoded_value', unknown_value=nan), SimpleImputer(strategy='most_frequent'))}</td>\n",
       "      <td>0.750951</td>\n",
       "    </tr>\n",
       "  </tbody>\n",
       "</table>\n",
       "</div>"
      ],
      "text/plain": [
       "     mean_test_score  rank_test_score  \\\n",
       "230       -14.539921                1   \n",
       "234       -14.562997                2   \n",
       "238       -14.651711                3   \n",
       "242       -14.832794                4   \n",
       "125       -15.255657                5   \n",
       "\n",
       "                                                                                                                                                                                                                                                                                                                                                                                                                                                                                                                                                                                       params  \\\n",
       "230                                            {'models': SVR(), 'models__C': 2, 'models__kernel': 'rbf', 'preprocessor__num': StandardScaler(), 'preprocessor__ohe': (SimpleImputer(strategy='most_frequent'), OneHotEncoder(drop='first', handle_unknown='ignore', sparse_output=False)), 'preprocessor__ord': (SimpleImputer(strategy='most_frequent'), OrdinalEncoder(categories=[['junior', 'middle', 'sinior'],\n",
       "                           ['medium', 'low', 'high']],\n",
       "               handle_unknown='use_encoded_value', unknown_value=nan), SimpleImputer(strategy='most_frequent'))}   \n",
       "234                                            {'models': SVR(), 'models__C': 5, 'models__kernel': 'rbf', 'preprocessor__num': StandardScaler(), 'preprocessor__ohe': (SimpleImputer(strategy='most_frequent'), OneHotEncoder(drop='first', handle_unknown='ignore', sparse_output=False)), 'preprocessor__ord': (SimpleImputer(strategy='most_frequent'), OrdinalEncoder(categories=[['junior', 'middle', 'sinior'],\n",
       "                           ['medium', 'low', 'high']],\n",
       "               handle_unknown='use_encoded_value', unknown_value=nan), SimpleImputer(strategy='most_frequent'))}   \n",
       "238                                           {'models': SVR(), 'models__C': 10, 'models__kernel': 'rbf', 'preprocessor__num': StandardScaler(), 'preprocessor__ohe': (SimpleImputer(strategy='most_frequent'), OneHotEncoder(drop='first', handle_unknown='ignore', sparse_output=False)), 'preprocessor__ord': (SimpleImputer(strategy='most_frequent'), OrdinalEncoder(categories=[['junior', 'middle', 'sinior'],\n",
       "                           ['medium', 'low', 'high']],\n",
       "               handle_unknown='use_encoded_value', unknown_value=nan), SimpleImputer(strategy='most_frequent'))}   \n",
       "242                                           {'models': SVR(), 'models__C': 20, 'models__kernel': 'rbf', 'preprocessor__num': StandardScaler(), 'preprocessor__ohe': (SimpleImputer(strategy='most_frequent'), OneHotEncoder(drop='first', handle_unknown='ignore', sparse_output=False)), 'preprocessor__ord': (SimpleImputer(strategy='most_frequent'), OrdinalEncoder(categories=[['junior', 'middle', 'sinior'],\n",
       "                           ['medium', 'low', 'high']],\n",
       "               handle_unknown='use_encoded_value', unknown_value=nan), SimpleImputer(strategy='most_frequent'))}   \n",
       "125  {'models': DecisionTreeRegressor(random_state=42), 'models__max_depth': 17, 'models__max_features': 7, 'preprocessor__num': MinMaxScaler(), 'preprocessor__ohe': (SimpleImputer(strategy='most_frequent'), OneHotEncoder(drop='first', handle_unknown='ignore', sparse_output=False)), 'preprocessor__ord': (SimpleImputer(strategy='most_frequent'), OrdinalEncoder(categories=[['junior', 'middle', 'sinior'],\n",
       "                           ['medium', 'low', 'high']],\n",
       "               handle_unknown='use_encoded_value', unknown_value=nan), SimpleImputer(strategy='most_frequent'))}   \n",
       "\n",
       "     std_test_score  \n",
       "230        0.395336  \n",
       "234        0.495179  \n",
       "238        0.581012  \n",
       "242        0.571739  \n",
       "125        0.750951  "
      ]
     },
     "execution_count": 46,
     "metadata": {},
     "output_type": "execute_result"
    }
   ],
   "source": [
    "model_cv_result = pd.DataFrame(grid_tree.cv_results_)\n",
    "model_cv_result = model_cv_result.sort_values(['rank_test_score'])\n",
    "pd.set_option('display.max_colwidth', None)\n",
    "model_cv_result[['mean_test_score', 'rank_test_score', 'params', 'std_test_score']].head(5)"
   ]
  },
  {
   "cell_type": "markdown",
   "id": "fd9775bf-dffc-43d2-bf92-0ccbef660a05",
   "metadata": {},
   "source": [
    "#### Проверка модели на тестовой выборке"
   ]
  },
  {
   "cell_type": "code",
   "execution_count": 47,
   "id": "7ccbdbec-2b1e-4b7a-98bc-ba8d2274d352",
   "metadata": {},
   "outputs": [
    {
     "name": "stderr",
     "output_type": "stream",
     "text": [
      "/opt/conda/lib/python3.9/site-packages/sklearn/preprocessing/_encoders.py:242: UserWarning: Found unknown categories in columns [0] during transform. These unknown categories will be encoded as all zeros\n",
      "  warnings.warn(\n"
     ]
    }
   ],
   "source": [
    "job_satisfaction_prediction = grid_tree.best_estimator_.predict(test_features)"
   ]
  },
  {
   "cell_type": "code",
   "execution_count": 48,
   "id": "1ada4480-67fd-44f2-86d2-d5c2da245ee9",
   "metadata": {},
   "outputs": [],
   "source": [
    "test_features['job_satisfaction_prediction'] = job_satisfaction_prediction"
   ]
  },
  {
   "cell_type": "code",
   "execution_count": 49,
   "id": "c2c18329-d47b-4b22-8dc8-72899e517b5d",
   "metadata": {},
   "outputs": [],
   "source": [
    "smape_final = smape(test_target_sat['job_satisfaction_rate'], test_features['job_satisfaction_prediction'])"
   ]
  },
  {
   "cell_type": "code",
   "execution_count": 50,
   "id": "69eb6a52-488a-4631-b492-c0959de46704",
   "metadata": {},
   "outputs": [
    {
     "data": {
      "text/plain": [
       "13.805919424883347"
      ]
     },
     "execution_count": 50,
     "metadata": {},
     "output_type": "execute_result"
    }
   ],
   "source": [
    "smape_final"
   ]
  },
  {
   "cell_type": "markdown",
   "id": "f7b20959-f4be-4c0b-948a-5c775e12d64e",
   "metadata": {},
   "source": [
    "При подборе гиперпараметров всё время лучшей моделью оказывалась DessionTreeRegression, но необходимого порога достигнуть не удавалось. Было принято решение ввести дополнительный параметр в SVR модель - тип ядра kernel Radial Basis Function (rbf). После этого модель сразу достигла необходимого порога качества (SMAPE<15), как на тренировочной, так и на тестовой выборках. "
   ]
  },
  {
   "cell_type": "markdown",
   "id": "28917592-e528-4061-bcb6-9b669a7ecdaa",
   "metadata": {},
   "source": [
    "#### Важность признаков"
   ]
  },
  {
   "cell_type": "markdown",
   "id": "8d636587-6406-4cd2-b0b8-f6a38b41a003",
   "metadata": {},
   "source": [
    "Изучим важность признаков для модели. Будем использовать столбчатую диаграмму SHAP, которая отражает общий вклад признаков в прогнозы модели."
   ]
  },
  {
   "cell_type": "code",
   "execution_count": null,
   "id": "4dd82f3f-4f07-4429-b9be-1a9cfee48526",
   "metadata": {},
   "outputs": [],
   "source": [
    "# Получаем предсказания модели\n",
    "model = grid_tree.best_estimator_.named_steps['models']\n",
    "\n",
    "# Используем masker для создания объекта маски\n",
    "masker = shap.maskers.Independent(X_test_transform)\n",
    "\n",
    "# Выбираем случайную подвыборку с 1000 образцов\n",
    "X_test_sample = shap.sample(X_test_transform, 5000)\n",
    "\n",
    "# Создаем объяснитель с помощью KernelExplainer\n",
    "explainer = shap.KernelExplainer(model.predict, masker)\n",
    "\n",
    "# Получаем SHAP-значения для подвыборки\n",
    "shap_values = explainer.shap_values(X_test_sample)"
   ]
  },
  {
   "cell_type": "code",
   "execution_count": 51,
   "id": "d0a2e7e4-2a56-4c38-887c-1aee28a2f6b8",
   "metadata": {},
   "outputs": [
    {
     "name": "stderr",
     "output_type": "stream",
     "text": [
      "/opt/conda/lib/python3.9/site-packages/sklearn/preprocessing/_encoders.py:242: UserWarning: Found unknown categories in columns [0] during transform. These unknown categories will be encoded as all zeros\n",
      "  warnings.warn(\n"
     ]
    }
   ],
   "source": [
    "# Преобразуем данные тестовой выборки\n",
    "X_test_transform = grid_tree.best_estimator_.named_steps['preprocessor'].transform(test_features)\n",
    "X_test_sample = shap.sample(X_test_transform, 1000)\n",
    "masker = shap.maskers.Independent(X_test_sample)\n",
    "explainer = shap.Explainer(grid_tree.best_estimator_.named_steps['models'].predict, masker, seed=RANDOM_STATE)"
   ]
  },
  {
   "cell_type": "code",
   "execution_count": 52,
   "id": "b1a3f4fe-6588-425a-87b5-4a025bbf0cf1",
   "metadata": {},
   "outputs": [
    {
     "name": "stderr",
     "output_type": "stream",
     "text": [
      "PermutationExplainer explainer: 2001it [30:12,  1.10it/s]                           \n"
     ]
    }
   ],
   "source": [
    "# получаем значения shap_values (около 6 минут).\n",
    "shap_values = explainer(X_test_transform)"
   ]
  },
  {
   "cell_type": "code",
   "execution_count": 53,
   "id": "c1cc970f-599b-4c15-939c-320375f95baf",
   "metadata": {},
   "outputs": [],
   "source": [
    "# Получаем имена признаков из ColumnTransfermer\n",
    "preprocessor = grid_tree.best_estimator_.named_steps['preprocessor']"
   ]
  },
  {
   "cell_type": "code",
   "execution_count": 54,
   "id": "b2586ec9-a16d-4267-99d5-a6c53e5006eb",
   "metadata": {},
   "outputs": [],
   "source": [
    "# преобразуем имена\n",
    "feature_names = preprocessor.get_feature_names_out()\n",
    "feature_names = feature_names.tolist()\n",
    "shap_values_new = shap_values\n",
    "shap_values_new.feature_names = feature_names"
   ]
  },
  {
   "cell_type": "code",
   "execution_count": 55,
   "id": "a30febd1-f041-4e54-8db6-b4ebff6e6d37",
   "metadata": {},
   "outputs": [
    {
     "data": {
      "image/png": "[encoded data removed]",
      "text/plain": [
       "<Figure size 576x504 with 1 Axes>"
      ]
     },
     "metadata": {},
     "output_type": "display_data"
    }
   ],
   "source": [
    "shap.plots.bar(shap_values_new, max_display=18)"
   ]
  },
  {
   "cell_type": "markdown",
   "id": "19f6b5de-f019-4e96-8708-25c9f44d6e70",
   "metadata": {},
   "source": [
    "Наиболее важными признаками для предсказания удовлетворенности сотрудников с точки зрения модели являются:  \n",
    "зарплата сотрудника,\n",
    "оценка качества работы сотрудника, которую дал руководитель,    \n",
    "уровень занимаемой должности,  \n",
    "уровень загруженности сотрудника."
   ]
  },
  {
   "cell_type": "markdown",
   "id": "99daf331-de7f-4835-9d60-28b3a1289979",
   "metadata": {},
   "source": [
    "## Выводы"
   ]
  },
  {
   "cell_type": "markdown",
   "id": "d84d0f02-fee8-4faa-aeef-d3993843f44f",
   "metadata": {},
   "source": [
    "**<span style='color: green;'>Лучшей моделью для предсказания уровня удовлетворенности сотрудников оказалась модель регрессии на основе метода опорных векторов. Параметры лучшей модели следующие: нелинейное ядро радиальной базисной функции (Radial Basis Function) и гиперпараметр  C=2.</span>**  \n",
    "\n",
    "Модель SVR с ядром rbf могла оказаться лучшей, так как она лучше захватывает сложные нелинейные зависимости, лучше работает в условиях шума в данных. В модель были включены три признака, которые имеют слабую линейную связь с целевым признаком, что видно из корреляционного анализа. Деревья решений требуют более четкой настройки гиперпараметров. Возможно, если включить дополнительные гиперпараметры и исключить признаки со слабой связью, удалось бы настроить модель дерева решений.  \n",
    "Кроме того, когда количество признаков небольшое, но при этом большое количество значений признаков лучше справляется как раз модель опорных векторов с нелинейным ядром."
   ]
  },
  {
   "cell_type": "markdown",
   "id": "1dc40f60-8cf6-4066-b333-181e2ce418b8",
   "metadata": {},
   "source": [
    "# Задача 2: предсказание увольнения сотрудников из компании"
   ]
  },
  {
   "cell_type": "markdown",
   "id": "5cd8330a-2f4d-4586-9eae-4804e6d2870b",
   "metadata": {},
   "source": [
    "## Загрузка данных"
   ]
  },
  {
   "cell_type": "markdown",
   "id": "710c290f-2eac-4078-ba51-fecdc55be64f",
   "metadata": {},
   "source": [
    "Все данные были загружены в начале проекта."
   ]
  },
  {
   "cell_type": "markdown",
   "id": "e9ce3e7c-3b1f-4345-97cb-2d29d5c6c3da",
   "metadata": {},
   "source": [
    "## Предобработка данных"
   ]
  },
  {
   "cell_type": "markdown",
   "id": "f6a0dc9e-5daf-4a67-b086-ff2c5ca90016",
   "metadata": {},
   "source": [
    "Для построения второй модели необходимо использовать следующие данные:       \n",
    "test_features - входные признаки тестовой выборки (Таблица test_features)  \n",
    "train_quit - тренировочная выборка (Таблица train_quit)  \n",
    "test_target_quit - целевой признак тестовой выборки (Таблица test_target_quit)"
   ]
  },
  {
   "cell_type": "markdown",
   "id": "a4f357ff-cf56-477d-8a7e-a325e0f5c931",
   "metadata": {},
   "source": [
    "### Основная информация о таблицах"
   ]
  },
  {
   "cell_type": "code",
   "execution_count": 56,
   "id": "2f427017-6647-4fff-9664-167f6e248ee3",
   "metadata": {},
   "outputs": [
    {
     "name": "stdout",
     "output_type": "stream",
     "text": [
      "<class 'pandas.core.frame.DataFrame'>\n",
      "RangeIndex: 4000 entries, 0 to 3999\n",
      "Data columns (total 10 columns):\n",
      " #   Column                 Non-Null Count  Dtype \n",
      "---  ------                 --------------  ----- \n",
      " 0   id                     4000 non-null   int64 \n",
      " 1   dept                   4000 non-null   object\n",
      " 2   level                  4000 non-null   object\n",
      " 3   workload               4000 non-null   object\n",
      " 4   employment_years       4000 non-null   int64 \n",
      " 5   last_year_promo        4000 non-null   object\n",
      " 6   last_year_violations   4000 non-null   object\n",
      " 7   supervisor_evaluation  4000 non-null   int64 \n",
      " 8   salary                 4000 non-null   int64 \n",
      " 9   quit                   4000 non-null   object\n",
      "dtypes: int64(4), object(6)\n",
      "memory usage: 312.6+ KB\n"
     ]
    }
   ],
   "source": [
    "train_quit.info()"
   ]
  },
  {
   "cell_type": "markdown",
   "id": "4c591749-9513-4c2c-8d2e-1fd29ab98ce8",
   "metadata": {},
   "source": [
    "В таблице train_quit содержится 10 столбцов. Пропусков в столбцах нет."
   ]
  },
  {
   "cell_type": "code",
   "execution_count": 57,
   "id": "93a07253-f78f-4f64-9c0b-9ebda4d5a6a8",
   "metadata": {},
   "outputs": [
    {
     "data": {
      "text/html": [
       "<div>\n",
       "<style scoped>\n",
       "    .dataframe tbody tr th:only-of-type {\n",
       "        vertical-align: middle;\n",
       "    }\n",
       "\n",
       "    .dataframe tbody tr th {\n",
       "        vertical-align: top;\n",
       "    }\n",
       "\n",
       "    .dataframe thead th {\n",
       "        text-align: right;\n",
       "    }\n",
       "</style>\n",
       "<table border=\"1\" class=\"dataframe\">\n",
       "  <thead>\n",
       "    <tr style=\"text-align: right;\">\n",
       "      <th></th>\n",
       "      <th>id</th>\n",
       "      <th>dept</th>\n",
       "      <th>level</th>\n",
       "      <th>workload</th>\n",
       "      <th>employment_years</th>\n",
       "      <th>last_year_promo</th>\n",
       "      <th>last_year_violations</th>\n",
       "      <th>supervisor_evaluation</th>\n",
       "      <th>salary</th>\n",
       "      <th>quit</th>\n",
       "    </tr>\n",
       "  </thead>\n",
       "  <tbody>\n",
       "    <tr>\n",
       "      <th>0</th>\n",
       "      <td>723290</td>\n",
       "      <td>sales</td>\n",
       "      <td>middle</td>\n",
       "      <td>high</td>\n",
       "      <td>2</td>\n",
       "      <td>no</td>\n",
       "      <td>no</td>\n",
       "      <td>4</td>\n",
       "      <td>54000</td>\n",
       "      <td>no</td>\n",
       "    </tr>\n",
       "    <tr>\n",
       "      <th>1</th>\n",
       "      <td>814010</td>\n",
       "      <td>sales</td>\n",
       "      <td>junior</td>\n",
       "      <td>medium</td>\n",
       "      <td>2</td>\n",
       "      <td>no</td>\n",
       "      <td>no</td>\n",
       "      <td>4</td>\n",
       "      <td>27600</td>\n",
       "      <td>no</td>\n",
       "    </tr>\n",
       "    <tr>\n",
       "      <th>2</th>\n",
       "      <td>155091</td>\n",
       "      <td>purchasing</td>\n",
       "      <td>middle</td>\n",
       "      <td>medium</td>\n",
       "      <td>5</td>\n",
       "      <td>no</td>\n",
       "      <td>no</td>\n",
       "      <td>1</td>\n",
       "      <td>37200</td>\n",
       "      <td>no</td>\n",
       "    </tr>\n",
       "    <tr>\n",
       "      <th>3</th>\n",
       "      <td>257132</td>\n",
       "      <td>sales</td>\n",
       "      <td>junior</td>\n",
       "      <td>medium</td>\n",
       "      <td>2</td>\n",
       "      <td>no</td>\n",
       "      <td>yes</td>\n",
       "      <td>3</td>\n",
       "      <td>24000</td>\n",
       "      <td>yes</td>\n",
       "    </tr>\n",
       "    <tr>\n",
       "      <th>4</th>\n",
       "      <td>910140</td>\n",
       "      <td>marketing</td>\n",
       "      <td>junior</td>\n",
       "      <td>medium</td>\n",
       "      <td>2</td>\n",
       "      <td>no</td>\n",
       "      <td>no</td>\n",
       "      <td>5</td>\n",
       "      <td>25200</td>\n",
       "      <td>no</td>\n",
       "    </tr>\n",
       "  </tbody>\n",
       "</table>\n",
       "</div>"
      ],
      "text/plain": [
       "       id        dept   level workload  employment_years last_year_promo  \\\n",
       "0  723290       sales  middle     high                 2              no   \n",
       "1  814010       sales  junior   medium                 2              no   \n",
       "2  155091  purchasing  middle   medium                 5              no   \n",
       "3  257132       sales  junior   medium                 2              no   \n",
       "4  910140   marketing  junior   medium                 2              no   \n",
       "\n",
       "  last_year_violations  supervisor_evaluation  salary quit  \n",
       "0                   no                      4   54000   no  \n",
       "1                   no                      4   27600   no  \n",
       "2                   no                      1   37200   no  \n",
       "3                  yes                      3   24000  yes  \n",
       "4                   no                      5   25200   no  "
      ]
     },
     "execution_count": 57,
     "metadata": {},
     "output_type": "execute_result"
    }
   ],
   "source": [
    "train_quit.head(5)"
   ]
  },
  {
   "cell_type": "code",
   "execution_count": 58,
   "id": "cb6d4684-8b82-44df-b78e-75ab325563a1",
   "metadata": {},
   "outputs": [
    {
     "name": "stdout",
     "output_type": "stream",
     "text": [
      "<class 'pandas.core.frame.DataFrame'>\n",
      "RangeIndex: 2000 entries, 0 to 1999\n",
      "Data columns (total 2 columns):\n",
      " #   Column  Non-Null Count  Dtype \n",
      "---  ------  --------------  ----- \n",
      " 0   id      2000 non-null   int64 \n",
      " 1   quit    2000 non-null   object\n",
      "dtypes: int64(1), object(1)\n",
      "memory usage: 31.4+ KB\n"
     ]
    }
   ],
   "source": [
    "test_target_quit.info()"
   ]
  },
  {
   "cell_type": "markdown",
   "id": "7f1e90bc-557d-4235-94f0-2cc1c25f1a5a",
   "metadata": {},
   "source": [
    "В таблице train_quit содержится 2 столбца. Пропусков в столбцах нет."
   ]
  },
  {
   "cell_type": "code",
   "execution_count": 59,
   "id": "7ac4005f-f2a6-4df9-8eaa-dc25548f6b00",
   "metadata": {},
   "outputs": [
    {
     "name": "stdout",
     "output_type": "stream",
     "text": [
      "<class 'pandas.core.frame.DataFrame'>\n",
      "Int64Index: 2000 entries, 100298 to 999029\n",
      "Data columns (total 9 columns):\n",
      " #   Column                       Non-Null Count  Dtype  \n",
      "---  ------                       --------------  -----  \n",
      " 0   dept                         1998 non-null   object \n",
      " 1   level                        1999 non-null   object \n",
      " 2   workload                     2000 non-null   object \n",
      " 3   employment_years             2000 non-null   int64  \n",
      " 4   last_year_promo              2000 non-null   object \n",
      " 5   last_year_violations         2000 non-null   object \n",
      " 6   supervisor_evaluation        2000 non-null   int64  \n",
      " 7   salary                       2000 non-null   int64  \n",
      " 8   job_satisfaction_prediction  2000 non-null   float64\n",
      "dtypes: float64(1), int64(3), object(5)\n",
      "memory usage: 156.2+ KB\n"
     ]
    }
   ],
   "source": [
    "test_features.info()"
   ]
  },
  {
   "cell_type": "markdown",
   "id": "fccb3d2f-b7af-4f5a-b902-17b920290d12",
   "metadata": {},
   "source": [
    "Таблица test_features использовалась ранее. Столбец id перенесен в индексы."
   ]
  },
  {
   "cell_type": "markdown",
   "id": "f3b6f582-6613-4cce-958b-230375a346b8",
   "metadata": {},
   "source": [
    "### Проверка на неявные дубликаты"
   ]
  },
  {
   "cell_type": "code",
   "execution_count": 60,
   "id": "5f15019b-d182-4986-aee9-dcb104e247a8",
   "metadata": {},
   "outputs": [
    {
     "name": "stdout",
     "output_type": "stream",
     "text": [
      "Уникальные значения в столбце dept\n",
      "['sales' 'purchasing' 'marketing' 'technology' 'hr']\n",
      "\n",
      "Уникальные значения в столбце level\n",
      "['middle' 'junior' 'sinior']\n",
      "\n",
      "Уникальные значения в столбце workload\n",
      "['high' 'medium' 'low']\n",
      "\n",
      "Уникальные значения в столбце last_year_promo\n",
      "['no' 'yes']\n",
      "\n",
      "Уникальные значения в столбце last_year_violations\n",
      "['no' 'yes']\n",
      "\n",
      "Уникальные значения в столбце quit\n",
      "['no' 'yes']\n",
      "\n"
     ]
    }
   ],
   "source": [
    "for col in train_quit.select_dtypes(include='object').columns:\n",
    "    print('Уникальные значения в столбце', col)\n",
    "    print(train_quit[col].unique())\n",
    "    print()"
   ]
  },
  {
   "cell_type": "markdown",
   "id": "d1679cdb-75ad-4ecf-84a0-6a0b4ad3a1d1",
   "metadata": {},
   "source": [
    "Неявных дубликатов в таблице нет, названия признаков совпадают с таблицами из задачи 1."
   ]
  },
  {
   "cell_type": "code",
   "execution_count": 61,
   "id": "c7a6ceeb-9d01-4780-8331-9984ee0ae333",
   "metadata": {},
   "outputs": [
    {
     "data": {
      "text/plain": [
       "array(['yes', 'no'], dtype=object)"
      ]
     },
     "execution_count": 61,
     "metadata": {},
     "output_type": "execute_result"
    }
   ],
   "source": [
    "test_target_quit['quit'].unique()"
   ]
  },
  {
   "cell_type": "markdown",
   "id": "82e5d1c8-47e8-41ac-a6ea-9ce0173a8148",
   "metadata": {},
   "source": [
    "Неявных дубликатов нет, quit принимает только два значения yes или no."
   ]
  },
  {
   "cell_type": "markdown",
   "id": "b2e0740f-ba86-42ae-9c7b-ddce416a38b3",
   "metadata": {},
   "source": [
    "### Проверка на явные дубликаты"
   ]
  },
  {
   "cell_type": "code",
   "execution_count": 62,
   "id": "d0fa0525-6752-480a-bb4b-663a02157857",
   "metadata": {},
   "outputs": [
    {
     "data": {
      "text/plain": [
       "0"
      ]
     },
     "execution_count": 62,
     "metadata": {},
     "output_type": "execute_result"
    }
   ],
   "source": [
    "test_target_quit.duplicated().sum()"
   ]
  },
  {
   "cell_type": "code",
   "execution_count": 63,
   "id": "4c98ab9a-5dd1-4c0e-9c73-b99cc8e8ecb4",
   "metadata": {},
   "outputs": [
    {
     "data": {
      "text/plain": [
       "0"
      ]
     },
     "execution_count": 63,
     "metadata": {},
     "output_type": "execute_result"
    }
   ],
   "source": [
    "train_quit.duplicated().sum()"
   ]
  },
  {
   "cell_type": "markdown",
   "id": "5618dbe1-3687-453f-98de-a39dc5262a84",
   "metadata": {},
   "source": [
    "Явных дубликатов в новых данных нет."
   ]
  },
  {
   "cell_type": "markdown",
   "id": "f8dec78c-37dd-43ce-8cc3-8d99d1da5b4e",
   "metadata": {},
   "source": [
    "**<span style='color: green;'>Вывод:  \n",
    "Неявных и явных дубликатов в новых данных нет.  \n",
    "Названия признаков соответствуют названиям из таблиц задачи 1.  \n",
    "Пропущенных значений в новых данных нет.</span>**"
   ]
  },
  {
   "cell_type": "markdown",
   "id": "e8b11e1f-55a4-435f-b34d-71b68ddc0808",
   "metadata": {},
   "source": [
    "## Исследовательский анализ данных"
   ]
  },
  {
   "cell_type": "markdown",
   "id": "d15f451b-1ef9-43d0-932b-61d86e1c3b47",
   "metadata": {},
   "source": [
    "### Исследовательский анализ данных признаков из таблицы train_quit"
   ]
  },
  {
   "cell_type": "markdown",
   "id": "5618ea43-1ac3-4f4f-826c-cf680920d519",
   "metadata": {},
   "source": [
    "Для исследовательского анализа количественных признаков будем использовать функции из предыдущей задачи."
   ]
  },
  {
   "cell_type": "markdown",
   "id": "4a72ddc3-d618-46cc-ae04-846cf3c74647",
   "metadata": {},
   "source": [
    "#### Длительность работы в компании"
   ]
  },
  {
   "cell_type": "code",
   "execution_count": 64,
   "id": "1e9a447a-78f1-4641-97a7-17044d166ffa",
   "metadata": {},
   "outputs": [
    {
     "data": {
      "image/png": "[encoded data removed]",
      "text/plain": [
       "<Figure size 360x360 with 1 Axes>"
      ]
     },
     "metadata": {
      "needs_background": "light"
     },
     "output_type": "display_data"
    },
    {
     "name": "stdout",
     "output_type": "stream",
     "text": [
      "count    4000.000000\n",
      "mean        3.701500\n",
      "std         2.541852\n",
      "min         1.000000\n",
      "25%         2.000000\n",
      "50%         3.000000\n",
      "75%         6.000000\n",
      "max        10.000000\n",
      "Name: employment_years, dtype: float64\n"
     ]
    }
   ],
   "source": [
    "plot_histogram(train_quit, 'employment_years', bins=10)"
   ]
  },
  {
   "cell_type": "markdown",
   "id": "c6483c1b-d916-471c-9bdf-d26c79fd817f",
   "metadata": {},
   "source": [
    "Распределение данных сходно с распределением данных из предыдущей задачи. Значение медианы состаляет 3 года. Разброс значений укладывается в диапазон от года до десяти лет."
   ]
  },
  {
   "cell_type": "markdown",
   "id": "a2163b7e-04c3-4b7a-8066-f2630cc9a16d",
   "metadata": {},
   "source": [
    "#### Оценка качества работы сотрудников, которую дал руководитель"
   ]
  },
  {
   "cell_type": "code",
   "execution_count": 65,
   "id": "3c275c14-77ca-42e7-998f-62af2c5c4ef0",
   "metadata": {},
   "outputs": [
    {
     "data": {
      "image/png": "[encoded data removed]",
      "text/plain": [
       "<Figure size 360x360 with 1 Axes>"
      ]
     },
     "metadata": {
      "needs_background": "light"
     },
     "output_type": "display_data"
    },
    {
     "name": "stdout",
     "output_type": "stream",
     "text": [
      "count    4000.000000\n",
      "mean        3.474750\n",
      "std         1.004049\n",
      "min         1.000000\n",
      "25%         3.000000\n",
      "50%         4.000000\n",
      "75%         4.000000\n",
      "max         5.000000\n",
      "Name: supervisor_evaluation, dtype: float64\n"
     ]
    }
   ],
   "source": [
    "plot_histogram(train_quit, 'supervisor_evaluation', bins=5)"
   ]
  },
  {
   "cell_type": "markdown",
   "id": "8722a295-a2a0-40bf-98d0-2c560943c427",
   "metadata": {},
   "source": [
    "Распределение данных сходно с распределением данных из предыдущей задачи. Используется такая же пятибальная система. Медиана распределения соответствует оценке 4."
   ]
  },
  {
   "cell_type": "markdown",
   "id": "f1ff6a81-12d3-4513-8147-85409bdbfd86",
   "metadata": {},
   "source": [
    "#### Ежемесячная зарплата сотрудника"
   ]
  },
  {
   "cell_type": "code",
   "execution_count": 66,
   "id": "8427e4f6-9cc7-4e7e-be7f-dd6948720b23",
   "metadata": {},
   "outputs": [
    {
     "data": {
      "image/png": "[encoded data removed]",
      "text/plain": [
       "<Figure size 360x360 with 1 Axes>"
      ]
     },
     "metadata": {
      "needs_background": "light"
     },
     "output_type": "display_data"
    },
    {
     "name": "stdout",
     "output_type": "stream",
     "text": [
      "count     4000.000000\n",
      "mean     33805.800000\n",
      "std      15152.415163\n",
      "min      12000.000000\n",
      "25%      22800.000000\n",
      "50%      30000.000000\n",
      "75%      43200.000000\n",
      "max      96000.000000\n",
      "Name: salary, dtype: float64\n"
     ]
    }
   ],
   "source": [
    "plot_histogram(train_quit, 'salary', bins=15)"
   ]
  },
  {
   "cell_type": "markdown",
   "id": "a3a0f3c9-4418-420e-88bd-129e057bccd2",
   "metadata": {},
   "source": [
    "Распределение для зарплат также сходно с данными из предыдущей задачи. Зарплаты распределены от 12 тыс до 96 тыс, медиана составляет 30 тыс."
   ]
  },
  {
   "cell_type": "markdown",
   "id": "7edbf1eb-6624-4072-be32-caf8c49f5748",
   "metadata": {},
   "source": [
    "#### Анализ качественных признаков в тренировочной выборке"
   ]
  },
  {
   "cell_type": "code",
   "execution_count": 67,
   "id": "9e184de6-b651-4416-b132-9d28d45a27eb",
   "metadata": {},
   "outputs": [
    {
     "data": {
      "image/png": "[encoded data removed]",
      "text/plain": [
       "<Figure size 720x720 with 6 Axes>"
      ]
     },
     "metadata": {
      "needs_background": "light"
     },
     "output_type": "display_data"
    }
   ],
   "source": [
    "object_columns3 = train_quit.select_dtypes(include='object').columns\n",
    "\n",
    "num_cols = 2 # количество столбцов\n",
    "num_rows = 3 # строк\n",
    "\n",
    "fig, axes = plt.subplots(num_rows, num_cols, figsize=(10, 10)) #создаем поле для графика\n",
    "axes = axes.flatten() # преобразуем двухмерный массив, так как графиков 5 другого варианта не получилось\n",
    "\n",
    "for i, col in enumerate(object_columns3): # рисуем график для каждого столбца\n",
    "    ax=axes[i]\n",
    "    train_quit[col].value_counts().plot(kind='bar', ax=axes[i], title=col)\n",
    "    axes[i].set_ylabel('Frequency')\n",
    "    axes[i].set_xlabel('')\n",
    "\n",
    "plt.tight_layout() # настройка интервала между графиками\n",
    "plt.show()"
   ]
  },
  {
   "cell_type": "markdown",
   "id": "e15d0cb0-ea1e-4056-b643-1b55633d6599",
   "metadata": {},
   "source": [
    "Распределения качественных признаков в данных train_quit сопоставимо с данными из предыдущей задачи.  \n",
    "Целевой признак quit имеет дисбаланс классов - в данных представленно больше сотрудников, которые не попали под увольнение. "
   ]
  },
  {
   "cell_type": "markdown",
   "id": "997be423-f120-444f-b1ff-fba77d8d4059",
   "metadata": {},
   "source": [
    "**<span style='color: green;'>Вывод:  \n",
    "Распределения данных в таблице train_quit сопостовимо с данными из задачи 1.  \n",
    "Целевой признак quit качественный, представлен двумя значениями yes и no. Кроме того, целевой признак имеет дисбаланс классов.</span>**"
   ]
  },
  {
   "cell_type": "markdown",
   "id": "9ae0bb2d-0c54-4f1d-b428-3080dcc73d57",
   "metadata": {},
   "source": [
    "### Исследование уволившихся сотрудников"
   ]
  },
  {
   "cell_type": "markdown",
   "id": "9a420eea-40fa-46dc-a42e-040b66c5b1af",
   "metadata": {},
   "source": [
    "Используя таблицу train_quit, найдем закономерности, которые характерны для уволившихся сотрудников."
   ]
  },
  {
   "cell_type": "markdown",
   "id": "9fa6ed0f-af07-496f-a1b7-9a364cd51617",
   "metadata": {},
   "source": [
    "Сначала проанализируем, как связано увольнение с другими качественными признаками."
   ]
  },
  {
   "cell_type": "code",
   "execution_count": 68,
   "id": "74c8b6f9-8653-4961-8950-c142879e98b4",
   "metadata": {},
   "outputs": [
    {
     "data": {
      "image/png": "[encoded data removed]",
      "text/plain": [
       "<Figure size 720x720 with 6 Axes>"
      ]
     },
     "metadata": {
      "needs_background": "light"
     },
     "output_type": "display_data"
    }
   ],
   "source": [
    "object_columns3 = train_quit.select_dtypes(include='object').columns\n",
    "\n",
    "num_cols=2\n",
    "num_rows=3\n",
    "\n",
    "fig, axes = plt.subplots(num_rows, num_cols, figsize=(10, 10))\n",
    "axes = axes.flatten() \n",
    "\n",
    "for i, column in enumerate(object_columns3):\n",
    "    if column != 'quit':\n",
    "        sb.countplot(x=column, hue='quit', data=train_quit, ax=axes[i])\n",
    "        axes[i].set_xlabel(column)\n",
    "        axes[i].set_ylabel('Количество')\n",
    "        axes[i].legend(title='Уволился')\n",
    "\n",
    "plt.tight_layout() \n",
    "plt.show()"
   ]
  },
  {
   "cell_type": "markdown",
   "id": "3ed193d9-58f8-4bc9-bd97-d4d1cdfa2d3c",
   "metadata": {},
   "source": [
    "Из полученных столбчатых диаграмм можно сделать следующие выводы:\n",
    "* Увольнение слабо зависит от занимаемой должности. Для должностей, которых больше в данных, больше уволившихся сотрудников и наоборот.\n",
    "* Увольнение зависит от уровня занимаемой должности, больше всего сотрудников увольняется с начальной должности junior, т.е. наибольшая текучисть кадров на должностях начального уровня.\n",
    "* Увольняется больше всего сотрудников, которые менее загружены.\n",
    "* Повышение также влияет на увольнение, сотрудники, которые получили повышение, не увольняются.  "
   ]
  },
  {
   "cell_type": "markdown",
   "id": "5252175e-2fe8-4baf-959a-8e44805af2f1",
   "metadata": {},
   "source": [
    "Для проверки сделанных предположений дополнительно построим столбчатые диаграммы для соотношения уволившихся и не уволившихся сотрудников."
   ]
  },
  {
   "cell_type": "code",
   "execution_count": 69,
   "id": "00021ea5-15da-4954-8ca6-ebae1cd4f75a",
   "metadata": {},
   "outputs": [
    {
     "data": {
      "image/png": "[encoded data removed]",
      "text/plain": [
       "<Figure size 720x720 with 6 Axes>"
      ]
     },
     "metadata": {
      "needs_background": "light"
     },
     "output_type": "display_data"
    }
   ],
   "source": [
    "object_columns3 = train_quit.select_dtypes(include='object').columns\n",
    "\n",
    "num_cols = 2\n",
    "num_rows = 3\n",
    "\n",
    "fig, axes = plt.subplots(num_rows, num_cols, figsize=(10, 10))\n",
    "axes = axes.flatten() \n",
    "\n",
    "for i, column in enumerate(object_columns3):\n",
    "    if column != 'quit':\n",
    "        pivot_table = pd.pivot_table(train_quit, index=column, columns='quit', aggfunc='size')\n",
    "        pivot_table.columns = ['no', 'yes']  \n",
    "# расчет отношения уволившихся к общему числу сотрудников\n",
    "        pivot_table['ratio'] = pivot_table['yes'] / (pivot_table['yes'] + pivot_table['no']) \n",
    "        \n",
    "        plot_data = pivot_table['ratio'].reset_index()\n",
    "        \n",
    "        sb.barplot(x=column, y='ratio', data=plot_data, ax=axes[i])\n",
    "        axes[i].set_xlabel(column)\n",
    "        axes[i].set_ylabel('Отношение')\n",
    "\n",
    "plt.tight_layout()\n",
    "plt.show()        "
   ]
  },
  {
   "cell_type": "markdown",
   "id": "a14fc569-9891-4f00-b5e5-c1d911a3e2f7",
   "metadata": {},
   "source": [
    "Можно дополнить предыдущие выводы:\n",
    "* Чуть больше увольняются специалисты technology, меньше всего hr.\n"
   ]
  },
  {
   "cell_type": "markdown",
   "id": "5c270b5f-3906-4ce6-bf46-0b22e7b323e2",
   "metadata": {},
   "source": [
    "Изучим, как увольнение связано с количественными признаками. Для этого сравним распределения количественных признаков для уволившися и не уволившихся сотрудников."
   ]
  },
  {
   "cell_type": "code",
   "execution_count": 70,
   "id": "2e0ec9e4-8ba5-4c2a-82f6-2e928670c231",
   "metadata": {},
   "outputs": [
    {
     "data": {
      "image/png": "[encoded data removed]",
      "text/plain": [
       "<Figure size 360x360 with 1 Axes>"
      ]
     },
     "metadata": {
      "needs_background": "light"
     },
     "output_type": "display_data"
    },
    {
     "name": "stdout",
     "output_type": "stream",
     "text": [
      "       count          mean           std      min      25%      50%      75%  \\\n",
      "quit                                                                           \n",
      "no    2872.0  37702.228412  15218.977339  12000.0  25200.0  34800.0  46800.0   \n",
      "yes   1128.0  23885.106383   9351.599505  12000.0  16800.0  22800.0  27600.0   \n",
      "\n",
      "          max  \n",
      "quit           \n",
      "no    96000.0  \n",
      "yes   79200.0  \n"
     ]
    }
   ],
   "source": [
    "plt.figure(figsize=(5, 5))\n",
    "sb.histplot(data=train_quit, x='salary', hue='quit', multiple='stack', bins=10)\n",
    "plt.xlabel('Зарплата')\n",
    "plt.ylabel('Частота')\n",
    "plt.show()\n",
    "print(train_quit.groupby('quit')['salary'].describe())"
   ]
  },
  {
   "cell_type": "markdown",
   "id": "5d794c66-1396-4e5a-8690-53e6c5bd1424",
   "metadata": {},
   "source": [
    "Больше увольняется сотрудников с низкой зарплатой. 75% таких сотрудников получают зарплату до 28 тыс, т.е. ниже средней зарплаты не уволившихся сотрудников. Медиана зарплаты не уволившихся также выше, чем уволившихся."
   ]
  },
  {
   "cell_type": "code",
   "execution_count": 71,
   "id": "49c28224-f41f-4c16-98d4-74cb5db20f24",
   "metadata": {},
   "outputs": [
    {
     "data": {
      "image/png": "[encoded data removed]",
      "text/plain": [
       "<Figure size 360x360 with 1 Axes>"
      ]
     },
     "metadata": {
      "needs_background": "light"
     },
     "output_type": "display_data"
    },
    {
     "name": "stdout",
     "output_type": "stream",
     "text": [
      "       count      mean       std  min  25%  50%  75%   max\n",
      "quit                                                      \n",
      "no    2872.0  4.430710  2.544635  1.0  2.0  4.0  6.0  10.0\n",
      "yes   1128.0  1.844858  1.274920  1.0  1.0  1.0  2.0  10.0\n"
     ]
    }
   ],
   "source": [
    "plt.figure(figsize=(5, 5))\n",
    "sb.histplot(data=train_quit, x='employment_years', hue='quit', multiple='stack', bins=10)\n",
    "\n",
    "# Добавление меток и заголовка\n",
    "plt.xlabel('Стаж, годы')\n",
    "plt.ylabel('Частота')\n",
    "plt.show()\n",
    "print(train_quit.groupby('quit')['employment_years'].describe())"
   ]
  },
  {
   "cell_type": "markdown",
   "id": "e6edd886-0dc6-4942-903b-bf65f37b0eb3",
   "metadata": {},
   "source": [
    "Больше увольняется сотрудников, проработавших в компании от одного до 2 лет."
   ]
  },
  {
   "cell_type": "code",
   "execution_count": 72,
   "id": "d3df419c-c43d-41c1-a3aa-ac61e2d92f48",
   "metadata": {},
   "outputs": [
    {
     "data": {
      "image/png": "[encoded data removed]",
      "text/plain": [
       "<Figure size 360x360 with 1 Axes>"
      ]
     },
     "metadata": {
      "needs_background": "light"
     },
     "output_type": "display_data"
    },
    {
     "name": "stdout",
     "output_type": "stream",
     "text": [
      "       count      mean       std  min  25%  50%  75%  max\n",
      "quit                                                     \n",
      "no    2872.0  3.643106  0.965295  1.0  3.0  4.0  4.0  5.0\n",
      "yes   1128.0  3.046099  0.973291  1.0  3.0  3.0  4.0  5.0\n"
     ]
    }
   ],
   "source": [
    "plt.figure(figsize=(5, 5))\n",
    "sb.histplot(data=train_quit, x='supervisor_evaluation', hue='quit', multiple='stack', bins=5)\n",
    "\n",
    "# Добавление меток и заголовка\n",
    "plt.xlabel('Оценка руководителя')\n",
    "plt.ylabel('Частота')\n",
    "plt.show()\n",
    "print(train_quit.groupby('quit')['supervisor_evaluation'].describe())"
   ]
  },
  {
   "cell_type": "markdown",
   "id": "57e7ee47-d61c-444a-94ce-29caf9fe066f",
   "metadata": {},
   "source": [
    "В данном случае какой-либо закономерности не наблюдается. Распределения оценок уволившихся и не уволившихся сотрудников почти совпадают."
   ]
  },
  {
   "cell_type": "markdown",
   "id": "0a105184-77f9-4fa1-87c1-4169fbadb144",
   "metadata": {},
   "source": [
    "**<span style='color: green;'>Вывод:  \n",
    "Теперь можно составить приблизительный портрет \"уволившегося сотрудника\".\n",
    "Это сотрудник обычно занимает не высокую должность, работает в компании не очень давно, имеет не так много обязанностей, получает не большую зарплату. Есть небольшой перекос в сторону технического персонала. Значительно влияет повышение, сотрудники с повышением не увольняются.  \n",
    "Таким образом, в основном это начинающий сотрудник компании.</span>** "
   ]
  },
  {
   "cell_type": "markdown",
   "id": "3bddf0b5-e471-45c3-972c-dfe24b88389a",
   "metadata": {},
   "source": [
    "### Влияние уровня удовлетворенности сотрудника на его увольнение"
   ]
  },
  {
   "cell_type": "markdown",
   "id": "6fbf03b1-2eeb-47b9-8a13-68b6240afa5b",
   "metadata": {},
   "source": [
    "Необходимо проверить утверждение, что уровень удовлетворенности сотрудника работой в компаниии влияет на то, уволится ли сотрудник.  \n",
    "Для этого необходимо визуализировать и сравнить распределения признаков job_satisfaction_rate для ушедших и оставшихся сотрудников.\n",
    "\n",
    "*по условию задачи необходимо использовать данные с обоими целевыми признаками тестовой выборки. Я это понял так, что необходимо объединить таблицы test_target_quit и таблицу test_target_job_satisfaction_rate по id    "
   ]
  },
  {
   "cell_type": "code",
   "execution_count": 73,
   "id": "952a0bc2-e7c3-4599-adf6-d3854f3e1db4",
   "metadata": {},
   "outputs": [],
   "source": [
    "test_target_quit.set_index('id', inplace=True) # убираем id индекс\n",
    "test_target_quit.sort_index(inplace=True) # сортируем по инедуксу"
   ]
  },
  {
   "cell_type": "code",
   "execution_count": 74,
   "id": "40bc96a8-78e8-4a62-a53e-2d6550cd8107",
   "metadata": {},
   "outputs": [
    {
     "data": {
      "text/html": [
       "<div>\n",
       "<style scoped>\n",
       "    .dataframe tbody tr th:only-of-type {\n",
       "        vertical-align: middle;\n",
       "    }\n",
       "\n",
       "    .dataframe tbody tr th {\n",
       "        vertical-align: top;\n",
       "    }\n",
       "\n",
       "    .dataframe thead th {\n",
       "        text-align: right;\n",
       "    }\n",
       "</style>\n",
       "<table border=\"1\" class=\"dataframe\">\n",
       "  <thead>\n",
       "    <tr style=\"text-align: right;\">\n",
       "      <th></th>\n",
       "      <th>quit</th>\n",
       "    </tr>\n",
       "    <tr>\n",
       "      <th>id</th>\n",
       "      <th></th>\n",
       "    </tr>\n",
       "  </thead>\n",
       "  <tbody>\n",
       "    <tr>\n",
       "      <th>100298</th>\n",
       "      <td>no</td>\n",
       "    </tr>\n",
       "    <tr>\n",
       "      <th>100480</th>\n",
       "      <td>no</td>\n",
       "    </tr>\n",
       "    <tr>\n",
       "      <th>100503</th>\n",
       "      <td>no</td>\n",
       "    </tr>\n",
       "    <tr>\n",
       "      <th>100610</th>\n",
       "      <td>no</td>\n",
       "    </tr>\n",
       "    <tr>\n",
       "      <th>100692</th>\n",
       "      <td>no</td>\n",
       "    </tr>\n",
       "  </tbody>\n",
       "</table>\n",
       "</div>"
      ],
      "text/plain": [
       "       quit\n",
       "id         \n",
       "100298   no\n",
       "100480   no\n",
       "100503   no\n",
       "100610   no\n",
       "100692   no"
      ]
     },
     "execution_count": 74,
     "metadata": {},
     "output_type": "execute_result"
    }
   ],
   "source": [
    "test_target_quit.head(5) #проверка"
   ]
  },
  {
   "cell_type": "code",
   "execution_count": 75,
   "id": "079eb342-dded-4553-b58d-b62d91d386ab",
   "metadata": {},
   "outputs": [
    {
     "data": {
      "text/html": [
       "<div>\n",
       "<style scoped>\n",
       "    .dataframe tbody tr th:only-of-type {\n",
       "        vertical-align: middle;\n",
       "    }\n",
       "\n",
       "    .dataframe tbody tr th {\n",
       "        vertical-align: top;\n",
       "    }\n",
       "\n",
       "    .dataframe thead th {\n",
       "        text-align: right;\n",
       "    }\n",
       "</style>\n",
       "<table border=\"1\" class=\"dataframe\">\n",
       "  <thead>\n",
       "    <tr style=\"text-align: right;\">\n",
       "      <th></th>\n",
       "      <th>job_satisfaction_rate</th>\n",
       "    </tr>\n",
       "    <tr>\n",
       "      <th>id</th>\n",
       "      <th></th>\n",
       "    </tr>\n",
       "  </thead>\n",
       "  <tbody>\n",
       "    <tr>\n",
       "      <th>100298</th>\n",
       "      <td>0.80</td>\n",
       "    </tr>\n",
       "    <tr>\n",
       "      <th>100480</th>\n",
       "      <td>0.84</td>\n",
       "    </tr>\n",
       "    <tr>\n",
       "      <th>100503</th>\n",
       "      <td>0.79</td>\n",
       "    </tr>\n",
       "    <tr>\n",
       "      <th>100610</th>\n",
       "      <td>0.75</td>\n",
       "    </tr>\n",
       "    <tr>\n",
       "      <th>100692</th>\n",
       "      <td>0.69</td>\n",
       "    </tr>\n",
       "  </tbody>\n",
       "</table>\n",
       "</div>"
      ],
      "text/plain": [
       "        job_satisfaction_rate\n",
       "id                           \n",
       "100298                   0.80\n",
       "100480                   0.84\n",
       "100503                   0.79\n",
       "100610                   0.75\n",
       "100692                   0.69"
      ]
     },
     "execution_count": 75,
     "metadata": {},
     "output_type": "execute_result"
    }
   ],
   "source": [
    "test_target_sat.head(5)"
   ]
  },
  {
   "cell_type": "code",
   "execution_count": 76,
   "id": "4d1c636a-ef15-4219-82ae-87eafd0d7325",
   "metadata": {},
   "outputs": [],
   "source": [
    "step33 = pd.merge(test_target_quit, test_target_sat, left_index=True, right_index=True) # объединим две таблицы"
   ]
  },
  {
   "cell_type": "code",
   "execution_count": 77,
   "id": "ec8ac117-1da0-47cd-a4e9-ab58016ceb00",
   "metadata": {},
   "outputs": [
    {
     "data": {
      "text/html": [
       "<div>\n",
       "<style scoped>\n",
       "    .dataframe tbody tr th:only-of-type {\n",
       "        vertical-align: middle;\n",
       "    }\n",
       "\n",
       "    .dataframe tbody tr th {\n",
       "        vertical-align: top;\n",
       "    }\n",
       "\n",
       "    .dataframe thead th {\n",
       "        text-align: right;\n",
       "    }\n",
       "</style>\n",
       "<table border=\"1\" class=\"dataframe\">\n",
       "  <thead>\n",
       "    <tr style=\"text-align: right;\">\n",
       "      <th></th>\n",
       "      <th>quit</th>\n",
       "      <th>job_satisfaction_rate</th>\n",
       "    </tr>\n",
       "    <tr>\n",
       "      <th>id</th>\n",
       "      <th></th>\n",
       "      <th></th>\n",
       "    </tr>\n",
       "  </thead>\n",
       "  <tbody>\n",
       "    <tr>\n",
       "      <th>100298</th>\n",
       "      <td>no</td>\n",
       "      <td>0.80</td>\n",
       "    </tr>\n",
       "    <tr>\n",
       "      <th>100480</th>\n",
       "      <td>no</td>\n",
       "      <td>0.84</td>\n",
       "    </tr>\n",
       "    <tr>\n",
       "      <th>100503</th>\n",
       "      <td>no</td>\n",
       "      <td>0.79</td>\n",
       "    </tr>\n",
       "    <tr>\n",
       "      <th>100610</th>\n",
       "      <td>no</td>\n",
       "      <td>0.75</td>\n",
       "    </tr>\n",
       "    <tr>\n",
       "      <th>100692</th>\n",
       "      <td>no</td>\n",
       "      <td>0.69</td>\n",
       "    </tr>\n",
       "  </tbody>\n",
       "</table>\n",
       "</div>"
      ],
      "text/plain": [
       "       quit  job_satisfaction_rate\n",
       "id                                \n",
       "100298   no                   0.80\n",
       "100480   no                   0.84\n",
       "100503   no                   0.79\n",
       "100610   no                   0.75\n",
       "100692   no                   0.69"
      ]
     },
     "execution_count": 77,
     "metadata": {},
     "output_type": "execute_result"
    }
   ],
   "source": [
    "step33.head() # проверка"
   ]
  },
  {
   "cell_type": "code",
   "execution_count": 82,
   "id": "a898fc3f-20b9-4ab2-b457-a16d0e18a6f8",
   "metadata": {},
   "outputs": [
    {
     "data": {
      "image/png": "[encoded data removed]",
      "text/plain": [
       "<Figure size 360x360 with 2 Axes>"
      ]
     },
     "metadata": {
      "needs_background": "light"
     },
     "output_type": "display_data"
    },
    {
     "name": "stdout",
     "output_type": "stream",
     "text": [
      "       count      mean       std   min   25%   50%     75%   max\n",
      "quit                                                            \n",
      "no    1436.0  0.612040  0.199367  0.03  0.50  0.66  0.7600  1.00\n",
      "yes    564.0  0.387713  0.185784  0.04  0.24  0.37  0.4925  0.97\n"
     ]
    }
   ],
   "source": [
    "meanprops = {\n",
    "    \"marker\": \"o\",\n",
    "    \"markerfacecolor\": \"white\", \n",
    "    \"markeredgecolor\": \"white\",\n",
    "    \"markersize\": 4\n",
    "}\n",
    "\n",
    "flierprops = {\n",
    "    \"marker\": \"o\",\n",
    "    \"markerfacecolor\": \"black\", \n",
    "    \"markeredgecolor\": \"black\",\n",
    "    \"markersize\": 2\n",
    "}\n",
    "\n",
    "# palette = sb.color_palette(\"deep\")\n",
    "palette = sb.color_palette('coolwarm', n_colors=2)\n",
    "fig, (ax_box, ax_hist) = plt.subplots(2, sharex=True, gridspec_kw={\"height_ratios\": (.30, .70)}, figsize=(5, 5))\n",
    "sb.boxplot(data=step33, x = 'job_satisfaction_rate', y='quit', showmeans=True, meanprops=meanprops, orient='h', ax=ax_box, palette=palette, flierprops=flierprops)\n",
    "sb.histplot(data=step33, x='job_satisfaction_rate', hue='quit', bins=20, ax=ax_hist, kde=True, palette=palette)\n",
    "ax_box.set_xlabel('')\n",
    "ax_hist.set_xlabel('Удовлетворенность')\n",
    "ax_hist.set_ylabel('Частота')\n",
    "plt.show()\n",
    "print(step33.groupby('quit')['job_satisfaction_rate'].describe())\n",
    "\n",
    "# такой код я использовал для анализа данных по своей работе, решил адаптировать и перенести сюда"
   ]
  },
  {
   "cell_type": "markdown",
   "id": "a762bc3e-91be-4527-877a-5f705fa0c803",
   "metadata": {},
   "source": [
    "Среднее и медиана уволившихся сотрудников соответствуют более низким значениям удовлетворенности сотрудников. 0.38 и 0.37 против 0.61 и 0.66."
   ]
  },
  {
   "cell_type": "markdown",
   "id": "fd081fc6-f0cc-4f50-81b1-5e616592a1e2",
   "metadata": {},
   "source": [
    "Сравним статистически два распределения, будем использовать непараметрический тест Манна-Уитни. Выбор сделан был в пользу данного теста, так как выборки очень отличаются по размеру."
   ]
  },
  {
   "cell_type": "code",
   "execution_count": 83,
   "id": "fc971de8-13d2-4a85-98f2-1505608037e2",
   "metadata": {},
   "outputs": [
    {
     "name": "stdout",
     "output_type": "stream",
     "text": [
      "167292.5 5.673072286850858e-93\n"
     ]
    }
   ],
   "source": [
    "# разделим данные на две группы yes и no\n",
    "yes_group = step33[step33['quit'] == 'yes']['job_satisfaction_rate']\n",
    "no_group = step33[step33['quit'] == 'no']['job_satisfaction_rate']\n",
    "\n",
    "# теста Манна-Уитни\n",
    "u_statistic, p_value = stats.mannwhitneyu(yes_group, no_group, alternative='two-sided')\n",
    "\n",
    "print(u_statistic, p_value)"
   ]
  },
  {
   "cell_type": "markdown",
   "id": "f4c150fa-6383-4f2d-9e2f-98f532c628b3",
   "metadata": {},
   "source": [
    "Полученное значение p-value << 0.001 и меньше заданного уровня значимости (0.05), поэтому можно отвергнуть нулевую гипотезу и принять альтернативную гипотезу о том, что распределения отличаются и удовлетворенность сотрудников работой в компании влияет на то, уволится ли сотрудник."
   ]
  },
  {
   "cell_type": "markdown",
   "id": "19026be5-6740-4f11-8111-8e9a67f0c21e",
   "metadata": {},
   "source": [
    "Дополнительно посмотрим корреляцию между признаками."
   ]
  },
  {
   "cell_type": "code",
   "execution_count": 84,
   "id": "0d931c84-70a1-473b-a38a-df4c3ceb0f9b",
   "metadata": {},
   "outputs": [
    {
     "data": {
      "image/png": "[encoded data removed]",
      "text/plain": [
       "<Figure size 720x720 with 2 Axes>"
      ]
     },
     "metadata": {
      "needs_background": "light"
     },
     "output_type": "display_data"
    }
   ],
   "source": [
    "phik_overview = step33.phik_matrix(interval_cols=['job_satisfaction_rate'])\n",
    "plot_correlation_matrix(\n",
    "    phik_overview.values,\n",
    "    x_labels=phik_overview.columns,\n",
    "    y_labels=phik_overview.index,\n",
    "    vmin=0,\n",
    "    vmax=1,\n",
    "    color_map='Blues',\n",
    "    title=r'correlation $\\phi_K$',\n",
    "    fontsize_factor=1,\n",
    "    figsize=(10,10)\n",
    ")\n",
    "plt.tight_layout()"
   ]
  },
  {
   "cell_type": "markdown",
   "id": "2f588c09-5e68-46bb-9e70-af03b6407fc4",
   "metadata": {},
   "source": [
    "**<span style='color: green;'>Вывод:  \n",
    "утверждение аналитиков оказалось верным, удовлетворенность сотрудника работой в компании влияет на то, уволится ли сотрудник.\n",
    "Корреляция между признаками составляет 0.61.</span>** "
   ]
  },
  {
   "cell_type": "markdown",
   "id": "0272ce17-9dc0-47e8-945d-f95fb35ca62f",
   "metadata": {},
   "source": [
    "## Добавление нового входного признака"
   ]
  },
  {
   "cell_type": "markdown",
   "id": "c6748bbb-0524-4d91-a98c-d2d63cba0dbc",
   "metadata": {},
   "source": [
    "Добавляем job_satisfaction_rate, предсказанный лучшей моделью из первой задачи к входным признакам второй задачи (train_quit)."
   ]
  },
  {
   "cell_type": "code",
   "execution_count": 85,
   "id": "2991adf8-f687-4621-8845-f6c51ae30181",
   "metadata": {},
   "outputs": [
    {
     "data": {
      "text/html": [
       "<div>\n",
       "<style scoped>\n",
       "    .dataframe tbody tr th:only-of-type {\n",
       "        vertical-align: middle;\n",
       "    }\n",
       "\n",
       "    .dataframe tbody tr th {\n",
       "        vertical-align: top;\n",
       "    }\n",
       "\n",
       "    .dataframe thead th {\n",
       "        text-align: right;\n",
       "    }\n",
       "</style>\n",
       "<table border=\"1\" class=\"dataframe\">\n",
       "  <thead>\n",
       "    <tr style=\"text-align: right;\">\n",
       "      <th></th>\n",
       "      <th>id</th>\n",
       "      <th>dept</th>\n",
       "      <th>level</th>\n",
       "      <th>workload</th>\n",
       "      <th>employment_years</th>\n",
       "      <th>last_year_promo</th>\n",
       "      <th>last_year_violations</th>\n",
       "      <th>supervisor_evaluation</th>\n",
       "      <th>salary</th>\n",
       "      <th>quit</th>\n",
       "    </tr>\n",
       "  </thead>\n",
       "  <tbody>\n",
       "    <tr>\n",
       "      <th>0</th>\n",
       "      <td>723290</td>\n",
       "      <td>sales</td>\n",
       "      <td>middle</td>\n",
       "      <td>high</td>\n",
       "      <td>2</td>\n",
       "      <td>no</td>\n",
       "      <td>no</td>\n",
       "      <td>4</td>\n",
       "      <td>54000</td>\n",
       "      <td>no</td>\n",
       "    </tr>\n",
       "    <tr>\n",
       "      <th>1</th>\n",
       "      <td>814010</td>\n",
       "      <td>sales</td>\n",
       "      <td>junior</td>\n",
       "      <td>medium</td>\n",
       "      <td>2</td>\n",
       "      <td>no</td>\n",
       "      <td>no</td>\n",
       "      <td>4</td>\n",
       "      <td>27600</td>\n",
       "      <td>no</td>\n",
       "    </tr>\n",
       "    <tr>\n",
       "      <th>2</th>\n",
       "      <td>155091</td>\n",
       "      <td>purchasing</td>\n",
       "      <td>middle</td>\n",
       "      <td>medium</td>\n",
       "      <td>5</td>\n",
       "      <td>no</td>\n",
       "      <td>no</td>\n",
       "      <td>1</td>\n",
       "      <td>37200</td>\n",
       "      <td>no</td>\n",
       "    </tr>\n",
       "    <tr>\n",
       "      <th>3</th>\n",
       "      <td>257132</td>\n",
       "      <td>sales</td>\n",
       "      <td>junior</td>\n",
       "      <td>medium</td>\n",
       "      <td>2</td>\n",
       "      <td>no</td>\n",
       "      <td>yes</td>\n",
       "      <td>3</td>\n",
       "      <td>24000</td>\n",
       "      <td>yes</td>\n",
       "    </tr>\n",
       "    <tr>\n",
       "      <th>4</th>\n",
       "      <td>910140</td>\n",
       "      <td>marketing</td>\n",
       "      <td>junior</td>\n",
       "      <td>medium</td>\n",
       "      <td>2</td>\n",
       "      <td>no</td>\n",
       "      <td>no</td>\n",
       "      <td>5</td>\n",
       "      <td>25200</td>\n",
       "      <td>no</td>\n",
       "    </tr>\n",
       "  </tbody>\n",
       "</table>\n",
       "</div>"
      ],
      "text/plain": [
       "       id        dept   level workload  employment_years last_year_promo  \\\n",
       "0  723290       sales  middle     high                 2              no   \n",
       "1  814010       sales  junior   medium                 2              no   \n",
       "2  155091  purchasing  middle   medium                 5              no   \n",
       "3  257132       sales  junior   medium                 2              no   \n",
       "4  910140   marketing  junior   medium                 2              no   \n",
       "\n",
       "  last_year_violations  supervisor_evaluation  salary quit  \n",
       "0                   no                      4   54000   no  \n",
       "1                   no                      4   27600   no  \n",
       "2                   no                      1   37200   no  \n",
       "3                  yes                      3   24000  yes  \n",
       "4                   no                      5   25200   no  "
      ]
     },
     "execution_count": 85,
     "metadata": {},
     "output_type": "execute_result"
    }
   ],
   "source": [
    "train_quit.head(5)"
   ]
  },
  {
   "cell_type": "code",
   "execution_count": 86,
   "id": "fc30962c-6373-486e-88f0-9fd8a49f0393",
   "metadata": {},
   "outputs": [],
   "source": [
    "train_quit.set_index('id', inplace=True)\n",
    "train_quit.sort_index(inplace=True)"
   ]
  },
  {
   "cell_type": "code",
   "execution_count": 87,
   "id": "36ff873c-685b-4a71-afc9-a6e885e1a593",
   "metadata": {},
   "outputs": [
    {
     "data": {
      "text/html": [
       "<div>\n",
       "<style scoped>\n",
       "    .dataframe tbody tr th:only-of-type {\n",
       "        vertical-align: middle;\n",
       "    }\n",
       "\n",
       "    .dataframe tbody tr th {\n",
       "        vertical-align: top;\n",
       "    }\n",
       "\n",
       "    .dataframe thead th {\n",
       "        text-align: right;\n",
       "    }\n",
       "</style>\n",
       "<table border=\"1\" class=\"dataframe\">\n",
       "  <thead>\n",
       "    <tr style=\"text-align: right;\">\n",
       "      <th></th>\n",
       "      <th>dept</th>\n",
       "      <th>level</th>\n",
       "      <th>workload</th>\n",
       "      <th>employment_years</th>\n",
       "      <th>last_year_promo</th>\n",
       "      <th>last_year_violations</th>\n",
       "      <th>supervisor_evaluation</th>\n",
       "      <th>salary</th>\n",
       "      <th>quit</th>\n",
       "    </tr>\n",
       "    <tr>\n",
       "      <th>id</th>\n",
       "      <th></th>\n",
       "      <th></th>\n",
       "      <th></th>\n",
       "      <th></th>\n",
       "      <th></th>\n",
       "      <th></th>\n",
       "      <th></th>\n",
       "      <th></th>\n",
       "      <th></th>\n",
       "    </tr>\n",
       "  </thead>\n",
       "  <tbody>\n",
       "    <tr>\n",
       "      <th>100222</th>\n",
       "      <td>sales</td>\n",
       "      <td>junior</td>\n",
       "      <td>medium</td>\n",
       "      <td>3</td>\n",
       "      <td>no</td>\n",
       "      <td>no</td>\n",
       "      <td>2</td>\n",
       "      <td>20400</td>\n",
       "      <td>yes</td>\n",
       "    </tr>\n",
       "    <tr>\n",
       "      <th>100459</th>\n",
       "      <td>purchasing</td>\n",
       "      <td>junior</td>\n",
       "      <td>medium</td>\n",
       "      <td>3</td>\n",
       "      <td>no</td>\n",
       "      <td>no</td>\n",
       "      <td>3</td>\n",
       "      <td>21600</td>\n",
       "      <td>yes</td>\n",
       "    </tr>\n",
       "    <tr>\n",
       "      <th>100469</th>\n",
       "      <td>marketing</td>\n",
       "      <td>junior</td>\n",
       "      <td>medium</td>\n",
       "      <td>1</td>\n",
       "      <td>no</td>\n",
       "      <td>no</td>\n",
       "      <td>4</td>\n",
       "      <td>28800</td>\n",
       "      <td>no</td>\n",
       "    </tr>\n",
       "    <tr>\n",
       "      <th>100601</th>\n",
       "      <td>technology</td>\n",
       "      <td>middle</td>\n",
       "      <td>high</td>\n",
       "      <td>4</td>\n",
       "      <td>no</td>\n",
       "      <td>no</td>\n",
       "      <td>4</td>\n",
       "      <td>68400</td>\n",
       "      <td>no</td>\n",
       "    </tr>\n",
       "    <tr>\n",
       "      <th>100858</th>\n",
       "      <td>sales</td>\n",
       "      <td>junior</td>\n",
       "      <td>medium</td>\n",
       "      <td>2</td>\n",
       "      <td>no</td>\n",
       "      <td>no</td>\n",
       "      <td>4</td>\n",
       "      <td>25200</td>\n",
       "      <td>yes</td>\n",
       "    </tr>\n",
       "  </tbody>\n",
       "</table>\n",
       "</div>"
      ],
      "text/plain": [
       "              dept   level workload  employment_years last_year_promo  \\\n",
       "id                                                                      \n",
       "100222       sales  junior   medium                 3              no   \n",
       "100459  purchasing  junior   medium                 3              no   \n",
       "100469   marketing  junior   medium                 1              no   \n",
       "100601  technology  middle     high                 4              no   \n",
       "100858       sales  junior   medium                 2              no   \n",
       "\n",
       "       last_year_violations  supervisor_evaluation  salary quit  \n",
       "id                                                               \n",
       "100222                   no                      2   20400  yes  \n",
       "100459                   no                      3   21600  yes  \n",
       "100469                   no                      4   28800   no  \n",
       "100601                   no                      4   68400   no  \n",
       "100858                   no                      4   25200  yes  "
      ]
     },
     "execution_count": 87,
     "metadata": {},
     "output_type": "execute_result"
    }
   ],
   "source": [
    "train_quit.head(5) # проверка"
   ]
  },
  {
   "cell_type": "code",
   "execution_count": 88,
   "id": "bd3ca3db-6299-4d1e-9a30-ce121b6b583f",
   "metadata": {},
   "outputs": [],
   "source": [
    "job_sat_pres_train_quit = grid_tree.best_estimator_.predict(train_quit)"
   ]
  },
  {
   "cell_type": "code",
   "execution_count": 89,
   "id": "00a04c1f-8aba-4dc9-b892-0a5d59da2119",
   "metadata": {},
   "outputs": [],
   "source": [
    "train_quit['job_satisfaction_prediction'] = job_sat_pres_train_quit"
   ]
  },
  {
   "cell_type": "code",
   "execution_count": 90,
   "id": "5e8040c6-62d8-4963-a467-e1d114e15bad",
   "metadata": {},
   "outputs": [
    {
     "data": {
      "text/html": [
       "<div>\n",
       "<style scoped>\n",
       "    .dataframe tbody tr th:only-of-type {\n",
       "        vertical-align: middle;\n",
       "    }\n",
       "\n",
       "    .dataframe tbody tr th {\n",
       "        vertical-align: top;\n",
       "    }\n",
       "\n",
       "    .dataframe thead th {\n",
       "        text-align: right;\n",
       "    }\n",
       "</style>\n",
       "<table border=\"1\" class=\"dataframe\">\n",
       "  <thead>\n",
       "    <tr style=\"text-align: right;\">\n",
       "      <th></th>\n",
       "      <th>dept</th>\n",
       "      <th>level</th>\n",
       "      <th>workload</th>\n",
       "      <th>employment_years</th>\n",
       "      <th>last_year_promo</th>\n",
       "      <th>last_year_violations</th>\n",
       "      <th>supervisor_evaluation</th>\n",
       "      <th>salary</th>\n",
       "      <th>quit</th>\n",
       "      <th>job_satisfaction_prediction</th>\n",
       "    </tr>\n",
       "    <tr>\n",
       "      <th>id</th>\n",
       "      <th></th>\n",
       "      <th></th>\n",
       "      <th></th>\n",
       "      <th></th>\n",
       "      <th></th>\n",
       "      <th></th>\n",
       "      <th></th>\n",
       "      <th></th>\n",
       "      <th></th>\n",
       "      <th></th>\n",
       "    </tr>\n",
       "  </thead>\n",
       "  <tbody>\n",
       "    <tr>\n",
       "      <th>100222</th>\n",
       "      <td>sales</td>\n",
       "      <td>junior</td>\n",
       "      <td>medium</td>\n",
       "      <td>3</td>\n",
       "      <td>no</td>\n",
       "      <td>no</td>\n",
       "      <td>2</td>\n",
       "      <td>20400</td>\n",
       "      <td>yes</td>\n",
       "      <td>0.408147</td>\n",
       "    </tr>\n",
       "    <tr>\n",
       "      <th>100459</th>\n",
       "      <td>purchasing</td>\n",
       "      <td>junior</td>\n",
       "      <td>medium</td>\n",
       "      <td>3</td>\n",
       "      <td>no</td>\n",
       "      <td>no</td>\n",
       "      <td>3</td>\n",
       "      <td>21600</td>\n",
       "      <td>yes</td>\n",
       "      <td>0.384597</td>\n",
       "    </tr>\n",
       "    <tr>\n",
       "      <th>100469</th>\n",
       "      <td>marketing</td>\n",
       "      <td>junior</td>\n",
       "      <td>medium</td>\n",
       "      <td>1</td>\n",
       "      <td>no</td>\n",
       "      <td>no</td>\n",
       "      <td>4</td>\n",
       "      <td>28800</td>\n",
       "      <td>no</td>\n",
       "      <td>0.633873</td>\n",
       "    </tr>\n",
       "    <tr>\n",
       "      <th>100601</th>\n",
       "      <td>technology</td>\n",
       "      <td>middle</td>\n",
       "      <td>high</td>\n",
       "      <td>4</td>\n",
       "      <td>no</td>\n",
       "      <td>no</td>\n",
       "      <td>4</td>\n",
       "      <td>68400</td>\n",
       "      <td>no</td>\n",
       "      <td>0.770490</td>\n",
       "    </tr>\n",
       "    <tr>\n",
       "      <th>100858</th>\n",
       "      <td>sales</td>\n",
       "      <td>junior</td>\n",
       "      <td>medium</td>\n",
       "      <td>2</td>\n",
       "      <td>no</td>\n",
       "      <td>no</td>\n",
       "      <td>4</td>\n",
       "      <td>25200</td>\n",
       "      <td>yes</td>\n",
       "      <td>0.769808</td>\n",
       "    </tr>\n",
       "  </tbody>\n",
       "</table>\n",
       "</div>"
      ],
      "text/plain": [
       "              dept   level workload  employment_years last_year_promo  \\\n",
       "id                                                                      \n",
       "100222       sales  junior   medium                 3              no   \n",
       "100459  purchasing  junior   medium                 3              no   \n",
       "100469   marketing  junior   medium                 1              no   \n",
       "100601  technology  middle     high                 4              no   \n",
       "100858       sales  junior   medium                 2              no   \n",
       "\n",
       "       last_year_violations  supervisor_evaluation  salary quit  \\\n",
       "id                                                                \n",
       "100222                   no                      2   20400  yes   \n",
       "100459                   no                      3   21600  yes   \n",
       "100469                   no                      4   28800   no   \n",
       "100601                   no                      4   68400   no   \n",
       "100858                   no                      4   25200  yes   \n",
       "\n",
       "        job_satisfaction_prediction  \n",
       "id                                   \n",
       "100222                     0.408147  \n",
       "100459                     0.384597  \n",
       "100469                     0.633873  \n",
       "100601                     0.770490  \n",
       "100858                     0.769808  "
      ]
     },
     "execution_count": 90,
     "metadata": {},
     "output_type": "execute_result"
    }
   ],
   "source": [
    "train_quit.head(5)"
   ]
  },
  {
   "cell_type": "code",
   "execution_count": 91,
   "id": "9add0a13-d200-462d-84ad-a6d37d202371",
   "metadata": {},
   "outputs": [
    {
     "data": {
      "text/html": [
       "<div>\n",
       "<style scoped>\n",
       "    .dataframe tbody tr th:only-of-type {\n",
       "        vertical-align: middle;\n",
       "    }\n",
       "\n",
       "    .dataframe tbody tr th {\n",
       "        vertical-align: top;\n",
       "    }\n",
       "\n",
       "    .dataframe thead th {\n",
       "        text-align: right;\n",
       "    }\n",
       "</style>\n",
       "<table border=\"1\" class=\"dataframe\">\n",
       "  <thead>\n",
       "    <tr style=\"text-align: right;\">\n",
       "      <th></th>\n",
       "      <th>dept</th>\n",
       "      <th>level</th>\n",
       "      <th>workload</th>\n",
       "      <th>employment_years</th>\n",
       "      <th>last_year_promo</th>\n",
       "      <th>last_year_violations</th>\n",
       "      <th>supervisor_evaluation</th>\n",
       "      <th>salary</th>\n",
       "      <th>job_satisfaction_prediction</th>\n",
       "    </tr>\n",
       "    <tr>\n",
       "      <th>id</th>\n",
       "      <th></th>\n",
       "      <th></th>\n",
       "      <th></th>\n",
       "      <th></th>\n",
       "      <th></th>\n",
       "      <th></th>\n",
       "      <th></th>\n",
       "      <th></th>\n",
       "      <th></th>\n",
       "    </tr>\n",
       "  </thead>\n",
       "  <tbody>\n",
       "    <tr>\n",
       "      <th>100298</th>\n",
       "      <td>hr</td>\n",
       "      <td>junior</td>\n",
       "      <td>low</td>\n",
       "      <td>2</td>\n",
       "      <td>no</td>\n",
       "      <td>no</td>\n",
       "      <td>4</td>\n",
       "      <td>19200</td>\n",
       "      <td>0.836224</td>\n",
       "    </tr>\n",
       "    <tr>\n",
       "      <th>100480</th>\n",
       "      <td>marketing</td>\n",
       "      <td>junior</td>\n",
       "      <td>low</td>\n",
       "      <td>4</td>\n",
       "      <td>no</td>\n",
       "      <td>no</td>\n",
       "      <td>4</td>\n",
       "      <td>16800</td>\n",
       "      <td>0.757995</td>\n",
       "    </tr>\n",
       "    <tr>\n",
       "      <th>100503</th>\n",
       "      <td>purchasing</td>\n",
       "      <td>middle</td>\n",
       "      <td>high</td>\n",
       "      <td>5</td>\n",
       "      <td>no</td>\n",
       "      <td>no</td>\n",
       "      <td>4</td>\n",
       "      <td>55200</td>\n",
       "      <td>0.713221</td>\n",
       "    </tr>\n",
       "    <tr>\n",
       "      <th>100610</th>\n",
       "      <td>sales</td>\n",
       "      <td>middle</td>\n",
       "      <td>medium</td>\n",
       "      <td>5</td>\n",
       "      <td>no</td>\n",
       "      <td>no</td>\n",
       "      <td>4</td>\n",
       "      <td>43200</td>\n",
       "      <td>0.814470</td>\n",
       "    </tr>\n",
       "    <tr>\n",
       "      <th>100692</th>\n",
       "      <td>sales</td>\n",
       "      <td>middle</td>\n",
       "      <td>high</td>\n",
       "      <td>6</td>\n",
       "      <td>no</td>\n",
       "      <td>no</td>\n",
       "      <td>4</td>\n",
       "      <td>48000</td>\n",
       "      <td>0.696646</td>\n",
       "    </tr>\n",
       "  </tbody>\n",
       "</table>\n",
       "</div>"
      ],
      "text/plain": [
       "              dept   level workload  employment_years last_year_promo  \\\n",
       "id                                                                      \n",
       "100298          hr  junior      low                 2              no   \n",
       "100480   marketing  junior      low                 4              no   \n",
       "100503  purchasing  middle     high                 5              no   \n",
       "100610       sales  middle   medium                 5              no   \n",
       "100692       sales  middle     high                 6              no   \n",
       "\n",
       "       last_year_violations  supervisor_evaluation  salary  \\\n",
       "id                                                           \n",
       "100298                   no                      4   19200   \n",
       "100480                   no                      4   16800   \n",
       "100503                   no                      4   55200   \n",
       "100610                   no                      4   43200   \n",
       "100692                   no                      4   48000   \n",
       "\n",
       "        job_satisfaction_prediction  \n",
       "id                                   \n",
       "100298                     0.836224  \n",
       "100480                     0.757995  \n",
       "100503                     0.713221  \n",
       "100610                     0.814470  \n",
       "100692                     0.696646  "
      ]
     },
     "execution_count": 91,
     "metadata": {},
     "output_type": "execute_result"
    }
   ],
   "source": [
    "test_features.head(5)"
   ]
  },
  {
   "cell_type": "markdown",
   "id": "52af2b1e-e35f-45cc-be3a-5201a74d0164",
   "metadata": {},
   "source": [
    "**<span style='color: green;'>Вывод:  \n",
    "В train_quit (данные для тренировки второй модели) есть столбец c предсказанным первой моделью уровнем удовлетворенности сотрудников.  \n",
    "В test_features (тестовая выборка для второй модели) есть столбец с предсказанным первой моделью уровнем удовлетворенности сотрудников.</span>** "
   ]
  },
  {
   "cell_type": "markdown",
   "id": "844d82cf-7271-4908-8206-14fb9da0e2f3",
   "metadata": {},
   "source": [
    "Дополнительно, перед подготовкой данных посмотрим матрицу корреляций для train_quit, это поможет выбрать, какие признаки можно исключить, если модель будет плохо настраиваться."
   ]
  },
  {
   "cell_type": "code",
   "execution_count": 92,
   "id": "6a734952-1127-46a7-8af1-8208f172477a",
   "metadata": {},
   "outputs": [],
   "source": [
    "phik_overview = train_quit.phik_matrix(interval_cols=['employment_years', 'supervisor_evaluation', 'salary', 'job_satisfaction_prediction'])\n"
   ]
  },
  {
   "cell_type": "code",
   "execution_count": 93,
   "id": "dab502d8-275d-4ad2-a896-bb9b0fbd44c6",
   "metadata": {},
   "outputs": [
    {
     "data": {
      "image/png": "[encoded data removed]",
      "text/plain": [
       "<Figure size 720x720 with 2 Axes>"
      ]
     },
     "metadata": {
      "needs_background": "light"
     },
     "output_type": "display_data"
    }
   ],
   "source": [
    "plot_correlation_matrix(\n",
    "    phik_overview.values,\n",
    "    x_labels=phik_overview.columns,\n",
    "    y_labels=phik_overview.index,\n",
    "    vmin=0,\n",
    "    vmax=1,\n",
    "    color_map='Blues',\n",
    "    title=r'correlation $\\phi_K$',\n",
    "    fontsize_factor=1,\n",
    "    figsize=(10,10)\n",
    ")\n",
    "plt.tight_layout()"
   ]
  },
  {
   "cell_type": "markdown",
   "id": "6f0d33fd-a32f-4a53-9065-86bc22acd818",
   "metadata": {},
   "source": [
    "**<span style='color: green;'>Видно, что у увольнения нулевая корреляция с типом отдела, где работает сотрудник. Этот признак можно будет сразу исключить из модели.</span>**"
   ]
  },
  {
   "cell_type": "markdown",
   "id": "1b6532b3-e66e-4680-99b3-60c58a3b3bfa",
   "metadata": {},
   "source": [
    "## Подготовка данных"
   ]
  },
  {
   "cell_type": "markdown",
   "id": "8743ce56-79b8-4814-b646-9f3d996e7b7b",
   "metadata": {},
   "source": [
    "Перед началом построения пайплайна, проверим, что id сотрудников перенесены в индексы и таблицы отсортированны по индексу."
   ]
  },
  {
   "cell_type": "code",
   "execution_count": 94,
   "id": "5caf1820-96fc-4e7f-b1ca-022e07ecac95",
   "metadata": {},
   "outputs": [
    {
     "data": {
      "text/html": [
       "<div>\n",
       "<style scoped>\n",
       "    .dataframe tbody tr th:only-of-type {\n",
       "        vertical-align: middle;\n",
       "    }\n",
       "\n",
       "    .dataframe tbody tr th {\n",
       "        vertical-align: top;\n",
       "    }\n",
       "\n",
       "    .dataframe thead th {\n",
       "        text-align: right;\n",
       "    }\n",
       "</style>\n",
       "<table border=\"1\" class=\"dataframe\">\n",
       "  <thead>\n",
       "    <tr style=\"text-align: right;\">\n",
       "      <th></th>\n",
       "      <th>dept</th>\n",
       "      <th>level</th>\n",
       "      <th>workload</th>\n",
       "      <th>employment_years</th>\n",
       "      <th>last_year_promo</th>\n",
       "      <th>last_year_violations</th>\n",
       "      <th>supervisor_evaluation</th>\n",
       "      <th>salary</th>\n",
       "      <th>quit</th>\n",
       "      <th>job_satisfaction_prediction</th>\n",
       "    </tr>\n",
       "    <tr>\n",
       "      <th>id</th>\n",
       "      <th></th>\n",
       "      <th></th>\n",
       "      <th></th>\n",
       "      <th></th>\n",
       "      <th></th>\n",
       "      <th></th>\n",
       "      <th></th>\n",
       "      <th></th>\n",
       "      <th></th>\n",
       "      <th></th>\n",
       "    </tr>\n",
       "  </thead>\n",
       "  <tbody>\n",
       "    <tr>\n",
       "      <th>100222</th>\n",
       "      <td>sales</td>\n",
       "      <td>junior</td>\n",
       "      <td>medium</td>\n",
       "      <td>3</td>\n",
       "      <td>no</td>\n",
       "      <td>no</td>\n",
       "      <td>2</td>\n",
       "      <td>20400</td>\n",
       "      <td>yes</td>\n",
       "      <td>0.408147</td>\n",
       "    </tr>\n",
       "    <tr>\n",
       "      <th>100459</th>\n",
       "      <td>purchasing</td>\n",
       "      <td>junior</td>\n",
       "      <td>medium</td>\n",
       "      <td>3</td>\n",
       "      <td>no</td>\n",
       "      <td>no</td>\n",
       "      <td>3</td>\n",
       "      <td>21600</td>\n",
       "      <td>yes</td>\n",
       "      <td>0.384597</td>\n",
       "    </tr>\n",
       "    <tr>\n",
       "      <th>100469</th>\n",
       "      <td>marketing</td>\n",
       "      <td>junior</td>\n",
       "      <td>medium</td>\n",
       "      <td>1</td>\n",
       "      <td>no</td>\n",
       "      <td>no</td>\n",
       "      <td>4</td>\n",
       "      <td>28800</td>\n",
       "      <td>no</td>\n",
       "      <td>0.633873</td>\n",
       "    </tr>\n",
       "    <tr>\n",
       "      <th>100601</th>\n",
       "      <td>technology</td>\n",
       "      <td>middle</td>\n",
       "      <td>high</td>\n",
       "      <td>4</td>\n",
       "      <td>no</td>\n",
       "      <td>no</td>\n",
       "      <td>4</td>\n",
       "      <td>68400</td>\n",
       "      <td>no</td>\n",
       "      <td>0.770490</td>\n",
       "    </tr>\n",
       "    <tr>\n",
       "      <th>100858</th>\n",
       "      <td>sales</td>\n",
       "      <td>junior</td>\n",
       "      <td>medium</td>\n",
       "      <td>2</td>\n",
       "      <td>no</td>\n",
       "      <td>no</td>\n",
       "      <td>4</td>\n",
       "      <td>25200</td>\n",
       "      <td>yes</td>\n",
       "      <td>0.769808</td>\n",
       "    </tr>\n",
       "  </tbody>\n",
       "</table>\n",
       "</div>"
      ],
      "text/plain": [
       "              dept   level workload  employment_years last_year_promo  \\\n",
       "id                                                                      \n",
       "100222       sales  junior   medium                 3              no   \n",
       "100459  purchasing  junior   medium                 3              no   \n",
       "100469   marketing  junior   medium                 1              no   \n",
       "100601  technology  middle     high                 4              no   \n",
       "100858       sales  junior   medium                 2              no   \n",
       "\n",
       "       last_year_violations  supervisor_evaluation  salary quit  \\\n",
       "id                                                                \n",
       "100222                   no                      2   20400  yes   \n",
       "100459                   no                      3   21600  yes   \n",
       "100469                   no                      4   28800   no   \n",
       "100601                   no                      4   68400   no   \n",
       "100858                   no                      4   25200  yes   \n",
       "\n",
       "        job_satisfaction_prediction  \n",
       "id                                   \n",
       "100222                     0.408147  \n",
       "100459                     0.384597  \n",
       "100469                     0.633873  \n",
       "100601                     0.770490  \n",
       "100858                     0.769808  "
      ]
     },
     "execution_count": 94,
     "metadata": {},
     "output_type": "execute_result"
    }
   ],
   "source": [
    "train_quit.head(5)#"
   ]
  },
  {
   "cell_type": "code",
   "execution_count": 95,
   "id": "bf6213ff-6f94-481d-9613-a1e8f002a8c5",
   "metadata": {},
   "outputs": [
    {
     "data": {
      "text/html": [
       "<div>\n",
       "<style scoped>\n",
       "    .dataframe tbody tr th:only-of-type {\n",
       "        vertical-align: middle;\n",
       "    }\n",
       "\n",
       "    .dataframe tbody tr th {\n",
       "        vertical-align: top;\n",
       "    }\n",
       "\n",
       "    .dataframe thead th {\n",
       "        text-align: right;\n",
       "    }\n",
       "</style>\n",
       "<table border=\"1\" class=\"dataframe\">\n",
       "  <thead>\n",
       "    <tr style=\"text-align: right;\">\n",
       "      <th></th>\n",
       "      <th>dept</th>\n",
       "      <th>level</th>\n",
       "      <th>workload</th>\n",
       "      <th>employment_years</th>\n",
       "      <th>last_year_promo</th>\n",
       "      <th>last_year_violations</th>\n",
       "      <th>supervisor_evaluation</th>\n",
       "      <th>salary</th>\n",
       "      <th>job_satisfaction_prediction</th>\n",
       "    </tr>\n",
       "    <tr>\n",
       "      <th>id</th>\n",
       "      <th></th>\n",
       "      <th></th>\n",
       "      <th></th>\n",
       "      <th></th>\n",
       "      <th></th>\n",
       "      <th></th>\n",
       "      <th></th>\n",
       "      <th></th>\n",
       "      <th></th>\n",
       "    </tr>\n",
       "  </thead>\n",
       "  <tbody>\n",
       "    <tr>\n",
       "      <th>100298</th>\n",
       "      <td>hr</td>\n",
       "      <td>junior</td>\n",
       "      <td>low</td>\n",
       "      <td>2</td>\n",
       "      <td>no</td>\n",
       "      <td>no</td>\n",
       "      <td>4</td>\n",
       "      <td>19200</td>\n",
       "      <td>0.836224</td>\n",
       "    </tr>\n",
       "    <tr>\n",
       "      <th>100480</th>\n",
       "      <td>marketing</td>\n",
       "      <td>junior</td>\n",
       "      <td>low</td>\n",
       "      <td>4</td>\n",
       "      <td>no</td>\n",
       "      <td>no</td>\n",
       "      <td>4</td>\n",
       "      <td>16800</td>\n",
       "      <td>0.757995</td>\n",
       "    </tr>\n",
       "    <tr>\n",
       "      <th>100503</th>\n",
       "      <td>purchasing</td>\n",
       "      <td>middle</td>\n",
       "      <td>high</td>\n",
       "      <td>5</td>\n",
       "      <td>no</td>\n",
       "      <td>no</td>\n",
       "      <td>4</td>\n",
       "      <td>55200</td>\n",
       "      <td>0.713221</td>\n",
       "    </tr>\n",
       "    <tr>\n",
       "      <th>100610</th>\n",
       "      <td>sales</td>\n",
       "      <td>middle</td>\n",
       "      <td>medium</td>\n",
       "      <td>5</td>\n",
       "      <td>no</td>\n",
       "      <td>no</td>\n",
       "      <td>4</td>\n",
       "      <td>43200</td>\n",
       "      <td>0.814470</td>\n",
       "    </tr>\n",
       "    <tr>\n",
       "      <th>100692</th>\n",
       "      <td>sales</td>\n",
       "      <td>middle</td>\n",
       "      <td>high</td>\n",
       "      <td>6</td>\n",
       "      <td>no</td>\n",
       "      <td>no</td>\n",
       "      <td>4</td>\n",
       "      <td>48000</td>\n",
       "      <td>0.696646</td>\n",
       "    </tr>\n",
       "  </tbody>\n",
       "</table>\n",
       "</div>"
      ],
      "text/plain": [
       "              dept   level workload  employment_years last_year_promo  \\\n",
       "id                                                                      \n",
       "100298          hr  junior      low                 2              no   \n",
       "100480   marketing  junior      low                 4              no   \n",
       "100503  purchasing  middle     high                 5              no   \n",
       "100610       sales  middle   medium                 5              no   \n",
       "100692       sales  middle     high                 6              no   \n",
       "\n",
       "       last_year_violations  supervisor_evaluation  salary  \\\n",
       "id                                                           \n",
       "100298                   no                      4   19200   \n",
       "100480                   no                      4   16800   \n",
       "100503                   no                      4   55200   \n",
       "100610                   no                      4   43200   \n",
       "100692                   no                      4   48000   \n",
       "\n",
       "        job_satisfaction_prediction  \n",
       "id                                   \n",
       "100298                     0.836224  \n",
       "100480                     0.757995  \n",
       "100503                     0.713221  \n",
       "100610                     0.814470  \n",
       "100692                     0.696646  "
      ]
     },
     "execution_count": 95,
     "metadata": {},
     "output_type": "execute_result"
    }
   ],
   "source": [
    "test_features.head(5)"
   ]
  },
  {
   "cell_type": "code",
   "execution_count": 96,
   "id": "c79e4254-8bac-469a-82ee-cbda7d54f429",
   "metadata": {},
   "outputs": [
    {
     "data": {
      "text/html": [
       "<div>\n",
       "<style scoped>\n",
       "    .dataframe tbody tr th:only-of-type {\n",
       "        vertical-align: middle;\n",
       "    }\n",
       "\n",
       "    .dataframe tbody tr th {\n",
       "        vertical-align: top;\n",
       "    }\n",
       "\n",
       "    .dataframe thead th {\n",
       "        text-align: right;\n",
       "    }\n",
       "</style>\n",
       "<table border=\"1\" class=\"dataframe\">\n",
       "  <thead>\n",
       "    <tr style=\"text-align: right;\">\n",
       "      <th></th>\n",
       "      <th>quit</th>\n",
       "    </tr>\n",
       "    <tr>\n",
       "      <th>id</th>\n",
       "      <th></th>\n",
       "    </tr>\n",
       "  </thead>\n",
       "  <tbody>\n",
       "    <tr>\n",
       "      <th>100298</th>\n",
       "      <td>no</td>\n",
       "    </tr>\n",
       "    <tr>\n",
       "      <th>100480</th>\n",
       "      <td>no</td>\n",
       "    </tr>\n",
       "    <tr>\n",
       "      <th>100503</th>\n",
       "      <td>no</td>\n",
       "    </tr>\n",
       "    <tr>\n",
       "      <th>100610</th>\n",
       "      <td>no</td>\n",
       "    </tr>\n",
       "    <tr>\n",
       "      <th>100692</th>\n",
       "      <td>no</td>\n",
       "    </tr>\n",
       "  </tbody>\n",
       "</table>\n",
       "</div>"
      ],
      "text/plain": [
       "       quit\n",
       "id         \n",
       "100298   no\n",
       "100480   no\n",
       "100503   no\n",
       "100610   no\n",
       "100692   no"
      ]
     },
     "execution_count": 96,
     "metadata": {},
     "output_type": "execute_result"
    }
   ],
   "source": [
    "test_target_quit.head(5)"
   ]
  },
  {
   "cell_type": "markdown",
   "id": "a4880191-52f1-4145-b0ac-26cfb6edbaf5",
   "metadata": {},
   "source": [
    "Построим pipeline для подготовки данных.  \n",
    "Будем использовать два кодировщика OrdinaryEncoder для порядковых признаков и OneHotEncoder для номинативных.  \n",
    "В данной задаче целевой признак качественный, его также необходимо закодировать. Для этого понадобится кодировщик LabelEncoder.  \n",
    "Для заполнения пропусков будем использовать SimpleImputer, пропуски заполним наиболее частыми значениями.  \n",
    "Добавим в ColumnTransformer параметр remainder='drop', чтобы исключить данные, которые не вошли в кодировщик, например, dept."
   ]
  },
  {
   "cell_type": "code",
   "execution_count": 97,
   "id": "c221ff08-4046-4e78-9319-8d52cd0234ba",
   "metadata": {},
   "outputs": [],
   "source": [
    "# задаем параметры для разделения данных\n",
    "RANDOM_STATE = 42 \n",
    "TEST_SIZE = 0.25\n",
    "\n",
    "X2 = train_quit.drop(['quit'], axis=1)  # признаки (features)\n",
    "y2 = train_quit['quit'] \n",
    "\n",
    "# создаем LabelEncoder\n",
    "label_encoder = LabelEncoder()\n",
    "\n",
    "y2 = label_encoder.fit_transform(y2)   \n",
    "\n",
    "# создаем списки с названиями признаков\n",
    "\n",
    "ohe_columns = ['last_year_promo', 'last_year_violations'] # кодируем номинативные признаки\n",
    "ord_columns = ['level', 'workload'] # кодируем порядковые признаки\n",
    "num_columns = ['employment_years', 'supervisor_evaluation', 'salary', 'job_satisfaction_prediction'] # кодируем количественные признаки\n",
    "\n",
    "# подготовка данных\n",
    "\n",
    "# подготовка признаков из списка ohe_columns: заполняем пропуски наиболее частыми значениями и кодируем переменные OneHotEncoder\n",
    "ohe_pipe = Pipeline(\n",
    "    [('simpleImputer_ohe', SimpleImputer(missing_values=np.nan, strategy='most_frequent')),\n",
    "     ('ohe', OneHotEncoder(drop='first', handle_unknown = 'ignore', sparse_output = False))\n",
    "    ]\n",
    ")\n",
    "\n",
    "# подготовка признаков из списка ord_columns: заполнение пропусков и кодирование переменных OrdinaryEncoder\n",
    "ord_pipe = Pipeline(\n",
    "    [('simpleImputer_before_ord', SimpleImputer(missing_values=np.nan, strategy='most_frequent')),\n",
    "      ('ord', OrdinalEncoder(\n",
    "                categories=[\n",
    "                    ['junior', 'middle', 'sinior'],\n",
    "                    ['medium', 'low', 'high'],\n",
    "                ],\n",
    "                handle_unknown='use_encoded_value' , unknown_value=np.nan\n",
    "      )\n",
    "      ),\n",
    "      ('simpleImputer_after_ord', SimpleImputer(missing_values=np.nan, strategy='most_frequent'))\n",
    "      ]\n",
    ")\n",
    "\n",
    "# создаем общий пайплайн для подготовки данных и модель\n",
    "data_preprocessor = ColumnTransformer(\n",
    "    [('ohe', ohe_pipe, ohe_columns),\n",
    "     ('ord', ord_pipe, ord_columns),\n",
    "     ('num', MinMaxScaler(), num_columns)\n",
    "    ],\n",
    "    remainder='drop' # Добавляем строчку, чтобы все признаки, которые не попали в кодировщик не использовались\n",
    "                     # например, dept\n",
    ")\n",
    "# создаем итоговый паплайн: подготовка данных и модель\n",
    "pipe_final = Pipeline([\n",
    "    ('preprocessor', data_preprocessor),\n",
    "    ('models', DecisionTreeRegressor(random_state=RANDOM_STATE))\n",
    "])"
   ]
  },
  {
   "cell_type": "markdown",
   "id": "6e3a5132-5f28-442d-a927-7a317b236def",
   "metadata": {},
   "source": [
    "## Обучение моделей"
   ]
  },
  {
   "cell_type": "markdown",
   "id": "3d284771-a86b-447f-af31-57ff4cf327c6",
   "metadata": {},
   "source": [
    "Необходимо обучить минимум три модели классификации, минимум для двух подобрать гиперпараметры.  \n",
    "Было выбрано четыре модели: DecisionTreeClassifier, KNeighborsClassifier, LogisticRegression и SVC. Для каждой модели было выбрано несколько гиперпараметров. \n",
    "В данной задаче метрикой оценки качества модели выступает ROC-AUC."
   ]
  },
  {
   "cell_type": "code",
   "execution_count": 98,
   "id": "0659ac2c-48d8-4d8b-b1cc-d141fb1db44c",
   "metadata": {
    "scrolled": true
   },
   "outputs": [
    {
     "name": "stdout",
     "output_type": "stream",
     "text": [
      "Лучшая модель и её параметры:\n",
      "\n",
      " Pipeline(steps=[('preprocessor',\n",
      "                 ColumnTransformer(transformers=[('ohe',\n",
      "                                                  Pipeline(steps=[('simpleImputer_ohe',\n",
      "                                                                   SimpleImputer(strategy='most_frequent')),\n",
      "                                                                  ('ohe',\n",
      "                                                                   OneHotEncoder(drop='first',\n",
      "                                                                                 handle_unknown='ignore',\n",
      "                                                                                 sparse_output=False))]),\n",
      "                                                  ['last_year_promo',\n",
      "                                                   'last_year_violations']),\n",
      "                                                 ('ord',\n",
      "                                                  Pipeline(steps=[('simpleImputer_before_ord',\n",
      "                                                                   SimpleImputer(strategy='...\n",
      "                                                                                               'low',\n",
      "                                                                                               'high']],\n",
      "                                                                                  handle_unknown='use_encoded_value',\n",
      "                                                                                  unknown_value=nan)),\n",
      "                                                                  ('simpleImputer_after_ord',\n",
      "                                                                   SimpleImputer(strategy='most_frequent'))]),\n",
      "                                                  ['level', 'workload']),\n",
      "                                                 ('num', StandardScaler(),\n",
      "                                                  ['employment_years',\n",
      "                                                   'supervisor_evaluation',\n",
      "                                                   'salary',\n",
      "                                                   'job_satisfaction_prediction'])])),\n",
      "                ('models',\n",
      "                 DecisionTreeClassifier(max_depth=6, max_features=7,\n",
      "                                        random_state=42))])\n",
      "Метрика лучшей модели на тренировочной выборке: 0.9308975962408612\n",
      "Лучшие гиперпараметры модели: {'models': DecisionTreeClassifier(random_state=42), 'models__max_depth': 6, 'models__max_features': 7, 'preprocessor__num': StandardScaler(), 'preprocessor__ohe': Pipeline(steps=[('simpleImputer_ohe', SimpleImputer(strategy='most_frequent')),\n",
      "                ('ohe',\n",
      "                 OneHotEncoder(drop='first', handle_unknown='ignore',\n",
      "                               sparse_output=False))]), 'preprocessor__ord': Pipeline(steps=[('simpleImputer_before_ord',\n",
      "                 SimpleImputer(strategy='most_frequent')),\n",
      "                ('ord',\n",
      "                 OrdinalEncoder(categories=[['junior', 'middle', 'sinior'],\n",
      "                                            ['medium', 'low', 'high']],\n",
      "                                handle_unknown='use_encoded_value',\n",
      "                                unknown_value=nan)),\n",
      "                ('simpleImputer_after_ord',\n",
      "                 SimpleImputer(strategy='most_frequent'))])}\n"
     ]
    }
   ],
   "source": [
    "param_grid = [\n",
    "    # словарь для модели DecisionTreeClassifier()\n",
    "    {\n",
    "        'models': [DecisionTreeClassifier(random_state=RANDOM_STATE)],\n",
    "        'models__max_depth': range (2, 10),\n",
    "        'models__max_features': range (2, 10),\n",
    "        'preprocessor__num': [StandardScaler(), MinMaxScaler()],  \n",
    "        'preprocessor__ohe': [ohe_pipe],\n",
    "        'preprocessor__ord': [ord_pipe]\n",
    "    },\n",
    "\n",
    "    # словарь для модели KNeighborsClassifier() \n",
    "\n",
    "    {\n",
    "        'models': [KNeighborsClassifier()],\n",
    "        'models__n_neighbors': range (2, 10),\n",
    "        'preprocessor__num': [StandardScaler(), MinMaxScaler()], \n",
    "        'preprocessor__ohe': [ohe_pipe],\n",
    "        'preprocessor__ord': [ord_pipe]\n",
    "    },\n",
    "\n",
    "    # словарь для модели LogisticRegression()\n",
    "\n",
    "    {\n",
    "        'models': [LogisticRegression(\n",
    "            random_state=RANDOM_STATE, \n",
    "            solver='liblinear', \n",
    "            penalty='l1'\n",
    "        )],\n",
    "        'models__C': range (1, 5),\n",
    "        'preprocessor__num': [StandardScaler(), MinMaxScaler()],\n",
    "        'preprocessor__ohe': [ohe_pipe],\n",
    "        'preprocessor__ord': [ord_pipe]\n",
    "    },\n",
    "\n",
    "    # словарь для модели SVC()\n",
    "\n",
    "    {\n",
    "        'models': [SVC(probability=True, random_state=RANDOM_STATE)],\n",
    "        'models__C':[0.1, 2, 5, 10],\n",
    "        'models__kernel':['rbf', 'linear'],\n",
    "        'preprocessor__num': [StandardScaler(), MinMaxScaler()],\n",
    "        'preprocessor__ohe': [ohe_pipe],\n",
    "        'preprocessor__ord': [ord_pipe]\n",
    "\n",
    "    }\n",
    "]\n",
    "# будем использовать GridSearch\n",
    "\n",
    "grid_tree2=GridSearchCV(\n",
    "    pipe_final,\n",
    "    param_grid,\n",
    "    cv=5,\n",
    "    scoring='roc_auc',\n",
    "    n_jobs=-1,\n",
    "    error_score='raise',\n",
    ")\n",
    "\n",
    "grid_tree2.fit(X2, y2)\n",
    "\n",
    "print('Лучшая модель и её параметры:\\n\\n', grid_tree2.best_estimator_)\n",
    "print ('Метрика лучшей модели на тренировочной выборке:', grid_tree2.best_score_)\n",
    "print('Лучшие гиперпараметры модели:', grid_tree2.best_params_)\n",
    "\n"
   ]
  },
  {
   "cell_type": "code",
   "execution_count": 99,
   "id": "bbe604f1-e860-434c-9176-0069f14a5ff3",
   "metadata": {},
   "outputs": [
    {
     "data": {
      "text/html": [
       "<div>\n",
       "<style scoped>\n",
       "    .dataframe tbody tr th:only-of-type {\n",
       "        vertical-align: middle;\n",
       "    }\n",
       "\n",
       "    .dataframe tbody tr th {\n",
       "        vertical-align: top;\n",
       "    }\n",
       "\n",
       "    .dataframe thead th {\n",
       "        text-align: right;\n",
       "    }\n",
       "</style>\n",
       "<table border=\"1\" class=\"dataframe\">\n",
       "  <thead>\n",
       "    <tr style=\"text-align: right;\">\n",
       "      <th></th>\n",
       "      <th>mean_test_score</th>\n",
       "      <th>rank_test_score</th>\n",
       "      <th>params</th>\n",
       "      <th>std_test_score</th>\n",
       "    </tr>\n",
       "  </thead>\n",
       "  <tbody>\n",
       "    <tr>\n",
       "      <th>75</th>\n",
       "      <td>0.930898</td>\n",
       "      <td>1</td>\n",
       "      <td>{'models': DecisionTreeClassifier(random_state=42), 'models__max_depth': 6, 'models__max_features': 7, 'preprocessor__num': MinMaxScaler(), 'preprocessor__ohe': (SimpleImputer(strategy='most_frequent'), OneHotEncoder(drop='first', handle_unknown='ignore', sparse_output=False)), 'preprocessor__ord': (SimpleImputer(strategy='most_frequent'), OrdinalEncoder(categories=[['junior', 'middle', 'sinior'],\n",
       "                           ['medium', 'low', 'high']],\n",
       "               handle_unknown='use_encoded_value', unknown_value=nan), SimpleImputer(strategy='most_frequent'))}</td>\n",
       "      <td>0.013394</td>\n",
       "    </tr>\n",
       "    <tr>\n",
       "      <th>74</th>\n",
       "      <td>0.930898</td>\n",
       "      <td>1</td>\n",
       "      <td>{'models': DecisionTreeClassifier(random_state=42), 'models__max_depth': 6, 'models__max_features': 7, 'preprocessor__num': StandardScaler(), 'preprocessor__ohe': (SimpleImputer(strategy='most_frequent'), OneHotEncoder(drop='first', handle_unknown='ignore', sparse_output=False)), 'preprocessor__ord': (SimpleImputer(strategy='most_frequent'), OrdinalEncoder(categories=[['junior', 'middle', 'sinior'],\n",
       "                           ['medium', 'low', 'high']],\n",
       "               handle_unknown='use_encoded_value', unknown_value=nan), SimpleImputer(strategy='most_frequent'))}</td>\n",
       "      <td>0.013394</td>\n",
       "    </tr>\n",
       "    <tr>\n",
       "      <th>71</th>\n",
       "      <td>0.930756</td>\n",
       "      <td>3</td>\n",
       "      <td>{'models': DecisionTreeClassifier(random_state=42), 'models__max_depth': 6, 'models__max_features': 5, 'preprocessor__num': MinMaxScaler(), 'preprocessor__ohe': (SimpleImputer(strategy='most_frequent'), OneHotEncoder(drop='first', handle_unknown='ignore', sparse_output=False)), 'preprocessor__ord': (SimpleImputer(strategy='most_frequent'), OrdinalEncoder(categories=[['junior', 'middle', 'sinior'],\n",
       "                           ['medium', 'low', 'high']],\n",
       "               handle_unknown='use_encoded_value', unknown_value=nan), SimpleImputer(strategy='most_frequent'))}</td>\n",
       "      <td>0.015574</td>\n",
       "    </tr>\n",
       "    <tr>\n",
       "      <th>70</th>\n",
       "      <td>0.930756</td>\n",
       "      <td>3</td>\n",
       "      <td>{'models': DecisionTreeClassifier(random_state=42), 'models__max_depth': 6, 'models__max_features': 5, 'preprocessor__num': StandardScaler(), 'preprocessor__ohe': (SimpleImputer(strategy='most_frequent'), OneHotEncoder(drop='first', handle_unknown='ignore', sparse_output=False)), 'preprocessor__ord': (SimpleImputer(strategy='most_frequent'), OrdinalEncoder(categories=[['junior', 'middle', 'sinior'],\n",
       "                           ['medium', 'low', 'high']],\n",
       "               handle_unknown='use_encoded_value', unknown_value=nan), SimpleImputer(strategy='most_frequent'))}</td>\n",
       "      <td>0.015574</td>\n",
       "    </tr>\n",
       "    <tr>\n",
       "      <th>151</th>\n",
       "      <td>0.930199</td>\n",
       "      <td>5</td>\n",
       "      <td>{'models': LogisticRegression(penalty='l1', random_state=42, solver='liblinear'), 'models__C': 4, 'preprocessor__num': MinMaxScaler(), 'preprocessor__ohe': (SimpleImputer(strategy='most_frequent'), OneHotEncoder(drop='first', handle_unknown='ignore', sparse_output=False)), 'preprocessor__ord': (SimpleImputer(strategy='most_frequent'), OrdinalEncoder(categories=[['junior', 'middle', 'sinior'],\n",
       "                           ['medium', 'low', 'high']],\n",
       "               handle_unknown='use_encoded_value', unknown_value=nan), SimpleImputer(strategy='most_frequent'))}</td>\n",
       "      <td>0.007604</td>\n",
       "    </tr>\n",
       "  </tbody>\n",
       "</table>\n",
       "</div>"
      ],
      "text/plain": [
       "     mean_test_score  rank_test_score  \\\n",
       "75          0.930898                1   \n",
       "74          0.930898                1   \n",
       "71          0.930756                3   \n",
       "70          0.930756                3   \n",
       "151         0.930199                5   \n",
       "\n",
       "                                                                                                                                                                                                                                                                                                                                                                                                                                                                                                                                                                                         params  \\\n",
       "75     {'models': DecisionTreeClassifier(random_state=42), 'models__max_depth': 6, 'models__max_features': 7, 'preprocessor__num': MinMaxScaler(), 'preprocessor__ohe': (SimpleImputer(strategy='most_frequent'), OneHotEncoder(drop='first', handle_unknown='ignore', sparse_output=False)), 'preprocessor__ord': (SimpleImputer(strategy='most_frequent'), OrdinalEncoder(categories=[['junior', 'middle', 'sinior'],\n",
       "                           ['medium', 'low', 'high']],\n",
       "               handle_unknown='use_encoded_value', unknown_value=nan), SimpleImputer(strategy='most_frequent'))}   \n",
       "74   {'models': DecisionTreeClassifier(random_state=42), 'models__max_depth': 6, 'models__max_features': 7, 'preprocessor__num': StandardScaler(), 'preprocessor__ohe': (SimpleImputer(strategy='most_frequent'), OneHotEncoder(drop='first', handle_unknown='ignore', sparse_output=False)), 'preprocessor__ord': (SimpleImputer(strategy='most_frequent'), OrdinalEncoder(categories=[['junior', 'middle', 'sinior'],\n",
       "                           ['medium', 'low', 'high']],\n",
       "               handle_unknown='use_encoded_value', unknown_value=nan), SimpleImputer(strategy='most_frequent'))}   \n",
       "71     {'models': DecisionTreeClassifier(random_state=42), 'models__max_depth': 6, 'models__max_features': 5, 'preprocessor__num': MinMaxScaler(), 'preprocessor__ohe': (SimpleImputer(strategy='most_frequent'), OneHotEncoder(drop='first', handle_unknown='ignore', sparse_output=False)), 'preprocessor__ord': (SimpleImputer(strategy='most_frequent'), OrdinalEncoder(categories=[['junior', 'middle', 'sinior'],\n",
       "                           ['medium', 'low', 'high']],\n",
       "               handle_unknown='use_encoded_value', unknown_value=nan), SimpleImputer(strategy='most_frequent'))}   \n",
       "70   {'models': DecisionTreeClassifier(random_state=42), 'models__max_depth': 6, 'models__max_features': 5, 'preprocessor__num': StandardScaler(), 'preprocessor__ohe': (SimpleImputer(strategy='most_frequent'), OneHotEncoder(drop='first', handle_unknown='ignore', sparse_output=False)), 'preprocessor__ord': (SimpleImputer(strategy='most_frequent'), OrdinalEncoder(categories=[['junior', 'middle', 'sinior'],\n",
       "                           ['medium', 'low', 'high']],\n",
       "               handle_unknown='use_encoded_value', unknown_value=nan), SimpleImputer(strategy='most_frequent'))}   \n",
       "151         {'models': LogisticRegression(penalty='l1', random_state=42, solver='liblinear'), 'models__C': 4, 'preprocessor__num': MinMaxScaler(), 'preprocessor__ohe': (SimpleImputer(strategy='most_frequent'), OneHotEncoder(drop='first', handle_unknown='ignore', sparse_output=False)), 'preprocessor__ord': (SimpleImputer(strategy='most_frequent'), OrdinalEncoder(categories=[['junior', 'middle', 'sinior'],\n",
       "                           ['medium', 'low', 'high']],\n",
       "               handle_unknown='use_encoded_value', unknown_value=nan), SimpleImputer(strategy='most_frequent'))}   \n",
       "\n",
       "     std_test_score  \n",
       "75         0.013394  \n",
       "74         0.013394  \n",
       "71         0.015574  \n",
       "70         0.015574  \n",
       "151        0.007604  "
      ]
     },
     "execution_count": 99,
     "metadata": {},
     "output_type": "execute_result"
    }
   ],
   "source": [
    "model_cv_result2 = pd.DataFrame(grid_tree2.cv_results_)\n",
    "model_cv_result2 = model_cv_result2.sort_values(['rank_test_score'])\n",
    "pd.set_option('display.max_colwidth', None)\n",
    "model_cv_result2[['mean_test_score', 'rank_test_score', 'params', 'std_test_score']].head(5)"
   ]
  },
  {
   "cell_type": "markdown",
   "id": "ae793086-4bfc-4261-824e-d25e48266022",
   "metadata": {},
   "source": [
    "Лучшей моделью на тренировочных данных оказалась логистическая регрессия со следующими гиперпараметрами: С=4, l1 регуляризация, масштабирования MinMaxScaler()."
   ]
  },
  {
   "cell_type": "markdown",
   "id": "e742d5b7-a175-4de1-885a-58f00b94390b",
   "metadata": {},
   "source": [
    "Проверим данную модель на тестовой выборке. На тестовой выборке метрику ROC-AUC уже считаем по вероятности классов"
   ]
  },
  {
   "cell_type": "code",
   "execution_count": 100,
   "id": "75417c71-852c-425e-8681-60e8b0caa3a6",
   "metadata": {},
   "outputs": [],
   "source": [
    "y_test_pred = grid_tree2.predict_proba(test_features)"
   ]
  },
  {
   "cell_type": "code",
   "execution_count": 101,
   "id": "7310e96e-0957-433f-8479-84634af2d1cb",
   "metadata": {},
   "outputs": [
    {
     "name": "stdout",
     "output_type": "stream",
     "text": [
      "Площадь ROC-кривой: 0.9225260030818465\n"
     ]
    }
   ],
   "source": [
    "print('Площадь ROC-кривой:', roc_auc_score(test_target_quit['quit'], y_test_pred[:,1]))"
   ]
  },
  {
   "cell_type": "markdown",
   "id": "d612f72b-57b4-41db-9939-4c92e25bb936",
   "metadata": {},
   "source": [
    "Значение метрики на тестовой выборке для лучшей модели соответсвует условию задачи ROC-AUC>=0.91"
   ]
  },
  {
   "cell_type": "markdown",
   "id": "66538473-c361-4999-92b7-fcc244f2a25b",
   "metadata": {},
   "source": [
    "### Важность признаков"
   ]
  },
  {
   "cell_type": "markdown",
   "id": "697654cc-8e4f-4dec-8184-245413cae6ef",
   "metadata": {},
   "source": [
    "Изучим важность признаков, это позволит впоследствии сделать более весомые выводы для бизнеса.  \n",
    "Для этого будем использовать столбчатую диаграмму SHAP, которая отражает общий вклад признаков в прогнозы модели."
   ]
  },
  {
   "cell_type": "code",
   "execution_count": 102,
   "id": "61595e33-015d-48cb-b1b0-47357f0f9e04",
   "metadata": {},
   "outputs": [],
   "source": [
    "X_test_transform = grid_tree2.best_estimator_.named_steps['preprocessor'].transform(test_features)\n",
    "masker = shap.maskers.Independent(X_test_transform)\n",
    "explainer = shap.Explainer(grid_tree2.best_estimator_.named_steps['models'].predict, masker, seed=RANDOM_STATE)\n",
    "shap_values = explainer(X_test_transform)"
   ]
  },
  {
   "cell_type": "code",
   "execution_count": 103,
   "id": "ae4eb05f-29bf-4b92-9fe6-3e2f9dfcfc6e",
   "metadata": {},
   "outputs": [],
   "source": [
    "preprocessor = grid_tree2.best_estimator_.named_steps['preprocessor']"
   ]
  },
  {
   "cell_type": "code",
   "execution_count": 104,
   "id": "d45895bf-c4aa-43da-82eb-2d6b75dc973f",
   "metadata": {},
   "outputs": [],
   "source": [
    "feature_names = preprocessor.get_feature_names_out()\n",
    "feature_names = feature_names.tolist()\n",
    "shap_values_new = shap_values\n",
    "shap_values_new.feature_names = feature_names"
   ]
  },
  {
   "cell_type": "code",
   "execution_count": 105,
   "id": "c436d1d9-b77a-4829-99c2-8baae6ea69eb",
   "metadata": {},
   "outputs": [
    {
     "data": {
      "image/png": "[encoded data removed]",
      "text/plain": [
       "<Figure size 576x396 with 1 Axes>"
      ]
     },
     "metadata": {},
     "output_type": "display_data"
    }
   ],
   "source": [
    "shap.plots.bar(shap_values_new, max_display=18)"
   ]
  },
  {
   "cell_type": "markdown",
   "id": "8133145d-5125-4d06-8ba6-d55bd41bbf80",
   "metadata": {},
   "source": [
    "Наиболее важными признаками для увольнения сотрудника с точки зрения модели являются:  \n",
    "удовлетворенность сотрудника, предсказанная ранее,  \n",
    "уровень занимаемой должности,  \n",
    "длительность работы в компании,  \n",
    "зарплата,  \n",
    "уровень загруженности сотрудника,  \n",
    "оценка качества работы сотрудника по системе компании."
   ]
  },
  {
   "cell_type": "markdown",
   "id": "611b5d43-2ae7-4fce-873a-e292eaf52ddf",
   "metadata": {},
   "source": [
    "## Выводы"
   ]
  },
  {
   "cell_type": "markdown",
   "id": "9d065ca0-3aa3-460a-a2a9-3edd99f54f67",
   "metadata": {},
   "source": [
    "Лучшей моделью для предсказания увольнения сотрудника оказалась модель логистической регрессии. Параметры лучшей модели следующие: l1 регуляризация, С=4, масштабирование в диапазоне от минимума до максимума (MinMaxScaler).\n",
    "\n",
    "Модель логистической регрессии могла оказаться лучшей, так как l1-регуляризация позволила ей лучше отфильтровать слабокоррелированные признаки, такие признаки все равно оставались после удаления dept. Это видно и из распределения признаков по важности, куда вошли признаки с корреляцией выше 0.2."
   ]
  },
  {
   "cell_type": "markdown",
   "id": "bba6a654-bbbe-447e-8e72-73ab31dd79ae",
   "metadata": {},
   "source": [
    "# Общий вывод"
   ]
  },
  {
   "cell_type": "markdown",
   "id": "e93d339d-e41e-448c-96fb-330415049801",
   "metadata": {},
   "source": [
    "В данном проекте были поставлены следующие задачи:  \n",
    "Построить модель, которая сможет предсказать уровень удовлетворенности сотрудника компании на основе данных, которые предоставила компания \"Работа с заботой\".  \n",
    "Построить модель, которая сможет на основе данных этой же компании предсказать увольнение сотрудника.\n",
    "Для реализации поставленных задач компания предоставила данные для тренировки моделей и для их тестирования. \n",
    "В ходе реализации первой задачи: \n",
    "* Данные были подготовлены.\n",
    "  * Были выявлены пропуски в данных. Пропуски в данных были закодированы по-разному.  \n",
    "* Проведен исследовательский анализ данных.\n",
    "  * В данных больше представлены сотрудники с небольшим стажем работы. Чем выше стаж, тем меньше сотрдуников.\n",
    "  * Компания проводит свою оценку сотрудников по пятибальной шкале. Наиболее распростроненная оценка 4.\n",
    "  * Большая часть сотрудников получает зарплату до 43 тыс. При этом медиана заплаты составляет 30 тыс.\n",
    "  * Целевая переменная уровень удовлетворенности сотрудников количественная, распределена от 0 до 1, где 1 это максимальная удовлетворенность сотрудника. Медиана составляет 0.5.\n",
    "  * В данных больше всего представлены сотрудники, которые работают в отделе продаж.\n",
    "  * По уровню больше в данных начинающих сотрудников.\n",
    "  * В данных значительно больше сотрудников, которые не попадали под повышение. Это логично, так как большая часть сотрудников только начали работать в компании.\n",
    "  * Сотрудники в основной своей массе не нарушают трудовой договор.\n",
    "  * Наборы данных для тренировочной выборки сопостовимы по своей структуре.\n",
    "* Корреляционный анализ показал, что оценка, которую дает компания сотруднику, хорошо соотносится с уровнем удовлетворенности сотрудника. Хуже всего с уровнем удовлетворенности связана загруженность сотрудника, что не очень удивительно, так как зарплата сотрудника хорошо коррелирует с его загруженностью.\n",
    "* Подготовка модели.\n",
    "  * В данных представленны количественные признаки и два типа категориальных (порядковые и номинативные). Для кодирования порядковых признаков (уровень занимаемой должности и уровень загруженности сотрудника) был выборан OrdinalEncoder. Для кодирования номинативных признаков использовался OneHotEncoder. Для обработки пустых значений использовали SimplerImputer.\n",
    "* Обучение модели.\n",
    "  * Так как целевой признак количественный, необходимо использовать регрессионные модели. Использовали две модели: модель опорных векторов (SVR) и модель дерева решений (DicisionTreeRegression). Для оценки качества модели использовали SMAPE метрику.\n",
    "  * Лучший результат показала SVR модель. Параметры лучшей модели следующие: нелинейное ядро радиальной базисной функции (Radial Basis Function), гиперпараметр ~С=5~ C=2, StandardScaler. Значение SMAPE на тренировочной выборке составило 14.9, на тестовой 14.01.\n",
    "  \n",
    "В ходе реализации второй задачи:\n",
    "* Данные были подготовлены. В новых данных пропусков, явных и неявных дубликатов выявлено не было.\n",
    "* Исследовательский анализ показал, что распределения признаков в данных сопостовимо с данными из первой задачи.\n",
    "* На основе новых данных был составлен \"портрет\" уволившегося сотрудника:\n",
    "  Это сотрудник, занимающий не высокую должность в компании, работающий не очень давно, не сильно заруженный и получающий не большую зарплату. На увольнение значительно влияет повышение, сотрудники с повышением не увольняются.\n",
    "* Была выявлена связь между уровнем удовлетворенности сотрудника и его увольнением. Чем ниже уровень удоблетворенности сотрудника, тем вероятнее его увольнение из компании.\n",
    "* Основываясь на новой выявленной закономерности в таблицы с входными и тестовыми признаками был добавлен признак удовлетворенности сотрудника, составленный на основе предсказанная первой модели.\n",
    "* Подготовка данных для второй модели.\n",
    "  * Целевой признак второй модели является качественным, поэтому необходимо использовать модели классификации.\n",
    "  * Для кодирования признаков было использовано два кодировщика OrdinalEncoder и OneHotEncoder как в первой модели, дополнительно целевой признак был закодирован LabelEnckoder.\n",
    "  * Обработка пропусков была включена в pipeline.\n",
    "  * Из признаков для обучения модели был убран один признак (отдел, в котором работает сотрудник), который показал нудевую корреляцию с целевой переменной.\n",
    "* Обучение модели.\n",
    "  * Для обучения были взяты четыре модели классифакации: деревья решений (DecisionTreeClassifier), метод ближайших соседей (KNeighborsClassifier), логистическая регрессия (LogisticRegression), модель опорных векторов (SVC). Для кажлой модели подбирались гиперпараметры. Для оценки качества модели использовали метрику roc-auc.\n",
    "  * Лучший результат показала модель логистической регресии. Со следующими гиперпараметрами: С=4, l1 регуляризация, масштабирования MinMaxScaler(). Значение метрики roc-auc на тренировочной выборке составило 0.93, на тестовой выборке 0.92.\n",
    " \n",
    "\n",
    "Предложения для бизнеса:\n",
    "* Наибольшая текучесть кадров наблюдается для начинающих сотрудников. Следовательно, необходимы дополнительные меры для удержания нового сотрудника в компании, если есть необходимость в сотрудниках.\n",
    "* Так как в компании достаточно хорошая связь между зарплатой и загруженностью, удержать и мотивировать нового сотрудника можно, используя оплату сверхурочной работы. Если нет необходимости в доп работе, возможно, положительную роль в удержании нового сотрудника сыграет хороший соцпакет.\n",
    "* Использованная оценка уровня удовлетворенности сотрудника, выбранная компанией, оказывается одним из основных признаков для предсказания увольнения. Компании имеет смысл использовать эту оценка в дальнейшем.\n",
    "* Уровень удовлетворенности сотрудников связан с оценкой качества работы этого сотрудника, которую дает руководитель. Таким образом, используемая система оценок в компании, работает хорошо.\n",
    "* Для предсказания увольнения оказываются важны признаки, которые опять же указывают на необходимость компании обратить внимание на рядовых новых сотрудников.\n",
    "* Уровень удовлетворенности сотрудников зависит от зарплаты, должности и уровня загруженности сотрудников. Компании стоит обращать внимание на эти параметры. Возможно, как уже было написано выше, необходимы дополнительные меры по поддрежанию сотрудников начального уровня, если нет возможности регулировать эти параметры."
   ]
  }
 ],
 "metadata": {
  "ExecuteTimeLog": [
   {
    "duration": 4,
    "start_time": "2024-08-19T17:44:25.745Z"
   },
   {
    "duration": 1725,
    "start_time": "2024-08-19T17:44:25.751Z"
   },
   {
    "duration": 0,
    "start_time": "2024-08-19T17:44:27.481Z"
   },
   {
    "duration": 0,
    "start_time": "2024-08-19T17:44:27.482Z"
   },
   {
    "duration": 0,
    "start_time": "2024-08-19T17:44:27.483Z"
   },
   {
    "duration": 0,
    "start_time": "2024-08-19T17:44:27.484Z"
   },
   {
    "duration": 0,
    "start_time": "2024-08-19T17:44:27.485Z"
   },
   {
    "duration": 0,
    "start_time": "2024-08-19T17:44:27.486Z"
   },
   {
    "duration": 0,
    "start_time": "2024-08-19T17:44:27.487Z"
   },
   {
    "duration": 0,
    "start_time": "2024-08-19T17:44:27.488Z"
   },
   {
    "duration": 0,
    "start_time": "2024-08-19T17:44:27.489Z"
   },
   {
    "duration": 0,
    "start_time": "2024-08-19T17:44:27.490Z"
   },
   {
    "duration": 0,
    "start_time": "2024-08-19T17:44:27.491Z"
   },
   {
    "duration": 0,
    "start_time": "2024-08-19T17:44:27.492Z"
   },
   {
    "duration": 0,
    "start_time": "2024-08-19T17:44:27.493Z"
   },
   {
    "duration": 0,
    "start_time": "2024-08-19T17:44:27.494Z"
   },
   {
    "duration": 0,
    "start_time": "2024-08-19T17:44:27.495Z"
   },
   {
    "duration": 0,
    "start_time": "2024-08-19T17:44:27.496Z"
   },
   {
    "duration": 0,
    "start_time": "2024-08-19T17:44:27.497Z"
   },
   {
    "duration": 0,
    "start_time": "2024-08-19T17:44:27.498Z"
   },
   {
    "duration": 0,
    "start_time": "2024-08-19T17:44:27.499Z"
   },
   {
    "duration": 0,
    "start_time": "2024-08-19T17:44:27.500Z"
   },
   {
    "duration": 0,
    "start_time": "2024-08-19T17:44:27.501Z"
   },
   {
    "duration": 0,
    "start_time": "2024-08-19T17:44:27.502Z"
   },
   {
    "duration": 0,
    "start_time": "2024-08-19T17:44:27.502Z"
   },
   {
    "duration": 0,
    "start_time": "2024-08-19T17:44:27.503Z"
   },
   {
    "duration": 0,
    "start_time": "2024-08-19T17:44:27.504Z"
   },
   {
    "duration": 0,
    "start_time": "2024-08-19T17:44:27.505Z"
   },
   {
    "duration": 0,
    "start_time": "2024-08-19T17:44:27.507Z"
   },
   {
    "duration": 0,
    "start_time": "2024-08-19T17:44:27.508Z"
   },
   {
    "duration": 0,
    "start_time": "2024-08-19T17:44:27.509Z"
   },
   {
    "duration": 0,
    "start_time": "2024-08-19T17:44:27.509Z"
   },
   {
    "duration": 0,
    "start_time": "2024-08-19T17:44:27.511Z"
   },
   {
    "duration": 0,
    "start_time": "2024-08-19T17:44:27.554Z"
   },
   {
    "duration": 0,
    "start_time": "2024-08-19T17:44:27.554Z"
   },
   {
    "duration": 0,
    "start_time": "2024-08-19T17:44:27.556Z"
   },
   {
    "duration": 0,
    "start_time": "2024-08-19T17:44:27.556Z"
   },
   {
    "duration": 0,
    "start_time": "2024-08-19T17:44:27.558Z"
   },
   {
    "duration": 0,
    "start_time": "2024-08-19T17:44:27.559Z"
   },
   {
    "duration": 0,
    "start_time": "2024-08-19T17:44:27.560Z"
   },
   {
    "duration": 0,
    "start_time": "2024-08-19T17:44:27.561Z"
   },
   {
    "duration": 0,
    "start_time": "2024-08-19T17:44:27.562Z"
   },
   {
    "duration": 0,
    "start_time": "2024-08-19T17:44:27.563Z"
   },
   {
    "duration": 0,
    "start_time": "2024-08-19T17:44:27.564Z"
   },
   {
    "duration": 0,
    "start_time": "2024-08-19T17:44:27.565Z"
   },
   {
    "duration": 0,
    "start_time": "2024-08-19T17:44:27.566Z"
   },
   {
    "duration": 0,
    "start_time": "2024-08-19T17:44:27.567Z"
   },
   {
    "duration": 0,
    "start_time": "2024-08-19T17:44:27.568Z"
   },
   {
    "duration": 0,
    "start_time": "2024-08-19T17:44:27.569Z"
   },
   {
    "duration": 0,
    "start_time": "2024-08-19T17:44:27.570Z"
   },
   {
    "duration": 0,
    "start_time": "2024-08-19T17:44:27.570Z"
   },
   {
    "duration": 0,
    "start_time": "2024-08-19T17:44:27.572Z"
   },
   {
    "duration": 0,
    "start_time": "2024-08-19T17:44:27.573Z"
   },
   {
    "duration": 0,
    "start_time": "2024-08-19T17:44:27.574Z"
   },
   {
    "duration": 0,
    "start_time": "2024-08-19T17:44:27.575Z"
   },
   {
    "duration": 0,
    "start_time": "2024-08-19T17:44:27.576Z"
   },
   {
    "duration": 0,
    "start_time": "2024-08-19T17:44:27.577Z"
   },
   {
    "duration": 0,
    "start_time": "2024-08-19T17:44:27.578Z"
   },
   {
    "duration": 0,
    "start_time": "2024-08-19T17:44:27.579Z"
   },
   {
    "duration": 0,
    "start_time": "2024-08-19T17:44:27.579Z"
   },
   {
    "duration": 0,
    "start_time": "2024-08-19T17:44:27.581Z"
   },
   {
    "duration": 0,
    "start_time": "2024-08-19T17:44:27.581Z"
   },
   {
    "duration": 0,
    "start_time": "2024-08-19T17:44:27.582Z"
   },
   {
    "duration": 0,
    "start_time": "2024-08-19T17:44:27.583Z"
   },
   {
    "duration": 0,
    "start_time": "2024-08-19T17:44:27.584Z"
   },
   {
    "duration": 0,
    "start_time": "2024-08-19T17:44:27.586Z"
   },
   {
    "duration": 0,
    "start_time": "2024-08-19T17:44:27.587Z"
   },
   {
    "duration": 0,
    "start_time": "2024-08-19T17:44:27.588Z"
   },
   {
    "duration": 0,
    "start_time": "2024-08-19T17:44:27.589Z"
   },
   {
    "duration": 0,
    "start_time": "2024-08-19T17:44:27.590Z"
   },
   {
    "duration": 0,
    "start_time": "2024-08-19T17:44:27.653Z"
   },
   {
    "duration": 0,
    "start_time": "2024-08-19T17:44:27.654Z"
   },
   {
    "duration": 0,
    "start_time": "2024-08-19T17:44:27.656Z"
   },
   {
    "duration": 0,
    "start_time": "2024-08-19T17:44:27.657Z"
   },
   {
    "duration": 0,
    "start_time": "2024-08-19T17:44:27.658Z"
   },
   {
    "duration": 0,
    "start_time": "2024-08-19T17:44:27.659Z"
   },
   {
    "duration": 0,
    "start_time": "2024-08-19T17:44:27.660Z"
   },
   {
    "duration": 0,
    "start_time": "2024-08-19T17:44:27.661Z"
   },
   {
    "duration": 0,
    "start_time": "2024-08-19T17:44:27.662Z"
   },
   {
    "duration": 0,
    "start_time": "2024-08-19T17:44:27.669Z"
   },
   {
    "duration": 0,
    "start_time": "2024-08-19T17:44:27.670Z"
   },
   {
    "duration": 0,
    "start_time": "2024-08-19T17:44:27.671Z"
   },
   {
    "duration": 0,
    "start_time": "2024-08-19T17:44:27.673Z"
   },
   {
    "duration": 0,
    "start_time": "2024-08-19T17:44:27.675Z"
   },
   {
    "duration": 0,
    "start_time": "2024-08-19T17:44:27.676Z"
   },
   {
    "duration": 0,
    "start_time": "2024-08-19T17:44:27.678Z"
   },
   {
    "duration": 0,
    "start_time": "2024-08-19T17:44:27.679Z"
   },
   {
    "duration": 0,
    "start_time": "2024-08-19T17:44:27.681Z"
   },
   {
    "duration": 0,
    "start_time": "2024-08-19T17:44:27.683Z"
   },
   {
    "duration": 0,
    "start_time": "2024-08-19T17:44:27.684Z"
   },
   {
    "duration": 0,
    "start_time": "2024-08-19T17:44:27.685Z"
   },
   {
    "duration": 0,
    "start_time": "2024-08-19T17:44:27.687Z"
   },
   {
    "duration": 0,
    "start_time": "2024-08-19T17:44:27.688Z"
   },
   {
    "duration": 0,
    "start_time": "2024-08-19T17:44:27.689Z"
   },
   {
    "duration": 0,
    "start_time": "2024-08-19T17:44:27.690Z"
   },
   {
    "duration": 0,
    "start_time": "2024-08-19T17:44:27.691Z"
   },
   {
    "duration": 62,
    "start_time": "2024-08-20T14:20:22.386Z"
   },
   {
    "duration": 6629,
    "start_time": "2024-08-20T14:27:51.535Z"
   },
   {
    "duration": 3187,
    "start_time": "2024-08-20T14:27:58.167Z"
   },
   {
    "duration": 4003,
    "start_time": "2024-08-20T14:28:01.356Z"
   },
   {
    "duration": 2125,
    "start_time": "2024-08-20T14:28:05.362Z"
   },
   {
    "duration": 464,
    "start_time": "2024-08-20T14:28:07.489Z"
   },
   {
    "duration": 12,
    "start_time": "2024-08-20T14:28:07.955Z"
   },
   {
    "duration": 27,
    "start_time": "2024-08-20T14:28:07.968Z"
   },
   {
    "duration": 14,
    "start_time": "2024-08-20T14:28:07.996Z"
   },
   {
    "duration": 13,
    "start_time": "2024-08-20T14:28:08.012Z"
   },
   {
    "duration": 8,
    "start_time": "2024-08-20T14:28:08.028Z"
   },
   {
    "duration": 19,
    "start_time": "2024-08-20T14:28:08.038Z"
   },
   {
    "duration": 19,
    "start_time": "2024-08-20T14:28:08.059Z"
   },
   {
    "duration": 11,
    "start_time": "2024-08-20T14:28:08.080Z"
   },
   {
    "duration": 11,
    "start_time": "2024-08-20T14:28:08.092Z"
   },
   {
    "duration": 2,
    "start_time": "2024-08-20T14:28:08.105Z"
   },
   {
    "duration": 16,
    "start_time": "2024-08-20T14:28:08.108Z"
   },
   {
    "duration": 12,
    "start_time": "2024-08-20T14:28:08.126Z"
   },
   {
    "duration": 13,
    "start_time": "2024-08-20T14:28:08.140Z"
   },
   {
    "duration": 10,
    "start_time": "2024-08-20T14:28:08.154Z"
   },
   {
    "duration": 11,
    "start_time": "2024-08-20T14:28:08.165Z"
   },
   {
    "duration": 3,
    "start_time": "2024-08-20T14:28:08.178Z"
   },
   {
    "duration": 157,
    "start_time": "2024-08-20T14:28:08.182Z"
   },
   {
    "duration": 153,
    "start_time": "2024-08-20T14:28:08.341Z"
   },
   {
    "duration": 172,
    "start_time": "2024-08-20T14:28:08.495Z"
   },
   {
    "duration": 207,
    "start_time": "2024-08-20T14:28:08.668Z"
   },
   {
    "duration": 820,
    "start_time": "2024-08-20T14:28:08.877Z"
   },
   {
    "duration": 117,
    "start_time": "2024-08-20T14:28:09.698Z"
   },
   {
    "duration": 166,
    "start_time": "2024-08-20T14:28:09.819Z"
   },
   {
    "duration": 182,
    "start_time": "2024-08-20T14:28:09.987Z"
   },
   {
    "duration": 701,
    "start_time": "2024-08-20T14:28:10.171Z"
   },
   {
    "duration": 168,
    "start_time": "2024-08-20T14:28:10.873Z"
   },
   {
    "duration": 289,
    "start_time": "2024-08-20T14:28:11.042Z"
   },
   {
    "duration": 1199,
    "start_time": "2024-08-20T14:28:11.332Z"
   },
   {
    "duration": 5,
    "start_time": "2024-08-20T14:28:12.532Z"
   },
   {
    "duration": 35,
    "start_time": "2024-08-20T14:28:12.538Z"
   },
   {
    "duration": 8,
    "start_time": "2024-08-20T14:28:12.574Z"
   },
   {
    "duration": 4,
    "start_time": "2024-08-20T14:28:12.583Z"
   },
   {
    "duration": 9,
    "start_time": "2024-08-20T14:28:12.588Z"
   },
   {
    "duration": 5,
    "start_time": "2024-08-20T14:28:12.598Z"
   },
   {
    "duration": 7,
    "start_time": "2024-08-20T14:28:12.604Z"
   },
   {
    "duration": 26,
    "start_time": "2024-08-20T14:28:12.613Z"
   },
   {
    "duration": 21,
    "start_time": "2024-08-20T14:28:12.641Z"
   },
   {
    "duration": 28,
    "start_time": "2024-08-20T14:28:12.663Z"
   },
   {
    "duration": 159359,
    "start_time": "2024-08-20T14:28:12.693Z"
   },
   {
    "duration": 24,
    "start_time": "2024-08-20T14:30:52.053Z"
   },
   {
    "duration": 89,
    "start_time": "2024-08-20T14:30:52.079Z"
   },
   {
    "duration": 3,
    "start_time": "2024-08-20T14:30:52.170Z"
   },
   {
    "duration": 31,
    "start_time": "2024-08-20T14:30:52.174Z"
   },
   {
    "duration": 4,
    "start_time": "2024-08-20T14:30:52.207Z"
   },
   {
    "duration": 20,
    "start_time": "2024-08-20T14:30:52.213Z"
   },
   {
    "duration": 1430372,
    "start_time": "2024-08-20T14:30:52.235Z"
   },
   {
    "duration": 3,
    "start_time": "2024-08-20T14:54:42.609Z"
   },
   {
    "duration": 70,
    "start_time": "2024-08-20T14:54:42.613Z"
   },
   {
    "duration": 274,
    "start_time": "2024-08-20T14:54:42.685Z"
   },
   {
    "duration": 0,
    "start_time": "2024-08-20T14:54:42.962Z"
   },
   {
    "duration": 0,
    "start_time": "2024-08-20T14:54:42.964Z"
   },
   {
    "duration": 0,
    "start_time": "2024-08-20T14:54:42.966Z"
   },
   {
    "duration": 0,
    "start_time": "2024-08-20T14:54:42.967Z"
   },
   {
    "duration": 0,
    "start_time": "2024-08-20T14:54:42.968Z"
   },
   {
    "duration": 0,
    "start_time": "2024-08-20T14:54:42.969Z"
   },
   {
    "duration": 0,
    "start_time": "2024-08-20T14:54:42.971Z"
   },
   {
    "duration": 0,
    "start_time": "2024-08-20T14:54:42.972Z"
   },
   {
    "duration": 0,
    "start_time": "2024-08-20T14:54:42.973Z"
   },
   {
    "duration": 0,
    "start_time": "2024-08-20T14:54:42.974Z"
   },
   {
    "duration": 0,
    "start_time": "2024-08-20T14:54:42.975Z"
   },
   {
    "duration": 0,
    "start_time": "2024-08-20T14:54:42.976Z"
   },
   {
    "duration": 0,
    "start_time": "2024-08-20T14:54:42.978Z"
   },
   {
    "duration": 0,
    "start_time": "2024-08-20T14:54:42.979Z"
   },
   {
    "duration": 0,
    "start_time": "2024-08-20T14:54:42.980Z"
   },
   {
    "duration": 0,
    "start_time": "2024-08-20T14:54:42.981Z"
   },
   {
    "duration": 0,
    "start_time": "2024-08-20T14:54:42.982Z"
   },
   {
    "duration": 0,
    "start_time": "2024-08-20T14:54:42.983Z"
   },
   {
    "duration": 0,
    "start_time": "2024-08-20T14:54:42.984Z"
   },
   {
    "duration": 0,
    "start_time": "2024-08-20T14:54:42.986Z"
   },
   {
    "duration": 0,
    "start_time": "2024-08-20T14:54:42.987Z"
   },
   {
    "duration": 0,
    "start_time": "2024-08-20T14:54:42.988Z"
   },
   {
    "duration": 0,
    "start_time": "2024-08-20T14:54:42.989Z"
   },
   {
    "duration": 0,
    "start_time": "2024-08-20T14:54:43.037Z"
   },
   {
    "duration": 0,
    "start_time": "2024-08-20T14:54:43.039Z"
   },
   {
    "duration": 0,
    "start_time": "2024-08-20T14:54:43.040Z"
   },
   {
    "duration": 0,
    "start_time": "2024-08-20T14:54:43.041Z"
   },
   {
    "duration": 0,
    "start_time": "2024-08-20T14:54:43.042Z"
   },
   {
    "duration": 0,
    "start_time": "2024-08-20T14:54:43.043Z"
   },
   {
    "duration": 0,
    "start_time": "2024-08-20T14:54:43.044Z"
   },
   {
    "duration": 0,
    "start_time": "2024-08-20T14:54:43.045Z"
   },
   {
    "duration": 0,
    "start_time": "2024-08-20T14:54:43.046Z"
   },
   {
    "duration": 0,
    "start_time": "2024-08-20T14:54:43.047Z"
   },
   {
    "duration": 0,
    "start_time": "2024-08-20T14:54:43.048Z"
   },
   {
    "duration": 0,
    "start_time": "2024-08-20T14:54:43.049Z"
   },
   {
    "duration": 0,
    "start_time": "2024-08-20T14:54:43.050Z"
   },
   {
    "duration": 0,
    "start_time": "2024-08-20T14:54:43.051Z"
   },
   {
    "duration": 0,
    "start_time": "2024-08-20T14:54:43.052Z"
   },
   {
    "duration": 0,
    "start_time": "2024-08-20T14:54:43.053Z"
   },
   {
    "duration": 0,
    "start_time": "2024-08-20T14:54:43.054Z"
   },
   {
    "duration": 0,
    "start_time": "2024-08-20T14:54:43.055Z"
   },
   {
    "duration": 0,
    "start_time": "2024-08-20T14:54:43.056Z"
   },
   {
    "duration": 0,
    "start_time": "2024-08-20T14:54:43.058Z"
   },
   {
    "duration": 0,
    "start_time": "2024-08-20T14:54:43.059Z"
   },
   {
    "duration": 0,
    "start_time": "2024-08-20T14:54:43.060Z"
   },
   {
    "duration": 0,
    "start_time": "2024-08-20T14:54:43.061Z"
   },
   {
    "duration": 7681,
    "start_time": "2024-08-20T15:00:07.894Z"
   },
   {
    "duration": 6212,
    "start_time": "2024-08-20T15:00:15.578Z"
   },
   {
    "duration": 6148,
    "start_time": "2024-08-20T15:00:21.792Z"
   },
   {
    "duration": 20333,
    "start_time": "2024-08-20T15:00:27.943Z"
   },
   {
    "duration": 5790,
    "start_time": "2024-08-20T15:00:48.278Z"
   },
   {
    "duration": 587,
    "start_time": "2024-08-20T15:00:54.070Z"
   },
   {
    "duration": 81,
    "start_time": "2024-08-20T15:00:54.659Z"
   },
   {
    "duration": 17,
    "start_time": "2024-08-20T15:00:54.743Z"
   },
   {
    "duration": 96,
    "start_time": "2024-08-20T15:00:54.761Z"
   },
   {
    "duration": 78,
    "start_time": "2024-08-20T15:00:54.861Z"
   },
   {
    "duration": 13,
    "start_time": "2024-08-20T15:00:54.947Z"
   },
   {
    "duration": 80,
    "start_time": "2024-08-20T15:00:54.962Z"
   },
   {
    "duration": 16,
    "start_time": "2024-08-20T15:00:55.044Z"
   },
   {
    "duration": 17,
    "start_time": "2024-08-20T15:00:55.062Z"
   },
   {
    "duration": 83,
    "start_time": "2024-08-20T15:00:55.081Z"
   },
   {
    "duration": 71,
    "start_time": "2024-08-20T15:00:55.166Z"
   },
   {
    "duration": 15,
    "start_time": "2024-08-20T15:00:55.240Z"
   },
   {
    "duration": 15,
    "start_time": "2024-08-20T15:00:55.257Z"
   },
   {
    "duration": 11,
    "start_time": "2024-08-20T15:00:55.274Z"
   },
   {
    "duration": 60,
    "start_time": "2024-08-20T15:00:55.286Z"
   },
   {
    "duration": 15,
    "start_time": "2024-08-20T15:00:55.348Z"
   },
   {
    "duration": 3,
    "start_time": "2024-08-20T15:00:55.365Z"
   },
   {
    "duration": 408,
    "start_time": "2024-08-20T15:00:55.370Z"
   },
   {
    "duration": 599,
    "start_time": "2024-08-20T15:00:55.779Z"
   },
   {
    "duration": 470,
    "start_time": "2024-08-20T15:00:56.380Z"
   },
   {
    "duration": 613,
    "start_time": "2024-08-20T15:00:56.852Z"
   },
   {
    "duration": 2074,
    "start_time": "2024-08-20T15:00:57.467Z"
   },
   {
    "duration": 620,
    "start_time": "2024-08-20T15:00:59.547Z"
   },
   {
    "duration": 790,
    "start_time": "2024-08-20T15:01:00.169Z"
   },
   {
    "duration": 499,
    "start_time": "2024-08-20T15:01:00.960Z"
   },
   {
    "duration": 2016,
    "start_time": "2024-08-20T15:01:01.461Z"
   },
   {
    "duration": 590,
    "start_time": "2024-08-20T15:01:03.479Z"
   },
   {
    "duration": 904,
    "start_time": "2024-08-20T15:01:04.071Z"
   },
   {
    "duration": 2222,
    "start_time": "2024-08-20T15:01:04.977Z"
   },
   {
    "duration": 8,
    "start_time": "2024-08-20T15:01:07.239Z"
   },
   {
    "duration": 53,
    "start_time": "2024-08-20T15:01:07.249Z"
   },
   {
    "duration": 14,
    "start_time": "2024-08-20T15:01:07.339Z"
   },
   {
    "duration": 6,
    "start_time": "2024-08-20T15:01:07.355Z"
   },
   {
    "duration": 76,
    "start_time": "2024-08-20T15:01:07.363Z"
   },
   {
    "duration": 15,
    "start_time": "2024-08-20T15:01:07.441Z"
   },
   {
    "duration": 23,
    "start_time": "2024-08-20T15:01:07.458Z"
   },
   {
    "duration": 85,
    "start_time": "2024-08-20T15:01:07.484Z"
   },
   {
    "duration": 13,
    "start_time": "2024-08-20T15:01:07.572Z"
   },
   {
    "duration": 7,
    "start_time": "2024-08-20T15:01:07.638Z"
   },
   {
    "duration": 419192,
    "start_time": "2024-08-20T15:01:07.648Z"
   },
   {
    "duration": 34,
    "start_time": "2024-08-20T15:08:06.842Z"
   },
   {
    "duration": 196,
    "start_time": "2024-08-20T15:08:06.878Z"
   },
   {
    "duration": 67,
    "start_time": "2024-08-20T15:08:07.076Z"
   },
   {
    "duration": 15,
    "start_time": "2024-08-20T15:08:07.145Z"
   },
   {
    "duration": 39,
    "start_time": "2024-08-20T15:08:07.163Z"
   },
   {
    "duration": 34,
    "start_time": "2024-08-20T15:08:07.241Z"
   },
   {
    "duration": 1812941,
    "start_time": "2024-08-20T15:08:07.277Z"
   },
   {
    "duration": 3,
    "start_time": "2024-08-20T15:38:20.220Z"
   },
   {
    "duration": 29,
    "start_time": "2024-08-20T15:38:20.225Z"
   },
   {
    "duration": 453,
    "start_time": "2024-08-20T15:38:20.256Z"
   },
   {
    "duration": 12,
    "start_time": "2024-08-20T15:38:20.711Z"
   },
   {
    "duration": 48,
    "start_time": "2024-08-20T15:38:20.725Z"
   },
   {
    "duration": 30,
    "start_time": "2024-08-20T15:38:20.775Z"
   },
   {
    "duration": 69,
    "start_time": "2024-08-20T15:38:20.807Z"
   },
   {
    "duration": 23,
    "start_time": "2024-08-20T15:38:20.877Z"
   },
   {
    "duration": 34,
    "start_time": "2024-08-20T15:38:20.902Z"
   },
   {
    "duration": 34,
    "start_time": "2024-08-20T15:38:20.938Z"
   },
   {
    "duration": 22,
    "start_time": "2024-08-20T15:38:20.974Z"
   },
   {
    "duration": 271,
    "start_time": "2024-08-20T15:38:20.998Z"
   },
   {
    "duration": 241,
    "start_time": "2024-08-20T15:38:21.271Z"
   },
   {
    "duration": 274,
    "start_time": "2024-08-20T15:38:21.514Z"
   },
   {
    "duration": 764,
    "start_time": "2024-08-20T15:38:21.790Z"
   },
   {
    "duration": 1037,
    "start_time": "2024-08-20T15:38:22.556Z"
   },
   {
    "duration": 698,
    "start_time": "2024-08-20T15:38:23.596Z"
   },
   {
    "duration": 323,
    "start_time": "2024-08-20T15:38:24.295Z"
   },
   {
    "duration": 293,
    "start_time": "2024-08-20T15:38:24.619Z"
   },
   {
    "duration": 315,
    "start_time": "2024-08-20T15:38:24.913Z"
   },
   {
    "duration": 13,
    "start_time": "2024-08-20T15:38:25.238Z"
   },
   {
    "duration": 7,
    "start_time": "2024-08-20T15:38:25.252Z"
   },
   {
    "duration": 8,
    "start_time": "2024-08-20T15:38:25.260Z"
   },
   {
    "duration": 7,
    "start_time": "2024-08-20T15:38:25.270Z"
   },
   {
    "duration": 8,
    "start_time": "2024-08-20T15:38:25.278Z"
   },
   {
    "duration": 495,
    "start_time": "2024-08-20T15:38:25.288Z"
   },
   {
    "duration": 0,
    "start_time": "2024-08-20T15:38:25.785Z"
   },
   {
    "duration": 0,
    "start_time": "2024-08-20T15:38:25.786Z"
   },
   {
    "duration": 0,
    "start_time": "2024-08-20T15:38:25.787Z"
   },
   {
    "duration": 0,
    "start_time": "2024-08-20T15:38:25.788Z"
   },
   {
    "duration": 0,
    "start_time": "2024-08-20T15:38:25.789Z"
   },
   {
    "duration": 0,
    "start_time": "2024-08-20T15:38:25.790Z"
   },
   {
    "duration": 0,
    "start_time": "2024-08-20T15:38:25.791Z"
   },
   {
    "duration": 0,
    "start_time": "2024-08-20T15:38:25.792Z"
   },
   {
    "duration": 0,
    "start_time": "2024-08-20T15:38:25.793Z"
   },
   {
    "duration": 0,
    "start_time": "2024-08-20T15:38:25.794Z"
   },
   {
    "duration": 0,
    "start_time": "2024-08-20T15:38:25.795Z"
   },
   {
    "duration": 0,
    "start_time": "2024-08-20T15:38:25.795Z"
   },
   {
    "duration": 0,
    "start_time": "2024-08-20T15:38:25.796Z"
   },
   {
    "duration": 0,
    "start_time": "2024-08-20T15:38:25.797Z"
   },
   {
    "duration": 0,
    "start_time": "2024-08-20T15:38:25.798Z"
   },
   {
    "duration": 0,
    "start_time": "2024-08-20T15:38:25.799Z"
   },
   {
    "duration": 0,
    "start_time": "2024-08-20T15:38:25.800Z"
   },
   {
    "duration": 0,
    "start_time": "2024-08-20T15:38:25.801Z"
   },
   {
    "duration": 0,
    "start_time": "2024-08-20T15:38:25.802Z"
   },
   {
    "duration": 0,
    "start_time": "2024-08-20T15:38:25.803Z"
   },
   {
    "duration": 0,
    "start_time": "2024-08-20T15:38:25.804Z"
   },
   {
    "duration": 0,
    "start_time": "2024-08-20T15:38:25.845Z"
   },
   {
    "duration": 0,
    "start_time": "2024-08-20T15:38:25.846Z"
   },
   {
    "duration": 344,
    "start_time": "2024-08-20T15:49:22.809Z"
   },
   {
    "duration": 13,
    "start_time": "2024-08-20T15:51:03.282Z"
   },
   {
    "duration": 329,
    "start_time": "2024-08-20T15:51:18.672Z"
   },
   {
    "duration": 439,
    "start_time": "2024-08-20T15:51:42.965Z"
   },
   {
    "duration": 8,
    "start_time": "2024-08-20T15:51:58.588Z"
   },
   {
    "duration": 343,
    "start_time": "2024-08-20T15:51:58.598Z"
   },
   {
    "duration": 10,
    "start_time": "2024-08-20T15:51:58.951Z"
   },
   {
    "duration": 4,
    "start_time": "2024-08-20T15:51:58.962Z"
   },
   {
    "duration": 10,
    "start_time": "2024-08-20T15:51:58.967Z"
   },
   {
    "duration": 135,
    "start_time": "2024-08-20T15:51:58.978Z"
   },
   {
    "duration": 3,
    "start_time": "2024-08-20T15:51:59.115Z"
   },
   {
    "duration": 30,
    "start_time": "2024-08-20T15:51:59.119Z"
   },
   {
    "duration": 16,
    "start_time": "2024-08-20T15:51:59.151Z"
   },
   {
    "duration": 249,
    "start_time": "2024-08-20T15:51:59.168Z"
   },
   {
    "duration": 1186,
    "start_time": "2024-08-20T15:51:59.419Z"
   },
   {
    "duration": 11,
    "start_time": "2024-08-20T15:52:00.607Z"
   },
   {
    "duration": 23,
    "start_time": "2024-08-20T15:52:00.619Z"
   },
   {
    "duration": 49,
    "start_time": "2024-08-20T15:52:00.643Z"
   },
   {
    "duration": 31,
    "start_time": "2024-08-20T15:52:00.694Z"
   },
   {
    "duration": 90216,
    "start_time": "2024-08-20T15:52:00.727Z"
   },
   {
    "duration": 28,
    "start_time": "2024-08-20T15:53:30.944Z"
   },
   {
    "duration": 39,
    "start_time": "2024-08-20T15:53:30.974Z"
   },
   {
    "duration": 10,
    "start_time": "2024-08-20T15:53:31.014Z"
   },
   {
    "duration": 7377,
    "start_time": "2024-08-20T15:53:31.025Z"
   },
   {
    "duration": 3,
    "start_time": "2024-08-20T15:53:38.404Z"
   },
   {
    "duration": 42,
    "start_time": "2024-08-20T15:53:38.409Z"
   },
   {
    "duration": 301,
    "start_time": "2024-08-20T15:53:38.452Z"
   }
  ],
  "kernelspec": {
   "display_name": "Python 3 (ipykernel)",
   "language": "python",
   "name": "python3"
  },
  "language_info": {
   "codemirror_mode": {
    "name": "ipython",
    "version": 3
   },
   "file_extension": ".py",
   "mimetype": "text/x-python",
   "name": "python",
   "nbconvert_exporter": "python",
   "pygments_lexer": "ipython3",
   "version": "3.9.18"
  },
  "toc": {
   "base_numbering": 1,
   "nav_menu": {},
   "number_sections": true,
   "sideBar": true,
   "skip_h1_title": true,
   "title_cell": "Table of Contents",
   "title_sidebar": "Contents",
   "toc_cell": false,
   "toc_position": {
    "height": "calc(100% - 180px)",
    "left": "10px",
    "top": "150px",
    "width": "165px"
   },
   "toc_section_display": true,
   "toc_window_display": true
  }
 },
 "nbformat": 4,
 "nbformat_minor": 5
}
